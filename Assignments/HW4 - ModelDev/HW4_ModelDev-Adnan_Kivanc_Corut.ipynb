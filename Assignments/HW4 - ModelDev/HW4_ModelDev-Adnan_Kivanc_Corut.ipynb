{
 "metadata": {
  "language_info": {
   "codemirror_mode": {
    "name": "ipython",
    "version": 3
   },
   "file_extension": ".py",
   "mimetype": "text/x-python",
   "name": "python",
   "nbconvert_exporter": "python",
   "pygments_lexer": "ipython3",
   "version": "3.8.5-final"
  },
  "orig_nbformat": 2,
  "kernelspec": {
   "name": "Python 3.8.5 64-bit ('data_mining': conda)",
   "display_name": "Python 3.8.5 64-bit ('data_mining': conda)",
   "metadata": {
    "interpreter": {
     "hash": "d8d30bb206af5c7245aed6fe48b0e3a9c868e58242e92b7c76d66e5e5663c4bc"
    }
   }
  }
 },
 "nbformat": 4,
 "nbformat_minor": 2,
 "cells": [
  {
   "source": [
    "# CSCI6380 Data Mining: Assignment #4\n",
    "## Adnan Kivanc Corut"
   ],
   "cell_type": "markdown",
   "metadata": {}
  },
  {
   "source": [
    "### Importing Libraries"
   ],
   "cell_type": "markdown",
   "metadata": {}
  },
  {
   "cell_type": "code",
   "execution_count": 82,
   "metadata": {},
   "outputs": [],
   "source": [
    "import pandas as pd\n",
    "import numpy as np\n",
    "import math\n",
    "import matplotlib.pyplot as plt\n",
    "import seaborn as sns\n",
    "from sklearn.model_selection import train_test_split\n",
    "from sklearn.ensemble import RandomForestClassifier\n",
    "from sklearn.tree import DecisionTreeClassifier\n",
    "from sklearn.naive_bayes import GaussianNB \n",
    "from sklearn.linear_model import LogisticRegression\n",
    "from sklearn.ensemble import RandomForestRegressor\n",
    "from sklearn.tree import DecisionTreeRegressor\n",
    "from sklearn.preprocessing import MinMaxScaler\n",
    "from sklearn.model_selection import StratifiedKFold\n",
    "from sklearn.metrics import cohen_kappa_score\n",
    "from sklearn.metrics import confusion_matrix \n",
    "from sklearn.metrics import classification_report\n",
    "from sklearn.pipeline import Pipeline\n",
    "from sklearn.preprocessing import StandardScaler, RobustScaler, QuantileTransformer\n",
    "from sklearn.metrics import accuracy_score,recall_score,precision_score,f1_score\n",
    "from sklearn.feature_selection import SelectKBest, f_regression\n",
    "from sklearn.decomposition import PCA\n",
    "from sklearn.model_selection import GridSearchCV\n",
    "from sklearn import decomposition, datasets\n",
    "from sklearn import preprocessing\n",
    "from sklearn import tree \n",
    "from sklearn.feature_selection import RFE\n",
    "from sklearn.svm import LinearSVC\n",
    "from sklearn import svm\n",
    "from sklearn import metrics\n",
    "from scipy import stats\n",
    "from scipy.stats import ttest_rel, ttest_ind\n",
    "from sklearn.metrics import confusion_matrix \n",
    "from sklearn.tree import DecisionTreeClassifier \n",
    "from sklearn import model_selection\n",
    "from sklearn.linear_model import LinearRegression, LogisticRegression"
   ]
  },
  {
   "source": [
    "## Breast Cancer"
   ],
   "cell_type": "markdown",
   "metadata": {}
  },
  {
   "source": [
    "### Data Preperation"
   ],
   "cell_type": "markdown",
   "metadata": {}
  },
  {
   "cell_type": "code",
   "execution_count": 11,
   "metadata": {},
   "outputs": [
    {
     "output_type": "execute_result",
     "data": {
      "text/plain": [
       "         ID  radiusMean  radiusStandardError  radiusLargest  textureMean  \\\n",
       "0    842302       17.99                10.38         122.80       1001.0   \n",
       "1    842517       20.57                17.77         132.90       1326.0   \n",
       "2  84300903       19.69                21.25         130.00       1203.0   \n",
       "3  84348301       11.42                20.38          77.58        386.1   \n",
       "4  84358402       20.29                14.34         135.10       1297.0   \n",
       "\n",
       "   textureStandardError  textureLargest  perimeterMean  \\\n",
       "0               0.11840         0.27760         0.3001   \n",
       "1               0.08474         0.07864         0.0869   \n",
       "2               0.10960         0.15990         0.1974   \n",
       "3               0.14250         0.28390         0.2414   \n",
       "4               0.10030         0.13280         0.1980   \n",
       "\n",
       "   perimeterStandardError  perimeterLargest  ...  concavePointsMean  \\\n",
       "0                 0.14710            0.2419  ...              17.33   \n",
       "1                 0.07017            0.1812  ...              23.41   \n",
       "2                 0.12790            0.2069  ...              25.53   \n",
       "3                 0.10520            0.2597  ...              26.50   \n",
       "4                 0.10430            0.1809  ...              16.67   \n",
       "\n",
       "   concavePointsStandardError  concavePointsLargest  symmetryMean  \\\n",
       "0                      184.60                2019.0        0.1622   \n",
       "1                      158.80                1956.0        0.1238   \n",
       "2                      152.50                1709.0        0.1444   \n",
       "3                       98.87                 567.7        0.2098   \n",
       "4                      152.20                1575.0        0.1374   \n",
       "\n",
       "   symmetryStandardError  symmetryLargest  fractalDimensionMean  \\\n",
       "0                 0.6656           0.7119                0.2654   \n",
       "1                 0.1866           0.2416                0.1860   \n",
       "2                 0.4245           0.4504                0.2430   \n",
       "3                 0.8663           0.6869                0.2575   \n",
       "4                 0.2050           0.4000                0.1625   \n",
       "\n",
       "   fractalDimensionStandardError  fractalDimensionLargest  diagnosis  \n",
       "0                         0.4601                  0.11890          M  \n",
       "1                         0.2750                  0.08902          M  \n",
       "2                         0.3613                  0.08758          M  \n",
       "3                         0.6638                  0.17300          M  \n",
       "4                         0.2364                  0.07678          M  \n",
       "\n",
       "[5 rows x 32 columns]"
      ],
      "text/html": "<div>\n<style scoped>\n    .dataframe tbody tr th:only-of-type {\n        vertical-align: middle;\n    }\n\n    .dataframe tbody tr th {\n        vertical-align: top;\n    }\n\n    .dataframe thead th {\n        text-align: right;\n    }\n</style>\n<table border=\"1\" class=\"dataframe\">\n  <thead>\n    <tr style=\"text-align: right;\">\n      <th></th>\n      <th>ID</th>\n      <th>radiusMean</th>\n      <th>radiusStandardError</th>\n      <th>radiusLargest</th>\n      <th>textureMean</th>\n      <th>textureStandardError</th>\n      <th>textureLargest</th>\n      <th>perimeterMean</th>\n      <th>perimeterStandardError</th>\n      <th>perimeterLargest</th>\n      <th>...</th>\n      <th>concavePointsMean</th>\n      <th>concavePointsStandardError</th>\n      <th>concavePointsLargest</th>\n      <th>symmetryMean</th>\n      <th>symmetryStandardError</th>\n      <th>symmetryLargest</th>\n      <th>fractalDimensionMean</th>\n      <th>fractalDimensionStandardError</th>\n      <th>fractalDimensionLargest</th>\n      <th>diagnosis</th>\n    </tr>\n  </thead>\n  <tbody>\n    <tr>\n      <th>0</th>\n      <td>842302</td>\n      <td>17.99</td>\n      <td>10.38</td>\n      <td>122.80</td>\n      <td>1001.0</td>\n      <td>0.11840</td>\n      <td>0.27760</td>\n      <td>0.3001</td>\n      <td>0.14710</td>\n      <td>0.2419</td>\n      <td>...</td>\n      <td>17.33</td>\n      <td>184.60</td>\n      <td>2019.0</td>\n      <td>0.1622</td>\n      <td>0.6656</td>\n      <td>0.7119</td>\n      <td>0.2654</td>\n      <td>0.4601</td>\n      <td>0.11890</td>\n      <td>M</td>\n    </tr>\n    <tr>\n      <th>1</th>\n      <td>842517</td>\n      <td>20.57</td>\n      <td>17.77</td>\n      <td>132.90</td>\n      <td>1326.0</td>\n      <td>0.08474</td>\n      <td>0.07864</td>\n      <td>0.0869</td>\n      <td>0.07017</td>\n      <td>0.1812</td>\n      <td>...</td>\n      <td>23.41</td>\n      <td>158.80</td>\n      <td>1956.0</td>\n      <td>0.1238</td>\n      <td>0.1866</td>\n      <td>0.2416</td>\n      <td>0.1860</td>\n      <td>0.2750</td>\n      <td>0.08902</td>\n      <td>M</td>\n    </tr>\n    <tr>\n      <th>2</th>\n      <td>84300903</td>\n      <td>19.69</td>\n      <td>21.25</td>\n      <td>130.00</td>\n      <td>1203.0</td>\n      <td>0.10960</td>\n      <td>0.15990</td>\n      <td>0.1974</td>\n      <td>0.12790</td>\n      <td>0.2069</td>\n      <td>...</td>\n      <td>25.53</td>\n      <td>152.50</td>\n      <td>1709.0</td>\n      <td>0.1444</td>\n      <td>0.4245</td>\n      <td>0.4504</td>\n      <td>0.2430</td>\n      <td>0.3613</td>\n      <td>0.08758</td>\n      <td>M</td>\n    </tr>\n    <tr>\n      <th>3</th>\n      <td>84348301</td>\n      <td>11.42</td>\n      <td>20.38</td>\n      <td>77.58</td>\n      <td>386.1</td>\n      <td>0.14250</td>\n      <td>0.28390</td>\n      <td>0.2414</td>\n      <td>0.10520</td>\n      <td>0.2597</td>\n      <td>...</td>\n      <td>26.50</td>\n      <td>98.87</td>\n      <td>567.7</td>\n      <td>0.2098</td>\n      <td>0.8663</td>\n      <td>0.6869</td>\n      <td>0.2575</td>\n      <td>0.6638</td>\n      <td>0.17300</td>\n      <td>M</td>\n    </tr>\n    <tr>\n      <th>4</th>\n      <td>84358402</td>\n      <td>20.29</td>\n      <td>14.34</td>\n      <td>135.10</td>\n      <td>1297.0</td>\n      <td>0.10030</td>\n      <td>0.13280</td>\n      <td>0.1980</td>\n      <td>0.10430</td>\n      <td>0.1809</td>\n      <td>...</td>\n      <td>16.67</td>\n      <td>152.20</td>\n      <td>1575.0</td>\n      <td>0.1374</td>\n      <td>0.2050</td>\n      <td>0.4000</td>\n      <td>0.1625</td>\n      <td>0.2364</td>\n      <td>0.07678</td>\n      <td>M</td>\n    </tr>\n  </tbody>\n</table>\n<p>5 rows × 32 columns</p>\n</div>"
     },
     "metadata": {},
     "execution_count": 11
    }
   ],
   "source": [
    "df_cancer = pd.read_csv(\"/Users/kivanc/DataMining-ML/Data/ModelDev/breast_cancer.csv\", sep=',')\n",
    "df_cancer.head()"
   ]
  },
  {
   "cell_type": "code",
   "execution_count": 12,
   "metadata": {},
   "outputs": [
    {
     "output_type": "execute_result",
     "data": {
      "text/plain": [
       "0    M\n",
       "1    M\n",
       "2    M\n",
       "3    M\n",
       "4    M\n",
       "Name: diagnosis, dtype: object"
      ]
     },
     "metadata": {},
     "execution_count": 12
    }
   ],
   "source": [
    "X_cancer = df_cancer.iloc[:, 1:-1]\n",
    "y_cancer = df_cancer.iloc[:, -1]"
   ]
  },
  {
   "source": [
    "### Train Test Split"
   ],
   "cell_type": "markdown",
   "metadata": {}
  },
  {
   "cell_type": "code",
   "execution_count": 48,
   "metadata": {},
   "outputs": [],
   "source": [
    "X_train, X_test, y_train, y_test = train_test_split(X_cancer, y_cancer, test_size = .25, random_state= 42)"
   ]
  },
  {
   "source": [
    "### Grid Search - Breast Cancer"
   ],
   "cell_type": "markdown",
   "metadata": {}
  },
  {
   "source": [
    "#### Decision Tree Classifier"
   ],
   "cell_type": "markdown",
   "metadata": {}
  },
  {
   "cell_type": "code",
   "execution_count": 49,
   "metadata": {},
   "outputs": [
    {
     "output_type": "stream",
     "name": "stdout",
     "text": [
      "Fitting 10 folds for each of 1080 candidates, totalling 10800 fits\n",
      "[Parallel(n_jobs=4)]: Using backend LokyBackend with 4 concurrent workers.\n",
      "[Parallel(n_jobs=4)]: Done  88 tasks      | elapsed:    1.2s\n",
      "[Parallel(n_jobs=4)]: Done 4616 tasks      | elapsed:   15.6s\n",
      "[Parallel(n_jobs=4)]: Done 10800 out of 10800 | elapsed:   36.0s finished\n"
     ]
    },
    {
     "output_type": "execute_result",
     "data": {
      "text/plain": [
       "{'classifier__criterion': 'gini',\n",
       " 'classifier__max_depth': 12,\n",
       " 'reduce_dim': PCA(n_components=5),\n",
       " 'reduce_dim__n_components': 5,\n",
       " 'scaler': MinMaxScaler()}"
      ]
     },
     "metadata": {},
     "execution_count": 49
    }
   ],
   "source": [
    "pca = PCA()\n",
    "dt_clf = tree.DecisionTreeClassifier()\n",
    "\n",
    "pipe_dt = Pipeline([\n",
    "        ('scaler', StandardScaler()),\n",
    "        ('reduce_dim', PCA()),\n",
    "        ('classifier', dt_clf)\n",
    "        ])\n",
    "\n",
    "# (the number of features in X + 1)\n",
    "n_features_to_test = list(range(1,X_cancer.shape[1]+1,1))\n",
    "scalers_to_test = [StandardScaler(), RobustScaler(), MinMaxScaler()]\n",
    "\n",
    "criterion = ['gini', 'entropy']\n",
    "max_depth = [2,4,6,8,10,12]\n",
    "\n",
    "\n",
    "\n",
    "params_dt = {'scaler': scalers_to_test,\n",
    "        'reduce_dim': [PCA()],\n",
    "        'reduce_dim__n_components': n_features_to_test,\n",
    "        'classifier__criterion': criterion,\n",
    "        'classifier__max_depth': max_depth}\n",
    "\n",
    "gridsearch_dt = GridSearchCV(pipe_dt, params_dt, cv = 10, verbose=1, n_jobs=4)\n",
    "gridsearch_dt.fit(train_features, train_labels)\n",
    "gridsearch_dt.best_params_"
   ]
  },
  {
   "cell_type": "code",
   "execution_count": null,
   "metadata": {},
   "outputs": [],
   "source": [
    "#### Random Forest Classifier"
   ]
  },
  {
   "cell_type": "code",
   "execution_count": 127,
   "metadata": {},
   "outputs": [
    {
     "output_type": "stream",
     "name": "stdout",
     "text": [
      "Fitting 10 folds for each of 4320 candidates, totalling 43200 fits\n",
      "[Parallel(n_jobs=5)]: Using backend LokyBackend with 5 concurrent workers.\n",
      "[Parallel(n_jobs=5)]: Done 150 tasks      | elapsed:    0.6s\n",
      "[Parallel(n_jobs=5)]: Done 1780 tasks      | elapsed:   15.2s\n",
      "[Parallel(n_jobs=5)]: Done 3035 tasks      | elapsed:   44.1s\n",
      "[Parallel(n_jobs=5)]: Done 3385 tasks      | elapsed:   59.1s\n",
      "[Parallel(n_jobs=5)]: Done 5255 tasks      | elapsed:  1.4min\n",
      "[Parallel(n_jobs=5)]: Done 7265 tasks      | elapsed:  2.4min\n",
      "[Parallel(n_jobs=5)]: Done 10355 tasks      | elapsed:  3.2min\n",
      "[Parallel(n_jobs=5)]: Done 12715 tasks      | elapsed:  3.9min\n",
      "[Parallel(n_jobs=5)]: Done 14720 tasks      | elapsed:  4.8min\n",
      "[Parallel(n_jobs=5)]: Done 17895 tasks      | elapsed:  5.9min\n",
      "[Parallel(n_jobs=5)]: Done 21465 tasks      | elapsed:  7.1min\n",
      "[Parallel(n_jobs=5)]: Done 24785 tasks      | elapsed:  8.0min\n",
      "[Parallel(n_jobs=5)]: Done 27930 tasks      | elapsed:  9.0min\n",
      "[Parallel(n_jobs=5)]: Done 31445 tasks      | elapsed: 10.2min\n",
      "[Parallel(n_jobs=5)]: Done 35815 tasks      | elapsed: 11.9min\n",
      "[Parallel(n_jobs=5)]: Done 39540 tasks      | elapsed: 13.2min\n",
      "[Parallel(n_jobs=5)]: Done 43200 out of 43200 | elapsed: 14.5min finished\n"
     ]
    },
    {
     "output_type": "execute_result",
     "data": {
      "text/plain": [
       "{'classifier__bootstrap': True,\n",
       " 'classifier__max_depth': 25,\n",
       " 'classifier__max_features': 5,\n",
       " 'classifier__min_samples_split': 5,\n",
       " 'classifier__n_estimators': 10,\n",
       " 'reduce_dim': PCA(n_components=10),\n",
       " 'reduce_dim__n_components': 10,\n",
       " 'scaler': MinMaxScaler()}"
      ]
     },
     "metadata": {},
     "execution_count": 127
    }
   ],
   "source": [
    "rf_clf = RandomForestClassifier()\n",
    "\n",
    "pipe_rf = Pipeline([\n",
    "        ('scaler', StandardScaler()),\n",
    "        ('reduce_dim', PCA()),\n",
    "        ('classifier', rf_clf)\n",
    "        ])\n",
    "\n",
    "scalers_to_test = [StandardScaler(), RobustScaler(), MinMaxScaler()]\n",
    "\n",
    "n_estimators= [10, 25, 50, 100]\n",
    "max_features= [5, 10]\n",
    "max_depth= [10, 25, 50]\n",
    "min_samples_split = [5, 10]\n",
    "\n",
    "\n",
    "params_rf = {'scaler': scalers_to_test,\n",
    "        'reduce_dim': [PCA()],\n",
    "        'reduce_dim__n_components': n_features_to_test,\n",
    "        'classifier__n_estimators': n_estimators,\n",
    "        'classifier__max_features': max_features,\n",
    "        'classifier__max_depth': max_depth,\n",
    "        'classifier__min_samples_split': min_samples_split,\n",
    "        'classifier__bootstrap': [True]}\n",
    "\n",
    "gridsearch_rf = GridSearchCV(pipe_rf, params_rf, cv = 10, verbose=1, n_jobs=5)\n",
    "gridsearch_rf.fit(X_train, y_train)\n",
    "gridsearch_rf.best_params_"
   ]
  },
  {
   "cell_type": "code",
   "execution_count": null,
   "metadata": {},
   "outputs": [],
   "source": [
    "#### Gaussian Naive Bayes"
   ]
  },
  {
   "cell_type": "code",
   "execution_count": 50,
   "metadata": {},
   "outputs": [
    {
     "output_type": "stream",
     "name": "stdout",
     "text": [
      "Fitting 10 folds for each of 90 candidates, totalling 900 fits\n",
      "[Parallel(n_jobs=4)]: Using backend LokyBackend with 4 concurrent workers.\n",
      "[Parallel(n_jobs=4)]: Done 280 tasks      | elapsed:    1.0s\n",
      "[Parallel(n_jobs=4)]: Done 900 out of 900 | elapsed:    3.0s finished\n"
     ]
    },
    {
     "output_type": "execute_result",
     "data": {
      "text/plain": [
       "{'reduce_dim': PCA(n_components=3),\n",
       " 'reduce_dim__n_components': 3,\n",
       " 'scaler': RobustScaler()}"
      ]
     },
     "metadata": {},
     "execution_count": 50
    }
   ],
   "source": [
    "\n",
    "nb_clf = GaussianNB()\n",
    "\n",
    "pipe_nb = Pipeline([\n",
    "        ('scaler', StandardScaler()),\n",
    "        ('reduce_dim', PCA()),\n",
    "        ('classifier', nb_clf)\n",
    "        ])\n",
    "\n",
    "params_nb = {'scaler': scalers_to_test,\n",
    "        'reduce_dim': [PCA()],\n",
    "        'reduce_dim__n_components': n_features_to_test}\n",
    "\n",
    "gridsearch_nb = GridSearchCV(pipe_nb, params_nb, cv = 10, verbose=1, n_jobs=4)\n",
    "gridsearch_nb.fit(X_train, y_train)\n",
    "gridsearch_nb.best_params_"
   ]
  },
  {
   "cell_type": "code",
   "execution_count": null,
   "metadata": {},
   "outputs": [],
   "source": [
    "### Cross Validation"
   ]
  },
  {
   "source": [
    "## Source: https://machinelearningmastery.com/compare-machine-learning-algorithms-python-scikit-learn/\n",
    "\n",
    "seed = 42\n",
    "\n",
    "# append each model into a list\n",
    "models = []\n",
    "\n",
    "models.append(('RF', gridsearch_rf.best_estimator_))\n",
    "models.append(('DT', gridsearch_dt.best_estimator_))\n",
    "models.append(('NB', gridsearch_nb.best_estimator_))\n",
    "\n",
    "# evaluate the models through iteration\n",
    "results = []\n",
    "model_names = []\n",
    "\n",
    "scoring = 'accuracy'\n",
    "for model_names, model in models:\n",
    "\tkfold = model_selection.KFold(n_splits=10, random_state=seed)\n",
    "\tcv_results = model_selection.cross_val_score(model, X_cancer, y_cancer, cv=kfold, scoring=scoring)\n",
    "\tresults.append(cv_results)\n",
    "\tmodel_names.append(model_names)\n",
    "\tmsg = \"%s: %f (%f)\" % (model_names, cv_results.mean(), cv_results.std())\n",
    "\tprint(msg)\n",
    "\t\n",
    "# boxplot algorithm comparison\n",
    "fig = plt.figure()\n",
    "fig.suptitle('Algorithm Comparison')\n",
    "ax = fig.add_subplot(111)\n",
    "plt.boxplot(results)\n",
    "ax.set_xticklabels(model_names)\n",
    "plt.show()"
   ],
   "cell_type": "code",
   "metadata": {},
   "execution_count": null,
   "outputs": []
  },
  {
   "cell_type": "code",
   "execution_count": null,
   "metadata": {},
   "outputs": [],
   "source": [
    "### t-test"
   ]
  },
  {
   "cell_type": "code",
   "execution_count": 130,
   "metadata": {},
   "outputs": [
    {
     "output_type": "stream",
     "name": "stdout",
     "text": [
      "P-value: 0.748, t-Statistic: 0.340\nAlgorithms probably have the same performance\n"
     ]
    }
   ],
   "source": [
    "## Source: http://rasbt.github.io/mlxtend/api_subpackages/mlxtend.evaluate/#paired_ttest_5x2cv\n",
    "\n",
    "from mlxtend.evaluate import paired_ttest_5x2cv\n",
    "\n",
    "# check if difference between algorithms is real\n",
    "t, p = paired_ttest_5x2cv(estimator1=gridsearch_rf.best_estimator_, estimator2=gridsearch_dt.best_estimator_, X=X_cancer, y=y_cancer, scoring='accuracy', random_seed=42)\n",
    "\n",
    "# summarize\n",
    "print('P-value: %.3f, t-Statistic: %.3f' % (p, t))\n",
    "\n",
    "# interpret the result\n",
    "if p <= 0.05:\n",
    "    print('Difference between mean performance is probably real')\n",
    "else:\n",
    "    print('Algorithms probably have the same performance')"
   ]
  },
  {
   "cell_type": "code",
   "execution_count": 131,
   "metadata": {},
   "outputs": [
    {
     "output_type": "stream",
     "name": "stdout",
     "text": [
      "P-value: 0.254, t-Statistic: 1.290\nAlgorithms probably have the same performance\n"
     ]
    }
   ],
   "source": [
    "## Source: http://rasbt.github.io/mlxtend/api_subpackages/mlxtend.evaluate/#paired_ttest_5x2cv\n",
    "\n",
    "from mlxtend.evaluate import paired_ttest_5x2cv\n",
    "\n",
    "# check if difference between algorithms is real\n",
    "t, p = paired_ttest_5x2cv(estimator1=gridsearch_rf.best_estimator_, estimator2=gridsearch_nb.best_estimator_, X=X_cancer, y=y_cancer, scoring='accuracy', random_seed=42)\n",
    "\n",
    "# summarize\n",
    "print('P-value: %.3f, t-Statistic: %.3f' % (p, t))\n",
    "\n",
    "# interpret the result\n",
    "if p <= 0.05:\n",
    "    print('Difference between mean performance is probably real')\n",
    "else:\n",
    "    print('Algorithms probably have the same performance')"
   ]
  },
  {
   "source": [
    "## Solar"
   ],
   "cell_type": "markdown",
   "metadata": {}
  },
  {
   "source": [
    "### Data Preperation"
   ],
   "cell_type": "markdown",
   "metadata": {}
  },
  {
   "cell_type": "code",
   "execution_count": 118,
   "metadata": {},
   "outputs": [
    {
     "output_type": "execute_result",
     "data": {
      "text/plain": [
       "   DSWRF_SFC_0000  DSWRF_SFC_0001  DSWRF_SFC_0002  DSWRF_SFC_0003  \\\n",
       "0             0.0           0.000           0.000           0.000   \n",
       "1           106.5          63.875          90.750          17.875   \n",
       "2             0.0           0.000           0.000           0.000   \n",
       "3             0.0           0.000           0.000           0.000   \n",
       "4             0.0           8.625         105.625          55.375   \n",
       "\n",
       "   DSWRF_SFC_0004  DSWRF_SFC_0005  DSWRF_SFC_0006  DSWRF_SFC_0007  \\\n",
       "0            0.00             0.0            0.00            1.75   \n",
       "1           10.00             0.0            0.00            0.00   \n",
       "2            0.00             0.0            0.00            0.00   \n",
       "3            0.00             0.0            0.00            6.50   \n",
       "4          140.75           100.0           77.25           56.25   \n",
       "\n",
       "   DSWRF_SFC_0008  DSWRF_SFC_0009  ...  VIS_SFC_0020  VIS_SFC_0021  \\\n",
       "0           7.750           18.25  ...    227.899689    228.550201   \n",
       "1           0.000            0.00  ...   4825.635742   2627.959229   \n",
       "2           0.000            0.00  ...  24223.308590  14824.718750   \n",
       "3          60.125           50.25  ...   8026.288086  20024.955080   \n",
       "4          80.125           44.50  ...  24223.201170  10823.557620   \n",
       "\n",
       "   VIS_SFC_0022  VIS_SFC_0023  VIS_SFC_0024  time_of_day_cos  time_of_day_sin  \\\n",
       "0    428.331696    227.286820    224.271637                0                1   \n",
       "1   2628.863281   4828.833008   9027.083984                0               -1   \n",
       "2  20222.730470  16624.769530  19425.916020                1                0   \n",
       "3   6023.587402  24223.126950  24222.828130                0                1   \n",
       "4  17022.439450   5824.313965  24222.529300               -1                0   \n",
       "\n",
       "   time_of_year_cos  time_of_year_sin  SOLARRADIATION_0003  \n",
       "0          0.977848          0.209315                 1.32  \n",
       "1          0.976011          0.217723                13.22  \n",
       "2          0.975065          0.221922                 1.34  \n",
       "3          0.974100          0.226116                 1.34  \n",
       "4          0.973118          0.230306                46.52  \n",
       "\n",
       "[5 rows x 80 columns]"
      ],
      "text/html": "<div>\n<style scoped>\n    .dataframe tbody tr th:only-of-type {\n        vertical-align: middle;\n    }\n\n    .dataframe tbody tr th {\n        vertical-align: top;\n    }\n\n    .dataframe thead th {\n        text-align: right;\n    }\n</style>\n<table border=\"1\" class=\"dataframe\">\n  <thead>\n    <tr style=\"text-align: right;\">\n      <th></th>\n      <th>DSWRF_SFC_0000</th>\n      <th>DSWRF_SFC_0001</th>\n      <th>DSWRF_SFC_0002</th>\n      <th>DSWRF_SFC_0003</th>\n      <th>DSWRF_SFC_0004</th>\n      <th>DSWRF_SFC_0005</th>\n      <th>DSWRF_SFC_0006</th>\n      <th>DSWRF_SFC_0007</th>\n      <th>DSWRF_SFC_0008</th>\n      <th>DSWRF_SFC_0009</th>\n      <th>...</th>\n      <th>VIS_SFC_0020</th>\n      <th>VIS_SFC_0021</th>\n      <th>VIS_SFC_0022</th>\n      <th>VIS_SFC_0023</th>\n      <th>VIS_SFC_0024</th>\n      <th>time_of_day_cos</th>\n      <th>time_of_day_sin</th>\n      <th>time_of_year_cos</th>\n      <th>time_of_year_sin</th>\n      <th>SOLARRADIATION_0003</th>\n    </tr>\n  </thead>\n  <tbody>\n    <tr>\n      <th>0</th>\n      <td>0.0</td>\n      <td>0.000</td>\n      <td>0.000</td>\n      <td>0.000</td>\n      <td>0.00</td>\n      <td>0.0</td>\n      <td>0.00</td>\n      <td>1.75</td>\n      <td>7.750</td>\n      <td>18.25</td>\n      <td>...</td>\n      <td>227.899689</td>\n      <td>228.550201</td>\n      <td>428.331696</td>\n      <td>227.286820</td>\n      <td>224.271637</td>\n      <td>0</td>\n      <td>1</td>\n      <td>0.977848</td>\n      <td>0.209315</td>\n      <td>1.32</td>\n    </tr>\n    <tr>\n      <th>1</th>\n      <td>106.5</td>\n      <td>63.875</td>\n      <td>90.750</td>\n      <td>17.875</td>\n      <td>10.00</td>\n      <td>0.0</td>\n      <td>0.00</td>\n      <td>0.00</td>\n      <td>0.000</td>\n      <td>0.00</td>\n      <td>...</td>\n      <td>4825.635742</td>\n      <td>2627.959229</td>\n      <td>2628.863281</td>\n      <td>4828.833008</td>\n      <td>9027.083984</td>\n      <td>0</td>\n      <td>-1</td>\n      <td>0.976011</td>\n      <td>0.217723</td>\n      <td>13.22</td>\n    </tr>\n    <tr>\n      <th>2</th>\n      <td>0.0</td>\n      <td>0.000</td>\n      <td>0.000</td>\n      <td>0.000</td>\n      <td>0.00</td>\n      <td>0.0</td>\n      <td>0.00</td>\n      <td>0.00</td>\n      <td>0.000</td>\n      <td>0.00</td>\n      <td>...</td>\n      <td>24223.308590</td>\n      <td>14824.718750</td>\n      <td>20222.730470</td>\n      <td>16624.769530</td>\n      <td>19425.916020</td>\n      <td>1</td>\n      <td>0</td>\n      <td>0.975065</td>\n      <td>0.221922</td>\n      <td>1.34</td>\n    </tr>\n    <tr>\n      <th>3</th>\n      <td>0.0</td>\n      <td>0.000</td>\n      <td>0.000</td>\n      <td>0.000</td>\n      <td>0.00</td>\n      <td>0.0</td>\n      <td>0.00</td>\n      <td>6.50</td>\n      <td>60.125</td>\n      <td>50.25</td>\n      <td>...</td>\n      <td>8026.288086</td>\n      <td>20024.955080</td>\n      <td>6023.587402</td>\n      <td>24223.126950</td>\n      <td>24222.828130</td>\n      <td>0</td>\n      <td>1</td>\n      <td>0.974100</td>\n      <td>0.226116</td>\n      <td>1.34</td>\n    </tr>\n    <tr>\n      <th>4</th>\n      <td>0.0</td>\n      <td>8.625</td>\n      <td>105.625</td>\n      <td>55.375</td>\n      <td>140.75</td>\n      <td>100.0</td>\n      <td>77.25</td>\n      <td>56.25</td>\n      <td>80.125</td>\n      <td>44.50</td>\n      <td>...</td>\n      <td>24223.201170</td>\n      <td>10823.557620</td>\n      <td>17022.439450</td>\n      <td>5824.313965</td>\n      <td>24222.529300</td>\n      <td>-1</td>\n      <td>0</td>\n      <td>0.973118</td>\n      <td>0.230306</td>\n      <td>46.52</td>\n    </tr>\n  </tbody>\n</table>\n<p>5 rows × 80 columns</p>\n</div>"
     },
     "metadata": {},
     "execution_count": 118
    }
   ],
   "source": [
    "df_solar = pd.read_csv(\"/Users/kivanc/DataMining-ML/Data/ModelDev/solar.csv\", sep=',')\n",
    "\n",
    "\n",
    "df_solar= df_solar.drop(columns=['TIMESTAMP'])\n",
    "df_solar.head()"
   ]
  },
  {
   "cell_type": "code",
   "execution_count": 119,
   "metadata": {},
   "outputs": [
    {
     "output_type": "execute_result",
     "data": {
      "text/plain": [
       "      DSWRF_SFC_0001  DSWRF_SFC_0002  DSWRF_SFC_0003  DSWRF_SFC_0004  \\\n",
       "0           0.000000        0.000000        0.000000            0.00   \n",
       "1          63.875000       90.750000       17.875000           10.00   \n",
       "2           0.000000        0.000000        0.000000            0.00   \n",
       "3           0.000000        0.000000        0.000000            0.00   \n",
       "4           8.625000      105.625000       55.375000          140.75   \n",
       "...              ...             ...             ...             ...   \n",
       "2459      421.700012      231.000000       97.000000           27.00   \n",
       "2460        0.000000        0.000000        0.000000            0.00   \n",
       "2461        0.000000        0.000000        0.000000            0.00   \n",
       "2462       18.700001       62.299999       98.300003          153.00   \n",
       "2463      137.800003      166.300003       98.000000           18.00   \n",
       "\n",
       "      DSWRF_SFC_0005  DSWRF_SFC_0006  DSWRF_SFC_0007  DSWRF_SFC_0008  \\\n",
       "0                0.0            0.00        1.750000        7.750000   \n",
       "1                0.0            0.00        0.000000        0.000000   \n",
       "2                0.0            0.00        0.000000        0.000000   \n",
       "3                0.0            0.00        6.500000       60.125000   \n",
       "4              100.0           77.25       56.250000       80.125000   \n",
       "...              ...             ...             ...             ...   \n",
       "2459             0.0            0.00        0.000000        0.000000   \n",
       "2460             0.0            0.00        0.000000        0.000000   \n",
       "2461             0.0            0.00        8.300000       54.299999   \n",
       "2462           271.0          259.00      176.900009       90.200005   \n",
       "2463             0.0            0.00        0.000000        0.000000   \n",
       "\n",
       "      DSWRF_SFC_0009  DSWRF_SFC_0010  ...  VIS_SFC_0019  VIS_SFC_0020  \\\n",
       "0          18.250000          38.750  ...    426.895569    227.899689   \n",
       "1           0.000000           0.000  ...   7824.965820   4825.635742   \n",
       "2           0.000000           0.000  ...  24226.927730  24223.308590   \n",
       "3          50.250000          76.750  ...   5625.299316   8026.288086   \n",
       "4          44.500000          19.875  ...  23823.607420  24223.201170   \n",
       "...              ...             ...  ...           ...           ...   \n",
       "2459        0.000000           0.000  ...  24100.000000  24100.000000   \n",
       "2460        0.000000           0.000  ...  24100.000000  24100.000000   \n",
       "2461      139.400009          96.000  ...  24100.000000  24100.000000   \n",
       "2462       38.000000           9.000  ...  24100.000000  24100.000000   \n",
       "2463        0.000000           0.000  ...  24100.000000  24100.000000   \n",
       "\n",
       "      VIS_SFC_0021  VIS_SFC_0022  VIS_SFC_0023  VIS_SFC_0024  time_of_day_cos  \\\n",
       "0       228.550201    428.331696    227.286820    224.271637                0   \n",
       "1      2627.959229   2628.863281   4828.833008   9027.083984                0   \n",
       "2     14824.718750  20222.730470  16624.769530  19425.916020                1   \n",
       "3     20024.955080   6023.587402  24223.126950  24222.828130                0   \n",
       "4     10823.557620  17022.439450   5824.313965  24222.529300               -1   \n",
       "...            ...           ...           ...           ...              ...   \n",
       "2459  24100.000000  24100.000000  24100.000000  24100.000000                0   \n",
       "2460  24100.000000  24100.000000  24100.000000  24100.000000                1   \n",
       "2461  24100.000000  24100.000000  24100.000000  24100.000000                0   \n",
       "2462  24100.000000  24100.000000  24100.000000  24100.000000               -1   \n",
       "2463  24100.000000  24100.000000  24100.000000  24100.000000                0   \n",
       "\n",
       "      time_of_day_sin  time_of_year_cos  time_of_year_sin  \n",
       "0                   1          0.977848          0.209315  \n",
       "1                  -1          0.976011          0.217723  \n",
       "2                   0          0.975065          0.221922  \n",
       "3                   1          0.974100          0.226116  \n",
       "4                   0          0.973118          0.230306  \n",
       "...               ...               ...               ...  \n",
       "2459               -1          0.997325         -0.073095  \n",
       "2460                0          0.997630         -0.068802  \n",
       "2461                1          0.997917         -0.064508  \n",
       "2462                0          0.998186         -0.060213  \n",
       "2463               -1          0.998435         -0.055917  \n",
       "\n",
       "[2464 rows x 78 columns]"
      ],
      "text/html": "<div>\n<style scoped>\n    .dataframe tbody tr th:only-of-type {\n        vertical-align: middle;\n    }\n\n    .dataframe tbody tr th {\n        vertical-align: top;\n    }\n\n    .dataframe thead th {\n        text-align: right;\n    }\n</style>\n<table border=\"1\" class=\"dataframe\">\n  <thead>\n    <tr style=\"text-align: right;\">\n      <th></th>\n      <th>DSWRF_SFC_0001</th>\n      <th>DSWRF_SFC_0002</th>\n      <th>DSWRF_SFC_0003</th>\n      <th>DSWRF_SFC_0004</th>\n      <th>DSWRF_SFC_0005</th>\n      <th>DSWRF_SFC_0006</th>\n      <th>DSWRF_SFC_0007</th>\n      <th>DSWRF_SFC_0008</th>\n      <th>DSWRF_SFC_0009</th>\n      <th>DSWRF_SFC_0010</th>\n      <th>...</th>\n      <th>VIS_SFC_0019</th>\n      <th>VIS_SFC_0020</th>\n      <th>VIS_SFC_0021</th>\n      <th>VIS_SFC_0022</th>\n      <th>VIS_SFC_0023</th>\n      <th>VIS_SFC_0024</th>\n      <th>time_of_day_cos</th>\n      <th>time_of_day_sin</th>\n      <th>time_of_year_cos</th>\n      <th>time_of_year_sin</th>\n    </tr>\n  </thead>\n  <tbody>\n    <tr>\n      <th>0</th>\n      <td>0.000000</td>\n      <td>0.000000</td>\n      <td>0.000000</td>\n      <td>0.00</td>\n      <td>0.0</td>\n      <td>0.00</td>\n      <td>1.750000</td>\n      <td>7.750000</td>\n      <td>18.250000</td>\n      <td>38.750</td>\n      <td>...</td>\n      <td>426.895569</td>\n      <td>227.899689</td>\n      <td>228.550201</td>\n      <td>428.331696</td>\n      <td>227.286820</td>\n      <td>224.271637</td>\n      <td>0</td>\n      <td>1</td>\n      <td>0.977848</td>\n      <td>0.209315</td>\n    </tr>\n    <tr>\n      <th>1</th>\n      <td>63.875000</td>\n      <td>90.750000</td>\n      <td>17.875000</td>\n      <td>10.00</td>\n      <td>0.0</td>\n      <td>0.00</td>\n      <td>0.000000</td>\n      <td>0.000000</td>\n      <td>0.000000</td>\n      <td>0.000</td>\n      <td>...</td>\n      <td>7824.965820</td>\n      <td>4825.635742</td>\n      <td>2627.959229</td>\n      <td>2628.863281</td>\n      <td>4828.833008</td>\n      <td>9027.083984</td>\n      <td>0</td>\n      <td>-1</td>\n      <td>0.976011</td>\n      <td>0.217723</td>\n    </tr>\n    <tr>\n      <th>2</th>\n      <td>0.000000</td>\n      <td>0.000000</td>\n      <td>0.000000</td>\n      <td>0.00</td>\n      <td>0.0</td>\n      <td>0.00</td>\n      <td>0.000000</td>\n      <td>0.000000</td>\n      <td>0.000000</td>\n      <td>0.000</td>\n      <td>...</td>\n      <td>24226.927730</td>\n      <td>24223.308590</td>\n      <td>14824.718750</td>\n      <td>20222.730470</td>\n      <td>16624.769530</td>\n      <td>19425.916020</td>\n      <td>1</td>\n      <td>0</td>\n      <td>0.975065</td>\n      <td>0.221922</td>\n    </tr>\n    <tr>\n      <th>3</th>\n      <td>0.000000</td>\n      <td>0.000000</td>\n      <td>0.000000</td>\n      <td>0.00</td>\n      <td>0.0</td>\n      <td>0.00</td>\n      <td>6.500000</td>\n      <td>60.125000</td>\n      <td>50.250000</td>\n      <td>76.750</td>\n      <td>...</td>\n      <td>5625.299316</td>\n      <td>8026.288086</td>\n      <td>20024.955080</td>\n      <td>6023.587402</td>\n      <td>24223.126950</td>\n      <td>24222.828130</td>\n      <td>0</td>\n      <td>1</td>\n      <td>0.974100</td>\n      <td>0.226116</td>\n    </tr>\n    <tr>\n      <th>4</th>\n      <td>8.625000</td>\n      <td>105.625000</td>\n      <td>55.375000</td>\n      <td>140.75</td>\n      <td>100.0</td>\n      <td>77.25</td>\n      <td>56.250000</td>\n      <td>80.125000</td>\n      <td>44.500000</td>\n      <td>19.875</td>\n      <td>...</td>\n      <td>23823.607420</td>\n      <td>24223.201170</td>\n      <td>10823.557620</td>\n      <td>17022.439450</td>\n      <td>5824.313965</td>\n      <td>24222.529300</td>\n      <td>-1</td>\n      <td>0</td>\n      <td>0.973118</td>\n      <td>0.230306</td>\n    </tr>\n    <tr>\n      <th>...</th>\n      <td>...</td>\n      <td>...</td>\n      <td>...</td>\n      <td>...</td>\n      <td>...</td>\n      <td>...</td>\n      <td>...</td>\n      <td>...</td>\n      <td>...</td>\n      <td>...</td>\n      <td>...</td>\n      <td>...</td>\n      <td>...</td>\n      <td>...</td>\n      <td>...</td>\n      <td>...</td>\n      <td>...</td>\n      <td>...</td>\n      <td>...</td>\n      <td>...</td>\n      <td>...</td>\n    </tr>\n    <tr>\n      <th>2459</th>\n      <td>421.700012</td>\n      <td>231.000000</td>\n      <td>97.000000</td>\n      <td>27.00</td>\n      <td>0.0</td>\n      <td>0.00</td>\n      <td>0.000000</td>\n      <td>0.000000</td>\n      <td>0.000000</td>\n      <td>0.000</td>\n      <td>...</td>\n      <td>24100.000000</td>\n      <td>24100.000000</td>\n      <td>24100.000000</td>\n      <td>24100.000000</td>\n      <td>24100.000000</td>\n      <td>24100.000000</td>\n      <td>0</td>\n      <td>-1</td>\n      <td>0.997325</td>\n      <td>-0.073095</td>\n    </tr>\n    <tr>\n      <th>2460</th>\n      <td>0.000000</td>\n      <td>0.000000</td>\n      <td>0.000000</td>\n      <td>0.00</td>\n      <td>0.0</td>\n      <td>0.00</td>\n      <td>0.000000</td>\n      <td>0.000000</td>\n      <td>0.000000</td>\n      <td>0.000</td>\n      <td>...</td>\n      <td>24100.000000</td>\n      <td>24100.000000</td>\n      <td>24100.000000</td>\n      <td>24100.000000</td>\n      <td>24100.000000</td>\n      <td>24100.000000</td>\n      <td>1</td>\n      <td>0</td>\n      <td>0.997630</td>\n      <td>-0.068802</td>\n    </tr>\n    <tr>\n      <th>2461</th>\n      <td>0.000000</td>\n      <td>0.000000</td>\n      <td>0.000000</td>\n      <td>0.00</td>\n      <td>0.0</td>\n      <td>0.00</td>\n      <td>8.300000</td>\n      <td>54.299999</td>\n      <td>139.400009</td>\n      <td>96.000</td>\n      <td>...</td>\n      <td>24100.000000</td>\n      <td>24100.000000</td>\n      <td>24100.000000</td>\n      <td>24100.000000</td>\n      <td>24100.000000</td>\n      <td>24100.000000</td>\n      <td>0</td>\n      <td>1</td>\n      <td>0.997917</td>\n      <td>-0.064508</td>\n    </tr>\n    <tr>\n      <th>2462</th>\n      <td>18.700001</td>\n      <td>62.299999</td>\n      <td>98.300003</td>\n      <td>153.00</td>\n      <td>271.0</td>\n      <td>259.00</td>\n      <td>176.900009</td>\n      <td>90.200005</td>\n      <td>38.000000</td>\n      <td>9.000</td>\n      <td>...</td>\n      <td>24100.000000</td>\n      <td>24100.000000</td>\n      <td>24100.000000</td>\n      <td>24100.000000</td>\n      <td>24100.000000</td>\n      <td>24100.000000</td>\n      <td>-1</td>\n      <td>0</td>\n      <td>0.998186</td>\n      <td>-0.060213</td>\n    </tr>\n    <tr>\n      <th>2463</th>\n      <td>137.800003</td>\n      <td>166.300003</td>\n      <td>98.000000</td>\n      <td>18.00</td>\n      <td>0.0</td>\n      <td>0.00</td>\n      <td>0.000000</td>\n      <td>0.000000</td>\n      <td>0.000000</td>\n      <td>0.000</td>\n      <td>...</td>\n      <td>24100.000000</td>\n      <td>24100.000000</td>\n      <td>24100.000000</td>\n      <td>24100.000000</td>\n      <td>24100.000000</td>\n      <td>24100.000000</td>\n      <td>0</td>\n      <td>-1</td>\n      <td>0.998435</td>\n      <td>-0.055917</td>\n    </tr>\n  </tbody>\n</table>\n<p>2464 rows × 78 columns</p>\n</div>"
     },
     "metadata": {},
     "execution_count": 119
    }
   ],
   "source": [
    "X_solar = df_solar.iloc[:, 1:-1]\n",
    "y_solar = df_solar.iloc[:, -1]\n",
    "X_solar"
   ]
  },
  {
   "cell_type": "code",
   "execution_count": null,
   "metadata": {},
   "outputs": [],
   "source": [
    "### Train Test Split"
   ]
  },
  {
   "cell_type": "code",
   "execution_count": 120,
   "metadata": {},
   "outputs": [],
   "source": [
    "X_solar_train, X_solar_test, y_solar_train, y_solar_test = train_test_split(X_solar, y_solar, test_size = .25, random_state= 42)"
   ]
  },
  {
   "cell_type": "code",
   "execution_count": null,
   "metadata": {},
   "outputs": [],
   "source": [
    "### Grid Search - Solar"
   ]
  },
  {
   "cell_type": "code",
   "execution_count": null,
   "metadata": {},
   "outputs": [],
   "source": [
    "#### Linear Regression"
   ]
  },
  {
   "cell_type": "code",
   "execution_count": 81,
   "metadata": {},
   "outputs": [
    {
     "output_type": "stream",
     "name": "stdout",
     "text": [
      "Fitting 10 folds for each of 90 candidates, totalling 900 fits\n",
      "[Parallel(n_jobs=4)]: Using backend LokyBackend with 4 concurrent workers.\n",
      "[Parallel(n_jobs=4)]: Done  48 tasks      | elapsed:    8.0s\n",
      "[Parallel(n_jobs=4)]: Done 900 out of 900 | elapsed:   13.0s finished\n"
     ]
    },
    {
     "output_type": "execute_result",
     "data": {
      "text/plain": [
       "{'reduce_dim': PCA(n_components=30),\n",
       " 'reduce_dim__n_components': 30,\n",
       " 'scaler': StandardScaler()}"
      ]
     },
     "metadata": {},
     "execution_count": 81
    }
   ],
   "source": [
    "ln_reg = LinearRegression()\n",
    "\n",
    "pipe_ln = Pipeline([\n",
    "        ('scaler', StandardScaler()),\n",
    "        ('reduce_dim', PCA()),\n",
    "        ('regressor', ln_reg)\n",
    "        ])\n",
    "\n",
    "params_ln = {'scaler': scalers_to_test,\n",
    "        'reduce_dim': [PCA()],\n",
    "        'reduce_dim__n_components': n_features_to_test}\n",
    "\n",
    "gridsearch_ln = GridSearchCV(pipe_ln, params_ln, cv = 10, verbose=1, n_jobs=4)\n",
    "gridsearch_ln.fit(X_solar_train, y_solar_train)\n",
    "gridsearch_ln.best_params_"
   ]
  },
  {
   "cell_type": "code",
   "execution_count": null,
   "metadata": {},
   "outputs": [],
   "source": [
    "#### Decision Tree Regressor"
   ]
  },
  {
   "cell_type": "code",
   "execution_count": 125,
   "metadata": {},
   "outputs": [
    {
     "output_type": "stream",
     "name": "stdout",
     "text": [
      "Fitting 10 folds for each of 2160 candidates, totalling 21600 fits\n",
      "[Parallel(n_jobs=5)]: Using backend LokyBackend with 5 concurrent workers.\n",
      "[Parallel(n_jobs=5)]: Done  50 tasks      | elapsed:    1.4s\n",
      "[Parallel(n_jobs=5)]: Done 1210 tasks      | elapsed:    9.2s\n",
      "[Parallel(n_jobs=5)]: Done 3210 tasks      | elapsed:   29.8s\n",
      "[Parallel(n_jobs=5)]: Done 4895 tasks      | elapsed:   58.4s\n",
      "[Parallel(n_jobs=5)]: Done 5950 tasks      | elapsed:  1.3min\n",
      "[Parallel(n_jobs=5)]: Done 7595 tasks      | elapsed:  1.9min\n",
      "[Parallel(n_jobs=5)]: Done 9235 tasks      | elapsed:  2.6min\n",
      "[Parallel(n_jobs=5)]: Done 10860 tasks      | elapsed:  3.4min\n",
      "[Parallel(n_jobs=5)]: Done 12925 tasks      | elapsed:  4.6min\n",
      "[Parallel(n_jobs=5)]: Done 15045 tasks      | elapsed:  5.9min\n",
      "[Parallel(n_jobs=5)]: Done 17265 tasks      | elapsed:  7.5min\n",
      "[Parallel(n_jobs=5)]: Done 19720 tasks      | elapsed:  9.2min\n",
      "[Parallel(n_jobs=5)]: Done 21600 out of 21600 | elapsed: 11.1min finished\n"
     ]
    },
    {
     "output_type": "execute_result",
     "data": {
      "text/plain": [
       "{'reduce_dim': PCA(n_components=6),\n",
       " 'reduce_dim__n_components': 6,\n",
       " 'regressor__criterion': 'mse',\n",
       " 'regressor__max_depth': 10,\n",
       " 'regressor__min_samples_leaf': 20,\n",
       " 'scaler': StandardScaler()}"
      ]
     },
     "metadata": {},
     "execution_count": 125
    }
   ],
   "source": [
    "dt_reg = DecisionTreeRegressor()\n",
    "\n",
    "pipe_dt_reg = Pipeline([\n",
    "        ('scaler', StandardScaler()),\n",
    "        ('reduce_dim', PCA()),\n",
    "        ('regressor', dt_reg)\n",
    "        ])\n",
    "\n",
    "criterion= [\"mse\", \"mae\"]\n",
    "max_depth= [2, 6, 8, 10]\n",
    "min_samples_leaf= [20, 40, 100]\n",
    "\n",
    "params_dt_reg = {'scaler': scalers_to_test,\n",
    "        'reduce_dim': [PCA()],\n",
    "        'reduce_dim__n_components': n_features_to_test,\n",
    "        \"regressor__criterion\":criterion,\n",
    "        \"regressor__max_depth\":max_depth,\n",
    "        \"regressor__min_samples_leaf\":min_samples_leaf}\n",
    "\n",
    "gridsearch_dt_reg = GridSearchCV(pipe_dt_reg, params_dt_reg, cv = 10, verbose=1, n_jobs=5)\n",
    "gridsearch_dt_reg.fit(X_solar_train, y_solar_train)\n",
    "gridsearch_dt_reg.best_params_"
   ]
  },
  {
   "cell_type": "code",
   "execution_count": null,
   "metadata": {},
   "outputs": [],
   "source": [
    "#### Random Forest Regressor"
   ]
  },
  {
   "cell_type": "code",
   "execution_count": 126,
   "metadata": {},
   "outputs": [
    {
     "output_type": "stream",
     "name": "stdout",
     "text": [
      "Fitting 10 folds for each of 4320 candidates, totalling 43200 fits\n",
      "[Parallel(n_jobs=5)]: Using backend LokyBackend with 5 concurrent workers.\n",
      "[Parallel(n_jobs=5)]: Done 150 tasks      | elapsed:    1.3s\n",
      "[Parallel(n_jobs=5)]: Done 1350 tasks      | elapsed:   10.8s\n",
      "[Parallel(n_jobs=5)]: Done 3350 tasks      | elapsed:   27.5s\n",
      "[Parallel(n_jobs=5)]: Done 5975 tasks      | elapsed:   56.6s\n",
      "[Parallel(n_jobs=5)]: Done 7385 tasks      | elapsed:  1.6min\n",
      "[Parallel(n_jobs=5)]: Done 8825 tasks      | elapsed:  2.4min\n",
      "[Parallel(n_jobs=5)]: Done 10755 tasks      | elapsed:  3.3min\n",
      "[Parallel(n_jobs=5)]: Done 13000 tasks      | elapsed:  4.4min\n",
      "[Parallel(n_jobs=5)]: Done 14235 tasks      | elapsed:  5.7min\n",
      "[Parallel(n_jobs=5)]: Done 15630 tasks      | elapsed:  7.2min\n",
      "[Parallel(n_jobs=5)]: Done 17085 tasks      | elapsed:  8.9min\n",
      "[Parallel(n_jobs=5)]: Done 18660 tasks      | elapsed: 10.7min\n",
      "[Parallel(n_jobs=5)]: Done 20455 tasks      | elapsed: 12.7min\n",
      "[Parallel(n_jobs=5)]: Done 22255 tasks      | elapsed: 14.8min\n",
      "[Parallel(n_jobs=5)]: Done 24150 tasks      | elapsed: 17.2min\n",
      "[Parallel(n_jobs=5)]: Done 26265 tasks      | elapsed: 19.7min\n",
      "[Parallel(n_jobs=5)]: Done 28585 tasks      | elapsed: 22.3min\n",
      "[Parallel(n_jobs=5)]: Done 31100 tasks      | elapsed: 25.3min\n",
      "[Parallel(n_jobs=5)]: Done 33705 tasks      | elapsed: 28.3min\n",
      "[Parallel(n_jobs=5)]: Done 36440 tasks      | elapsed: 31.5min\n",
      "[Parallel(n_jobs=5)]: Done 39025 tasks      | elapsed: 34.7min\n",
      "[Parallel(n_jobs=5)]: Done 41775 tasks      | elapsed: 38.1min\n",
      "[Parallel(n_jobs=5)]: Done 43200 out of 43200 | elapsed: 39.9min finished\n"
     ]
    },
    {
     "output_type": "execute_result",
     "data": {
      "text/plain": [
       "{'reduce_dim': PCA(n_components=21),\n",
       " 'reduce_dim__n_components': 21,\n",
       " 'regressor__max_depth': 50,\n",
       " 'regressor__max_features': 10,\n",
       " 'regressor__min_samples_split': 5,\n",
       " 'regressor__n_estimators': 100,\n",
       " 'scaler': MinMaxScaler()}"
      ]
     },
     "metadata": {},
     "execution_count": 126
    }
   ],
   "source": [
    "rf_reg = RandomForestRegressor()\n",
    "\n",
    "pipe_rf_reg = Pipeline([\n",
    "        ('scaler', StandardScaler()),\n",
    "        ('reduce_dim', PCA()),\n",
    "        ('regressor', rf_reg)\n",
    "        ])\n",
    "\n",
    "n_estimators= [10, 25, 50, 100]\n",
    "max_features= [5, 10]\n",
    "max_depth= [10, 25, 50]\n",
    "min_samples_split = [5, 10]\n",
    "\n",
    "params_rf_reg = {'scaler': scalers_to_test,\n",
    "        'reduce_dim': [PCA()],\n",
    "        'reduce_dim__n_components': n_features_to_test,\n",
    "        \"regressor__n_estimators\":n_estimators,\n",
    "        \"regressor__max_features\":max_features,\n",
    "        \"regressor__max_depth\":max_depth,\n",
    "        \"regressor__min_samples_split\":min_samples_split}\n",
    "\n",
    "gridsearch_rf_reg = GridSearchCV(pipe_rf_reg, params_rf_reg, cv = 10, verbose=1, n_jobs=5)\n",
    "gridsearch_rf_reg.fit(X_solar_train, y_solar_train)\n",
    "gridsearch_rf_reg.best_params_"
   ]
  },
  {
   "cell_type": "code",
   "execution_count": null,
   "metadata": {},
   "outputs": [],
   "source": [
    "### Cross Validation"
   ]
  },
  {
   "cell_type": "code",
   "execution_count": 141,
   "metadata": {},
   "outputs": [
    {
     "output_type": "stream",
     "name": "stdout",
     "text": [
      "rf_reg: 0.852844 (0.041029)\n",
      "dt_reg: 0.792085 (0.074192)\n",
      "ln: 0.862257 (0.037557)\n"
     ]
    },
    {
     "output_type": "display_data",
     "data": {
      "text/plain": "<Figure size 432x288 with 1 Axes>",
      "image/svg+xml": "<?xml version=\"1.0\" encoding=\"utf-8\" standalone=\"no\"?>\n<!DOCTYPE svg PUBLIC \"-//W3C//DTD SVG 1.1//EN\"\n  \"http://www.w3.org/Graphics/SVG/1.1/DTD/svg11.dtd\">\n<!-- Created with matplotlib (https://matplotlib.org/) -->\n<svg height=\"277.59625pt\" version=\"1.1\" viewBox=\"0 0 378.465625 277.59625\" width=\"378.465625pt\" xmlns=\"http://www.w3.org/2000/svg\" xmlns:xlink=\"http://www.w3.org/1999/xlink\">\n <defs>\n  <style type=\"text/css\">\n*{stroke-linecap:butt;stroke-linejoin:round;}\n  </style>\n </defs>\n <g id=\"figure_1\">\n  <g id=\"patch_1\">\n   <path d=\"M 0 277.59625 \nL 378.465625 277.59625 \nL 378.465625 -0 \nL 0 -0 \nz\n\" style=\"fill:none;\"/>\n  </g>\n  <g id=\"axes_1\">\n   <g id=\"patch_2\">\n    <path d=\"M 36.465625 253.44 \nL 371.265625 253.44 \nL 371.265625 36 \nL 36.465625 36 \nz\n\" style=\"fill:#ffffff;\"/>\n   </g>\n   <g id=\"matplotlib.axis_1\">\n    <g id=\"xtick_1\">\n     <g id=\"line2d_1\">\n      <defs>\n       <path d=\"M 0 0 \nL 0 3.5 \n\" id=\"m93b0283170\" style=\"stroke:#000000;stroke-width:0.8;\"/>\n      </defs>\n      <g>\n       <use style=\"stroke:#000000;stroke-width:0.8;\" x=\"92.265625\" xlink:href=\"#m93b0283170\" y=\"253.44\"/>\n      </g>\n     </g>\n     <g id=\"text_1\">\n      <!-- rf_reg -->\n      <defs>\n       <path d=\"M 41.109375 46.296875 \nQ 39.59375 47.171875 37.8125 47.578125 \nQ 36.03125 48 33.890625 48 \nQ 26.265625 48 22.1875 43.046875 \nQ 18.109375 38.09375 18.109375 28.8125 \nL 18.109375 0 \nL 9.078125 0 \nL 9.078125 54.6875 \nL 18.109375 54.6875 \nL 18.109375 46.1875 \nQ 20.953125 51.171875 25.484375 53.578125 \nQ 30.03125 56 36.53125 56 \nQ 37.453125 56 38.578125 55.875 \nQ 39.703125 55.765625 41.0625 55.515625 \nz\n\" id=\"DejaVuSans-114\"/>\n       <path d=\"M 37.109375 75.984375 \nL 37.109375 68.5 \nL 28.515625 68.5 \nQ 23.6875 68.5 21.796875 66.546875 \nQ 19.921875 64.59375 19.921875 59.515625 \nL 19.921875 54.6875 \nL 34.71875 54.6875 \nL 34.71875 47.703125 \nL 19.921875 47.703125 \nL 19.921875 0 \nL 10.890625 0 \nL 10.890625 47.703125 \nL 2.296875 47.703125 \nL 2.296875 54.6875 \nL 10.890625 54.6875 \nL 10.890625 58.5 \nQ 10.890625 67.625 15.140625 71.796875 \nQ 19.390625 75.984375 28.609375 75.984375 \nz\n\" id=\"DejaVuSans-102\"/>\n       <path d=\"M 50.984375 -16.609375 \nL 50.984375 -23.578125 \nL -0.984375 -23.578125 \nL -0.984375 -16.609375 \nz\n\" id=\"DejaVuSans-95\"/>\n       <path d=\"M 56.203125 29.59375 \nL 56.203125 25.203125 \nL 14.890625 25.203125 \nQ 15.484375 15.921875 20.484375 11.0625 \nQ 25.484375 6.203125 34.421875 6.203125 \nQ 39.59375 6.203125 44.453125 7.46875 \nQ 49.3125 8.734375 54.109375 11.28125 \nL 54.109375 2.78125 \nQ 49.265625 0.734375 44.1875 -0.34375 \nQ 39.109375 -1.421875 33.890625 -1.421875 \nQ 20.796875 -1.421875 13.15625 6.1875 \nQ 5.515625 13.8125 5.515625 26.8125 \nQ 5.515625 40.234375 12.765625 48.109375 \nQ 20.015625 56 32.328125 56 \nQ 43.359375 56 49.78125 48.890625 \nQ 56.203125 41.796875 56.203125 29.59375 \nz\nM 47.21875 32.234375 \nQ 47.125 39.59375 43.09375 43.984375 \nQ 39.0625 48.390625 32.421875 48.390625 \nQ 24.90625 48.390625 20.390625 44.140625 \nQ 15.875 39.890625 15.1875 32.171875 \nz\n\" id=\"DejaVuSans-101\"/>\n       <path d=\"M 45.40625 27.984375 \nQ 45.40625 37.75 41.375 43.109375 \nQ 37.359375 48.484375 30.078125 48.484375 \nQ 22.859375 48.484375 18.828125 43.109375 \nQ 14.796875 37.75 14.796875 27.984375 \nQ 14.796875 18.265625 18.828125 12.890625 \nQ 22.859375 7.515625 30.078125 7.515625 \nQ 37.359375 7.515625 41.375 12.890625 \nQ 45.40625 18.265625 45.40625 27.984375 \nz\nM 54.390625 6.78125 \nQ 54.390625 -7.171875 48.1875 -13.984375 \nQ 42 -20.796875 29.203125 -20.796875 \nQ 24.46875 -20.796875 20.265625 -20.09375 \nQ 16.0625 -19.390625 12.109375 -17.921875 \nL 12.109375 -9.1875 \nQ 16.0625 -11.328125 19.921875 -12.34375 \nQ 23.78125 -13.375 27.78125 -13.375 \nQ 36.625 -13.375 41.015625 -8.765625 \nQ 45.40625 -4.15625 45.40625 5.171875 \nL 45.40625 9.625 \nQ 42.625 4.78125 38.28125 2.390625 \nQ 33.9375 0 27.875 0 \nQ 17.828125 0 11.671875 7.65625 \nQ 5.515625 15.328125 5.515625 27.984375 \nQ 5.515625 40.671875 11.671875 48.328125 \nQ 17.828125 56 27.875 56 \nQ 33.9375 56 38.28125 53.609375 \nQ 42.625 51.21875 45.40625 46.390625 \nL 45.40625 54.6875 \nL 54.390625 54.6875 \nz\n\" id=\"DejaVuSans-103\"/>\n      </defs>\n      <g transform=\"translate(77.75625 268.038437)scale(0.1 -0.1)\">\n       <use xlink:href=\"#DejaVuSans-114\"/>\n       <use x=\"41.113281\" xlink:href=\"#DejaVuSans-102\"/>\n       <use x=\"76.318359\" xlink:href=\"#DejaVuSans-95\"/>\n       <use x=\"126.318359\" xlink:href=\"#DejaVuSans-114\"/>\n       <use x=\"165.181641\" xlink:href=\"#DejaVuSans-101\"/>\n       <use x=\"226.705078\" xlink:href=\"#DejaVuSans-103\"/>\n      </g>\n     </g>\n    </g>\n    <g id=\"xtick_2\">\n     <g id=\"line2d_2\">\n      <g>\n       <use style=\"stroke:#000000;stroke-width:0.8;\" x=\"203.865625\" xlink:href=\"#m93b0283170\" y=\"253.44\"/>\n      </g>\n     </g>\n     <g id=\"text_2\">\n      <!-- dt_reg -->\n      <defs>\n       <path d=\"M 45.40625 46.390625 \nL 45.40625 75.984375 \nL 54.390625 75.984375 \nL 54.390625 0 \nL 45.40625 0 \nL 45.40625 8.203125 \nQ 42.578125 3.328125 38.25 0.953125 \nQ 33.9375 -1.421875 27.875 -1.421875 \nQ 17.96875 -1.421875 11.734375 6.484375 \nQ 5.515625 14.40625 5.515625 27.296875 \nQ 5.515625 40.1875 11.734375 48.09375 \nQ 17.96875 56 27.875 56 \nQ 33.9375 56 38.25 53.625 \nQ 42.578125 51.265625 45.40625 46.390625 \nz\nM 14.796875 27.296875 \nQ 14.796875 17.390625 18.875 11.75 \nQ 22.953125 6.109375 30.078125 6.109375 \nQ 37.203125 6.109375 41.296875 11.75 \nQ 45.40625 17.390625 45.40625 27.296875 \nQ 45.40625 37.203125 41.296875 42.84375 \nQ 37.203125 48.484375 30.078125 48.484375 \nQ 22.953125 48.484375 18.875 42.84375 \nQ 14.796875 37.203125 14.796875 27.296875 \nz\n\" id=\"DejaVuSans-100\"/>\n       <path d=\"M 18.3125 70.21875 \nL 18.3125 54.6875 \nL 36.8125 54.6875 \nL 36.8125 47.703125 \nL 18.3125 47.703125 \nL 18.3125 18.015625 \nQ 18.3125 11.328125 20.140625 9.421875 \nQ 21.96875 7.515625 27.59375 7.515625 \nL 36.8125 7.515625 \nL 36.8125 0 \nL 27.59375 0 \nQ 17.1875 0 13.234375 3.875 \nQ 9.28125 7.765625 9.28125 18.015625 \nL 9.28125 47.703125 \nL 2.6875 47.703125 \nL 2.6875 54.6875 \nL 9.28125 54.6875 \nL 9.28125 70.21875 \nz\n\" id=\"DejaVuSans-116\"/>\n      </defs>\n      <g transform=\"translate(188.0375 268.038437)scale(0.1 -0.1)\">\n       <use xlink:href=\"#DejaVuSans-100\"/>\n       <use x=\"63.476562\" xlink:href=\"#DejaVuSans-116\"/>\n       <use x=\"102.685547\" xlink:href=\"#DejaVuSans-95\"/>\n       <use x=\"152.685547\" xlink:href=\"#DejaVuSans-114\"/>\n       <use x=\"191.548828\" xlink:href=\"#DejaVuSans-101\"/>\n       <use x=\"253.072266\" xlink:href=\"#DejaVuSans-103\"/>\n      </g>\n     </g>\n    </g>\n    <g id=\"xtick_3\">\n     <g id=\"line2d_3\">\n      <g>\n       <use style=\"stroke:#000000;stroke-width:0.8;\" x=\"315.465625\" xlink:href=\"#m93b0283170\" y=\"253.44\"/>\n      </g>\n     </g>\n     <g id=\"text_3\">\n      <!-- ln -->\n      <defs>\n       <path d=\"M 9.421875 75.984375 \nL 18.40625 75.984375 \nL 18.40625 0 \nL 9.421875 0 \nz\n\" id=\"DejaVuSans-108\"/>\n       <path d=\"M 54.890625 33.015625 \nL 54.890625 0 \nL 45.90625 0 \nL 45.90625 32.71875 \nQ 45.90625 40.484375 42.875 44.328125 \nQ 39.84375 48.1875 33.796875 48.1875 \nQ 26.515625 48.1875 22.3125 43.546875 \nQ 18.109375 38.921875 18.109375 30.90625 \nL 18.109375 0 \nL 9.078125 0 \nL 9.078125 54.6875 \nL 18.109375 54.6875 \nL 18.109375 46.1875 \nQ 21.34375 51.125 25.703125 53.5625 \nQ 30.078125 56 35.796875 56 \nQ 45.21875 56 50.046875 50.171875 \nQ 54.890625 44.34375 54.890625 33.015625 \nz\n\" id=\"DejaVuSans-110\"/>\n      </defs>\n      <g transform=\"translate(310.907812 268.038437)scale(0.1 -0.1)\">\n       <use xlink:href=\"#DejaVuSans-108\"/>\n       <use x=\"27.783203\" xlink:href=\"#DejaVuSans-110\"/>\n      </g>\n     </g>\n    </g>\n   </g>\n   <g id=\"matplotlib.axis_2\">\n    <g id=\"ytick_1\">\n     <g id=\"line2d_4\">\n      <defs>\n       <path d=\"M 0 0 \nL -3.5 0 \n\" id=\"mb4f3feb227\" style=\"stroke:#000000;stroke-width:0.8;\"/>\n      </defs>\n      <g>\n       <use style=\"stroke:#000000;stroke-width:0.8;\" x=\"36.465625\" xlink:href=\"#mb4f3feb227\" y=\"230.965346\"/>\n      </g>\n     </g>\n     <g id=\"text_4\">\n      <!-- 0.65 -->\n      <defs>\n       <path d=\"M 31.78125 66.40625 \nQ 24.171875 66.40625 20.328125 58.90625 \nQ 16.5 51.421875 16.5 36.375 \nQ 16.5 21.390625 20.328125 13.890625 \nQ 24.171875 6.390625 31.78125 6.390625 \nQ 39.453125 6.390625 43.28125 13.890625 \nQ 47.125 21.390625 47.125 36.375 \nQ 47.125 51.421875 43.28125 58.90625 \nQ 39.453125 66.40625 31.78125 66.40625 \nz\nM 31.78125 74.21875 \nQ 44.046875 74.21875 50.515625 64.515625 \nQ 56.984375 54.828125 56.984375 36.375 \nQ 56.984375 17.96875 50.515625 8.265625 \nQ 44.046875 -1.421875 31.78125 -1.421875 \nQ 19.53125 -1.421875 13.0625 8.265625 \nQ 6.59375 17.96875 6.59375 36.375 \nQ 6.59375 54.828125 13.0625 64.515625 \nQ 19.53125 74.21875 31.78125 74.21875 \nz\n\" id=\"DejaVuSans-48\"/>\n       <path d=\"M 10.6875 12.40625 \nL 21 12.40625 \nL 21 0 \nL 10.6875 0 \nz\n\" id=\"DejaVuSans-46\"/>\n       <path d=\"M 33.015625 40.375 \nQ 26.375 40.375 22.484375 35.828125 \nQ 18.609375 31.296875 18.609375 23.390625 \nQ 18.609375 15.53125 22.484375 10.953125 \nQ 26.375 6.390625 33.015625 6.390625 \nQ 39.65625 6.390625 43.53125 10.953125 \nQ 47.40625 15.53125 47.40625 23.390625 \nQ 47.40625 31.296875 43.53125 35.828125 \nQ 39.65625 40.375 33.015625 40.375 \nz\nM 52.59375 71.296875 \nL 52.59375 62.3125 \nQ 48.875 64.0625 45.09375 64.984375 \nQ 41.3125 65.921875 37.59375 65.921875 \nQ 27.828125 65.921875 22.671875 59.328125 \nQ 17.53125 52.734375 16.796875 39.40625 \nQ 19.671875 43.65625 24.015625 45.921875 \nQ 28.375 48.1875 33.59375 48.1875 \nQ 44.578125 48.1875 50.953125 41.515625 \nQ 57.328125 34.859375 57.328125 23.390625 \nQ 57.328125 12.15625 50.6875 5.359375 \nQ 44.046875 -1.421875 33.015625 -1.421875 \nQ 20.359375 -1.421875 13.671875 8.265625 \nQ 6.984375 17.96875 6.984375 36.375 \nQ 6.984375 53.65625 15.1875 63.9375 \nQ 23.390625 74.21875 37.203125 74.21875 \nQ 40.921875 74.21875 44.703125 73.484375 \nQ 48.484375 72.75 52.59375 71.296875 \nz\n\" id=\"DejaVuSans-54\"/>\n       <path d=\"M 10.796875 72.90625 \nL 49.515625 72.90625 \nL 49.515625 64.59375 \nL 19.828125 64.59375 \nL 19.828125 46.734375 \nQ 21.96875 47.46875 24.109375 47.828125 \nQ 26.265625 48.1875 28.421875 48.1875 \nQ 40.625 48.1875 47.75 41.5 \nQ 54.890625 34.8125 54.890625 23.390625 \nQ 54.890625 11.625 47.5625 5.09375 \nQ 40.234375 -1.421875 26.90625 -1.421875 \nQ 22.3125 -1.421875 17.546875 -0.640625 \nQ 12.796875 0.140625 7.71875 1.703125 \nL 7.71875 11.625 \nQ 12.109375 9.234375 16.796875 8.0625 \nQ 21.484375 6.890625 26.703125 6.890625 \nQ 35.15625 6.890625 40.078125 11.328125 \nQ 45.015625 15.765625 45.015625 23.390625 \nQ 45.015625 31 40.078125 35.4375 \nQ 35.15625 39.890625 26.703125 39.890625 \nQ 22.75 39.890625 18.8125 39.015625 \nQ 14.890625 38.140625 10.796875 36.28125 \nz\n\" id=\"DejaVuSans-53\"/>\n      </defs>\n      <g transform=\"translate(7.2 234.764564)scale(0.1 -0.1)\">\n       <use xlink:href=\"#DejaVuSans-48\"/>\n       <use x=\"63.623047\" xlink:href=\"#DejaVuSans-46\"/>\n       <use x=\"95.410156\" xlink:href=\"#DejaVuSans-54\"/>\n       <use x=\"159.033203\" xlink:href=\"#DejaVuSans-53\"/>\n      </g>\n     </g>\n    </g>\n    <g id=\"ytick_2\">\n     <g id=\"line2d_5\">\n      <g>\n       <use style=\"stroke:#000000;stroke-width:0.8;\" x=\"36.465625\" xlink:href=\"#mb4f3feb227\" y=\"195.780263\"/>\n      </g>\n     </g>\n     <g id=\"text_5\">\n      <!-- 0.70 -->\n      <defs>\n       <path d=\"M 8.203125 72.90625 \nL 55.078125 72.90625 \nL 55.078125 68.703125 \nL 28.609375 0 \nL 18.3125 0 \nL 43.21875 64.59375 \nL 8.203125 64.59375 \nz\n\" id=\"DejaVuSans-55\"/>\n      </defs>\n      <g transform=\"translate(7.2 199.579482)scale(0.1 -0.1)\">\n       <use xlink:href=\"#DejaVuSans-48\"/>\n       <use x=\"63.623047\" xlink:href=\"#DejaVuSans-46\"/>\n       <use x=\"95.410156\" xlink:href=\"#DejaVuSans-55\"/>\n       <use x=\"159.033203\" xlink:href=\"#DejaVuSans-48\"/>\n      </g>\n     </g>\n    </g>\n    <g id=\"ytick_3\">\n     <g id=\"line2d_6\">\n      <g>\n       <use style=\"stroke:#000000;stroke-width:0.8;\" x=\"36.465625\" xlink:href=\"#mb4f3feb227\" y=\"160.595181\"/>\n      </g>\n     </g>\n     <g id=\"text_6\">\n      <!-- 0.75 -->\n      <g transform=\"translate(7.2 164.394399)scale(0.1 -0.1)\">\n       <use xlink:href=\"#DejaVuSans-48\"/>\n       <use x=\"63.623047\" xlink:href=\"#DejaVuSans-46\"/>\n       <use x=\"95.410156\" xlink:href=\"#DejaVuSans-55\"/>\n       <use x=\"159.033203\" xlink:href=\"#DejaVuSans-53\"/>\n      </g>\n     </g>\n    </g>\n    <g id=\"ytick_4\">\n     <g id=\"line2d_7\">\n      <g>\n       <use style=\"stroke:#000000;stroke-width:0.8;\" x=\"36.465625\" xlink:href=\"#mb4f3feb227\" y=\"125.410098\"/>\n      </g>\n     </g>\n     <g id=\"text_7\">\n      <!-- 0.80 -->\n      <defs>\n       <path d=\"M 31.78125 34.625 \nQ 24.75 34.625 20.71875 30.859375 \nQ 16.703125 27.09375 16.703125 20.515625 \nQ 16.703125 13.921875 20.71875 10.15625 \nQ 24.75 6.390625 31.78125 6.390625 \nQ 38.8125 6.390625 42.859375 10.171875 \nQ 46.921875 13.96875 46.921875 20.515625 \nQ 46.921875 27.09375 42.890625 30.859375 \nQ 38.875 34.625 31.78125 34.625 \nz\nM 21.921875 38.8125 \nQ 15.578125 40.375 12.03125 44.71875 \nQ 8.5 49.078125 8.5 55.328125 \nQ 8.5 64.0625 14.71875 69.140625 \nQ 20.953125 74.21875 31.78125 74.21875 \nQ 42.671875 74.21875 48.875 69.140625 \nQ 55.078125 64.0625 55.078125 55.328125 \nQ 55.078125 49.078125 51.53125 44.71875 \nQ 48 40.375 41.703125 38.8125 \nQ 48.828125 37.15625 52.796875 32.3125 \nQ 56.78125 27.484375 56.78125 20.515625 \nQ 56.78125 9.90625 50.3125 4.234375 \nQ 43.84375 -1.421875 31.78125 -1.421875 \nQ 19.734375 -1.421875 13.25 4.234375 \nQ 6.78125 9.90625 6.78125 20.515625 \nQ 6.78125 27.484375 10.78125 32.3125 \nQ 14.796875 37.15625 21.921875 38.8125 \nz\nM 18.3125 54.390625 \nQ 18.3125 48.734375 21.84375 45.5625 \nQ 25.390625 42.390625 31.78125 42.390625 \nQ 38.140625 42.390625 41.71875 45.5625 \nQ 45.3125 48.734375 45.3125 54.390625 \nQ 45.3125 60.0625 41.71875 63.234375 \nQ 38.140625 66.40625 31.78125 66.40625 \nQ 25.390625 66.40625 21.84375 63.234375 \nQ 18.3125 60.0625 18.3125 54.390625 \nz\n\" id=\"DejaVuSans-56\"/>\n      </defs>\n      <g transform=\"translate(7.2 129.209317)scale(0.1 -0.1)\">\n       <use xlink:href=\"#DejaVuSans-48\"/>\n       <use x=\"63.623047\" xlink:href=\"#DejaVuSans-46\"/>\n       <use x=\"95.410156\" xlink:href=\"#DejaVuSans-56\"/>\n       <use x=\"159.033203\" xlink:href=\"#DejaVuSans-48\"/>\n      </g>\n     </g>\n    </g>\n    <g id=\"ytick_5\">\n     <g id=\"line2d_8\">\n      <g>\n       <use style=\"stroke:#000000;stroke-width:0.8;\" x=\"36.465625\" xlink:href=\"#mb4f3feb227\" y=\"90.225016\"/>\n      </g>\n     </g>\n     <g id=\"text_8\">\n      <!-- 0.85 -->\n      <g transform=\"translate(7.2 94.024234)scale(0.1 -0.1)\">\n       <use xlink:href=\"#DejaVuSans-48\"/>\n       <use x=\"63.623047\" xlink:href=\"#DejaVuSans-46\"/>\n       <use x=\"95.410156\" xlink:href=\"#DejaVuSans-56\"/>\n       <use x=\"159.033203\" xlink:href=\"#DejaVuSans-53\"/>\n      </g>\n     </g>\n    </g>\n    <g id=\"ytick_6\">\n     <g id=\"line2d_9\">\n      <g>\n       <use style=\"stroke:#000000;stroke-width:0.8;\" x=\"36.465625\" xlink:href=\"#mb4f3feb227\" y=\"55.039933\"/>\n      </g>\n     </g>\n     <g id=\"text_9\">\n      <!-- 0.90 -->\n      <defs>\n       <path d=\"M 10.984375 1.515625 \nL 10.984375 10.5 \nQ 14.703125 8.734375 18.5 7.8125 \nQ 22.3125 6.890625 25.984375 6.890625 \nQ 35.75 6.890625 40.890625 13.453125 \nQ 46.046875 20.015625 46.78125 33.40625 \nQ 43.953125 29.203125 39.59375 26.953125 \nQ 35.25 24.703125 29.984375 24.703125 \nQ 19.046875 24.703125 12.671875 31.3125 \nQ 6.296875 37.9375 6.296875 49.421875 \nQ 6.296875 60.640625 12.9375 67.421875 \nQ 19.578125 74.21875 30.609375 74.21875 \nQ 43.265625 74.21875 49.921875 64.515625 \nQ 56.59375 54.828125 56.59375 36.375 \nQ 56.59375 19.140625 48.40625 8.859375 \nQ 40.234375 -1.421875 26.421875 -1.421875 \nQ 22.703125 -1.421875 18.890625 -0.6875 \nQ 15.09375 0.046875 10.984375 1.515625 \nz\nM 30.609375 32.421875 \nQ 37.25 32.421875 41.125 36.953125 \nQ 45.015625 41.5 45.015625 49.421875 \nQ 45.015625 57.28125 41.125 61.84375 \nQ 37.25 66.40625 30.609375 66.40625 \nQ 23.96875 66.40625 20.09375 61.84375 \nQ 16.21875 57.28125 16.21875 49.421875 \nQ 16.21875 41.5 20.09375 36.953125 \nQ 23.96875 32.421875 30.609375 32.421875 \nz\n\" id=\"DejaVuSans-57\"/>\n      </defs>\n      <g transform=\"translate(7.2 58.839152)scale(0.1 -0.1)\">\n       <use xlink:href=\"#DejaVuSans-48\"/>\n       <use x=\"63.623047\" xlink:href=\"#DejaVuSans-46\"/>\n       <use x=\"95.410156\" xlink:href=\"#DejaVuSans-57\"/>\n       <use x=\"159.033203\" xlink:href=\"#DejaVuSans-48\"/>\n      </g>\n     </g>\n    </g>\n   </g>\n   <g id=\"line2d_10\">\n    <path clip-path=\"url(#pefe4ed32c0)\" d=\"M 75.525625 100.965266 \nL 109.005625 100.965266 \nL 109.005625 71.987743 \nL 75.525625 71.987743 \nL 75.525625 100.965266 \n\" style=\"fill:none;stroke:#000000;stroke-linecap:square;\"/>\n   </g>\n   <g id=\"line2d_11\">\n    <path clip-path=\"url(#pefe4ed32c0)\" d=\"M 92.265625 100.965266 \nL 92.265625 108.56767 \n\" style=\"fill:none;stroke:#000000;stroke-linecap:square;\"/>\n   </g>\n   <g id=\"line2d_12\">\n    <path clip-path=\"url(#pefe4ed32c0)\" d=\"M 92.265625 71.987743 \nL 92.265625 45.883636 \n\" style=\"fill:none;stroke:#000000;stroke-linecap:square;\"/>\n   </g>\n   <g id=\"line2d_13\">\n    <path clip-path=\"url(#pefe4ed32c0)\" d=\"M 83.895625 108.56767 \nL 100.635625 108.56767 \n\" style=\"fill:none;stroke:#000000;stroke-linecap:square;\"/>\n   </g>\n   <g id=\"line2d_14\">\n    <path clip-path=\"url(#pefe4ed32c0)\" d=\"M 83.895625 45.883636 \nL 100.635625 45.883636 \n\" style=\"fill:none;stroke:#000000;stroke-linecap:square;\"/>\n   </g>\n   <g id=\"line2d_15\">\n    <defs>\n     <path d=\"M 0 3 \nC 0.795609 3 1.55874 2.683901 2.12132 2.12132 \nC 2.683901 1.55874 3 0.795609 3 0 \nC 3 -0.795609 2.683901 -1.55874 2.12132 -2.12132 \nC 1.55874 -2.683901 0.795609 -3 0 -3 \nC -0.795609 -3 -1.55874 -2.683901 -2.12132 -2.12132 \nC -2.683901 -1.55874 -3 -0.795609 -3 0 \nC -3 0.795609 -2.683901 1.55874 -2.12132 2.12132 \nC -1.55874 2.683901 -0.795609 3 0 3 \nz\n\" id=\"m2d5db08616\" style=\"stroke:#000000;\"/>\n    </defs>\n    <g clip-path=\"url(#pefe4ed32c0)\">\n     <use style=\"fill-opacity:0;stroke:#000000;\" x=\"92.265625\" xlink:href=\"#m2d5db08616\" y=\"157.669782\"/>\n    </g>\n   </g>\n   <g id=\"line2d_16\">\n    <path clip-path=\"url(#pefe4ed32c0)\" d=\"M 187.125625 134.671136 \nL 220.605625 134.671136 \nL 220.605625 103.531391 \nL 187.125625 103.531391 \nL 187.125625 134.671136 \n\" style=\"fill:none;stroke:#000000;stroke-linecap:square;\"/>\n   </g>\n   <g id=\"line2d_17\">\n    <path clip-path=\"url(#pefe4ed32c0)\" d=\"M 203.865625 134.671136 \nL 203.865625 135.781395 \n\" style=\"fill:none;stroke:#000000;stroke-linecap:square;\"/>\n   </g>\n   <g id=\"line2d_18\">\n    <path clip-path=\"url(#pefe4ed32c0)\" d=\"M 203.865625 103.531391 \nL 203.865625 93.544588 \n\" style=\"fill:none;stroke:#000000;stroke-linecap:square;\"/>\n   </g>\n   <g id=\"line2d_19\">\n    <path clip-path=\"url(#pefe4ed32c0)\" d=\"M 195.495625 135.781395 \nL 212.235625 135.781395 \n\" style=\"fill:none;stroke:#000000;stroke-linecap:square;\"/>\n   </g>\n   <g id=\"line2d_20\">\n    <path clip-path=\"url(#pefe4ed32c0)\" d=\"M 195.495625 93.544588 \nL 212.235625 93.544588 \n\" style=\"fill:none;stroke:#000000;stroke-linecap:square;\"/>\n   </g>\n   <g id=\"line2d_21\">\n    <g clip-path=\"url(#pefe4ed32c0)\">\n     <use style=\"fill-opacity:0;stroke:#000000;\" x=\"203.865625\" xlink:href=\"#m2d5db08616\" y=\"243.556364\"/>\n     <use style=\"fill-opacity:0;stroke:#000000;\" x=\"203.865625\" xlink:href=\"#m2d5db08616\" y=\"199.863505\"/>\n     <use style=\"fill-opacity:0;stroke:#000000;\" x=\"203.865625\" xlink:href=\"#m2d5db08616\" y=\"47.540699\"/>\n    </g>\n   </g>\n   <g id=\"line2d_22\">\n    <path clip-path=\"url(#pefe4ed32c0)\" d=\"M 298.725625 99.752396 \nL 332.205625 99.752396 \nL 332.205625 61.37265 \nL 298.725625 61.37265 \nL 298.725625 99.752396 \n\" style=\"fill:none;stroke:#000000;stroke-linecap:square;\"/>\n   </g>\n   <g id=\"line2d_23\">\n    <path clip-path=\"url(#pefe4ed32c0)\" d=\"M 315.465625 99.752396 \nL 315.465625 136.944352 \n\" style=\"fill:none;stroke:#000000;stroke-linecap:square;\"/>\n   </g>\n   <g id=\"line2d_24\">\n    <path clip-path=\"url(#pefe4ed32c0)\" d=\"M 315.465625 61.37265 \nL 315.465625 48.509732 \n\" style=\"fill:none;stroke:#000000;stroke-linecap:square;\"/>\n   </g>\n   <g id=\"line2d_25\">\n    <path clip-path=\"url(#pefe4ed32c0)\" d=\"M 307.095625 136.944352 \nL 323.835625 136.944352 \n\" style=\"fill:none;stroke:#000000;stroke-linecap:square;\"/>\n   </g>\n   <g id=\"line2d_26\">\n    <path clip-path=\"url(#pefe4ed32c0)\" d=\"M 307.095625 48.509732 \nL 323.835625 48.509732 \n\" style=\"fill:none;stroke:#000000;stroke-linecap:square;\"/>\n   </g>\n   <g id=\"line2d_27\"/>\n   <g id=\"line2d_28\">\n    <path clip-path=\"url(#pefe4ed32c0)\" d=\"M 75.525625 82.657156 \nL 109.005625 82.657156 \n\" style=\"fill:none;stroke:#ff7f0e;stroke-linecap:square;\"/>\n   </g>\n   <g id=\"line2d_29\">\n    <path clip-path=\"url(#pefe4ed32c0)\" d=\"M 187.125625 123.515183 \nL 220.605625 123.515183 \n\" style=\"fill:none;stroke:#ff7f0e;stroke-linecap:square;\"/>\n   </g>\n   <g id=\"line2d_30\">\n    <path clip-path=\"url(#pefe4ed32c0)\" d=\"M 298.725625 76.338256 \nL 332.205625 76.338256 \n\" style=\"fill:none;stroke:#ff7f0e;stroke-linecap:square;\"/>\n   </g>\n   <g id=\"patch_3\">\n    <path d=\"M 36.465625 253.44 \nL 36.465625 36 \n\" style=\"fill:none;stroke:#000000;stroke-linecap:square;stroke-linejoin:miter;stroke-width:0.8;\"/>\n   </g>\n   <g id=\"patch_4\">\n    <path d=\"M 371.265625 253.44 \nL 371.265625 36 \n\" style=\"fill:none;stroke:#000000;stroke-linecap:square;stroke-linejoin:miter;stroke-width:0.8;\"/>\n   </g>\n   <g id=\"patch_5\">\n    <path d=\"M 36.465625 253.44 \nL 371.265625 253.44 \n\" style=\"fill:none;stroke:#000000;stroke-linecap:square;stroke-linejoin:miter;stroke-width:0.8;\"/>\n   </g>\n   <g id=\"patch_6\">\n    <path d=\"M 36.465625 36 \nL 371.265625 36 \n\" style=\"fill:none;stroke:#000000;stroke-linecap:square;stroke-linejoin:miter;stroke-width:0.8;\"/>\n   </g>\n  </g>\n  <g id=\"text_10\">\n   <!-- Algorithm Comparison -->\n   <defs>\n    <path d=\"M 34.1875 63.1875 \nL 20.796875 26.90625 \nL 47.609375 26.90625 \nz\nM 28.609375 72.90625 \nL 39.796875 72.90625 \nL 67.578125 0 \nL 57.328125 0 \nL 50.6875 18.703125 \nL 17.828125 18.703125 \nL 11.1875 0 \nL 0.78125 0 \nz\n\" id=\"DejaVuSans-65\"/>\n    <path d=\"M 30.609375 48.390625 \nQ 23.390625 48.390625 19.1875 42.75 \nQ 14.984375 37.109375 14.984375 27.296875 \nQ 14.984375 17.484375 19.15625 11.84375 \nQ 23.34375 6.203125 30.609375 6.203125 \nQ 37.796875 6.203125 41.984375 11.859375 \nQ 46.1875 17.53125 46.1875 27.296875 \nQ 46.1875 37.015625 41.984375 42.703125 \nQ 37.796875 48.390625 30.609375 48.390625 \nz\nM 30.609375 56 \nQ 42.328125 56 49.015625 48.375 \nQ 55.71875 40.765625 55.71875 27.296875 \nQ 55.71875 13.875 49.015625 6.21875 \nQ 42.328125 -1.421875 30.609375 -1.421875 \nQ 18.84375 -1.421875 12.171875 6.21875 \nQ 5.515625 13.875 5.515625 27.296875 \nQ 5.515625 40.765625 12.171875 48.375 \nQ 18.84375 56 30.609375 56 \nz\n\" id=\"DejaVuSans-111\"/>\n    <path d=\"M 9.421875 54.6875 \nL 18.40625 54.6875 \nL 18.40625 0 \nL 9.421875 0 \nz\nM 9.421875 75.984375 \nL 18.40625 75.984375 \nL 18.40625 64.59375 \nL 9.421875 64.59375 \nz\n\" id=\"DejaVuSans-105\"/>\n    <path d=\"M 54.890625 33.015625 \nL 54.890625 0 \nL 45.90625 0 \nL 45.90625 32.71875 \nQ 45.90625 40.484375 42.875 44.328125 \nQ 39.84375 48.1875 33.796875 48.1875 \nQ 26.515625 48.1875 22.3125 43.546875 \nQ 18.109375 38.921875 18.109375 30.90625 \nL 18.109375 0 \nL 9.078125 0 \nL 9.078125 75.984375 \nL 18.109375 75.984375 \nL 18.109375 46.1875 \nQ 21.34375 51.125 25.703125 53.5625 \nQ 30.078125 56 35.796875 56 \nQ 45.21875 56 50.046875 50.171875 \nQ 54.890625 44.34375 54.890625 33.015625 \nz\n\" id=\"DejaVuSans-104\"/>\n    <path d=\"M 52 44.1875 \nQ 55.375 50.25 60.0625 53.125 \nQ 64.75 56 71.09375 56 \nQ 79.640625 56 84.28125 50.015625 \nQ 88.921875 44.046875 88.921875 33.015625 \nL 88.921875 0 \nL 79.890625 0 \nL 79.890625 32.71875 \nQ 79.890625 40.578125 77.09375 44.375 \nQ 74.3125 48.1875 68.609375 48.1875 \nQ 61.625 48.1875 57.5625 43.546875 \nQ 53.515625 38.921875 53.515625 30.90625 \nL 53.515625 0 \nL 44.484375 0 \nL 44.484375 32.71875 \nQ 44.484375 40.625 41.703125 44.40625 \nQ 38.921875 48.1875 33.109375 48.1875 \nQ 26.21875 48.1875 22.15625 43.53125 \nQ 18.109375 38.875 18.109375 30.90625 \nL 18.109375 0 \nL 9.078125 0 \nL 9.078125 54.6875 \nL 18.109375 54.6875 \nL 18.109375 46.1875 \nQ 21.1875 51.21875 25.484375 53.609375 \nQ 29.78125 56 35.6875 56 \nQ 41.65625 56 45.828125 52.96875 \nQ 50 49.953125 52 44.1875 \nz\n\" id=\"DejaVuSans-109\"/>\n    <path id=\"DejaVuSans-32\"/>\n    <path d=\"M 64.40625 67.28125 \nL 64.40625 56.890625 \nQ 59.421875 61.53125 53.78125 63.8125 \nQ 48.140625 66.109375 41.796875 66.109375 \nQ 29.296875 66.109375 22.65625 58.46875 \nQ 16.015625 50.828125 16.015625 36.375 \nQ 16.015625 21.96875 22.65625 14.328125 \nQ 29.296875 6.6875 41.796875 6.6875 \nQ 48.140625 6.6875 53.78125 8.984375 \nQ 59.421875 11.28125 64.40625 15.921875 \nL 64.40625 5.609375 \nQ 59.234375 2.09375 53.4375 0.328125 \nQ 47.65625 -1.421875 41.21875 -1.421875 \nQ 24.65625 -1.421875 15.125 8.703125 \nQ 5.609375 18.84375 5.609375 36.375 \nQ 5.609375 53.953125 15.125 64.078125 \nQ 24.65625 74.21875 41.21875 74.21875 \nQ 47.75 74.21875 53.53125 72.484375 \nQ 59.328125 70.75 64.40625 67.28125 \nz\n\" id=\"DejaVuSans-67\"/>\n    <path d=\"M 18.109375 8.203125 \nL 18.109375 -20.796875 \nL 9.078125 -20.796875 \nL 9.078125 54.6875 \nL 18.109375 54.6875 \nL 18.109375 46.390625 \nQ 20.953125 51.265625 25.265625 53.625 \nQ 29.59375 56 35.59375 56 \nQ 45.5625 56 51.78125 48.09375 \nQ 58.015625 40.1875 58.015625 27.296875 \nQ 58.015625 14.40625 51.78125 6.484375 \nQ 45.5625 -1.421875 35.59375 -1.421875 \nQ 29.59375 -1.421875 25.265625 0.953125 \nQ 20.953125 3.328125 18.109375 8.203125 \nz\nM 48.6875 27.296875 \nQ 48.6875 37.203125 44.609375 42.84375 \nQ 40.53125 48.484375 33.40625 48.484375 \nQ 26.265625 48.484375 22.1875 42.84375 \nQ 18.109375 37.203125 18.109375 27.296875 \nQ 18.109375 17.390625 22.1875 11.75 \nQ 26.265625 6.109375 33.40625 6.109375 \nQ 40.53125 6.109375 44.609375 11.75 \nQ 48.6875 17.390625 48.6875 27.296875 \nz\n\" id=\"DejaVuSans-112\"/>\n    <path d=\"M 34.28125 27.484375 \nQ 23.390625 27.484375 19.1875 25 \nQ 14.984375 22.515625 14.984375 16.5 \nQ 14.984375 11.71875 18.140625 8.90625 \nQ 21.296875 6.109375 26.703125 6.109375 \nQ 34.1875 6.109375 38.703125 11.40625 \nQ 43.21875 16.703125 43.21875 25.484375 \nL 43.21875 27.484375 \nz\nM 52.203125 31.203125 \nL 52.203125 0 \nL 43.21875 0 \nL 43.21875 8.296875 \nQ 40.140625 3.328125 35.546875 0.953125 \nQ 30.953125 -1.421875 24.3125 -1.421875 \nQ 15.921875 -1.421875 10.953125 3.296875 \nQ 6 8.015625 6 15.921875 \nQ 6 25.140625 12.171875 29.828125 \nQ 18.359375 34.515625 30.609375 34.515625 \nL 43.21875 34.515625 \nL 43.21875 35.40625 \nQ 43.21875 41.609375 39.140625 45 \nQ 35.0625 48.390625 27.6875 48.390625 \nQ 23 48.390625 18.546875 47.265625 \nQ 14.109375 46.140625 10.015625 43.890625 \nL 10.015625 52.203125 \nQ 14.9375 54.109375 19.578125 55.046875 \nQ 24.21875 56 28.609375 56 \nQ 40.484375 56 46.34375 49.84375 \nQ 52.203125 43.703125 52.203125 31.203125 \nz\n\" id=\"DejaVuSans-97\"/>\n    <path d=\"M 44.28125 53.078125 \nL 44.28125 44.578125 \nQ 40.484375 46.53125 36.375 47.5 \nQ 32.28125 48.484375 27.875 48.484375 \nQ 21.1875 48.484375 17.84375 46.4375 \nQ 14.5 44.390625 14.5 40.28125 \nQ 14.5 37.15625 16.890625 35.375 \nQ 19.28125 33.59375 26.515625 31.984375 \nL 29.59375 31.296875 \nQ 39.15625 29.25 43.1875 25.515625 \nQ 47.21875 21.78125 47.21875 15.09375 \nQ 47.21875 7.46875 41.1875 3.015625 \nQ 35.15625 -1.421875 24.609375 -1.421875 \nQ 20.21875 -1.421875 15.453125 -0.5625 \nQ 10.6875 0.296875 5.421875 2 \nL 5.421875 11.28125 \nQ 10.40625 8.6875 15.234375 7.390625 \nQ 20.0625 6.109375 24.8125 6.109375 \nQ 31.15625 6.109375 34.5625 8.28125 \nQ 37.984375 10.453125 37.984375 14.40625 \nQ 37.984375 18.0625 35.515625 20.015625 \nQ 33.0625 21.96875 24.703125 23.78125 \nL 21.578125 24.515625 \nQ 13.234375 26.265625 9.515625 29.90625 \nQ 5.8125 33.546875 5.8125 39.890625 \nQ 5.8125 47.609375 11.28125 51.796875 \nQ 16.75 56 26.8125 56 \nQ 31.78125 56 36.171875 55.265625 \nQ 40.578125 54.546875 44.28125 53.078125 \nz\n\" id=\"DejaVuSans-115\"/>\n   </defs>\n   <g transform=\"translate(131.250625 16.318125)scale(0.12 -0.12)\">\n    <use xlink:href=\"#DejaVuSans-65\"/>\n    <use x=\"68.408203\" xlink:href=\"#DejaVuSans-108\"/>\n    <use x=\"96.191406\" xlink:href=\"#DejaVuSans-103\"/>\n    <use x=\"159.667969\" xlink:href=\"#DejaVuSans-111\"/>\n    <use x=\"220.849609\" xlink:href=\"#DejaVuSans-114\"/>\n    <use x=\"261.962891\" xlink:href=\"#DejaVuSans-105\"/>\n    <use x=\"289.746094\" xlink:href=\"#DejaVuSans-116\"/>\n    <use x=\"328.955078\" xlink:href=\"#DejaVuSans-104\"/>\n    <use x=\"392.333984\" xlink:href=\"#DejaVuSans-109\"/>\n    <use x=\"489.746094\" xlink:href=\"#DejaVuSans-32\"/>\n    <use x=\"521.533203\" xlink:href=\"#DejaVuSans-67\"/>\n    <use x=\"591.357422\" xlink:href=\"#DejaVuSans-111\"/>\n    <use x=\"652.539062\" xlink:href=\"#DejaVuSans-109\"/>\n    <use x=\"749.951172\" xlink:href=\"#DejaVuSans-112\"/>\n    <use x=\"813.427734\" xlink:href=\"#DejaVuSans-97\"/>\n    <use x=\"874.707031\" xlink:href=\"#DejaVuSans-114\"/>\n    <use x=\"915.820312\" xlink:href=\"#DejaVuSans-105\"/>\n    <use x=\"943.603516\" xlink:href=\"#DejaVuSans-115\"/>\n    <use x=\"995.703125\" xlink:href=\"#DejaVuSans-111\"/>\n    <use x=\"1056.884766\" xlink:href=\"#DejaVuSans-110\"/>\n   </g>\n  </g>\n </g>\n <defs>\n  <clipPath id=\"pefe4ed32c0\">\n   <rect height=\"217.44\" width=\"334.8\" x=\"36.465625\" y=\"36\"/>\n  </clipPath>\n </defs>\n</svg>\n",
      "image/png": "[encoded data removed]"
     },
     "metadata": {
      "needs_background": "light"
     }
    }
   ],
   "source": [
    "## Source: https://machinelearningmastery.com/compare-machine-learning-algorithms-python-scikit-learn/\n",
    "\n",
    "seed = 42\n",
    "\n",
    "# append each model into a list\n",
    "models = []\n",
    "\n",
    "models.append(('rf_reg', gridsearch_rf_reg.best_estimator_))\n",
    "models.append(('dt_reg', gridsearch_dt_reg.best_estimator_))\n",
    "models.append(('ln', gridsearch_ln.best_estimator_))\n",
    "\n",
    "# evaluate the models through iteration\n",
    "results = []\n",
    "model_names = []\n",
    "scoring = 'r2'\n",
    "\n",
    "for model_names, model in models:\n",
    "\tkfold = model_selection.KFold(n_splits=10, random_state=seed)\n",
    "\tcv_results = model_selection.cross_val_score(model, X_solar, y_solar, cv=kfold, scoring=scoring)\n",
    "\tresults.append(cv_results)\n",
    "\tmodel_names.append(model_names)\n",
    "\tmsg = \"%s: %f (%f)\" % (model_names, cv_results.mean(), cv_results.std())\n",
    "\tprint(msg)\n",
    "\n",
    "# boxplot algorithm comparison\n",
    "fig = plt.figure()\n",
    "fig.suptitle('Algorithm Comparison')\n",
    "ax = fig.add_subplot(111)\n",
    "plt.boxplot(results)\n",
    "ax.set_xticklabels(model_names)\n",
    "plt.show()"
   ]
  },
  {
   "source": [
    "### t-test"
   ],
   "cell_type": "markdown",
   "metadata": {}
  },
  {
   "cell_type": "code",
   "execution_count": 143,
   "metadata": {},
   "outputs": [
    {
     "output_type": "stream",
     "name": "stdout",
     "text": [
      "P-value: 0.211, t-Statistic: 1.433\nAlgorithms probably have the same performance\n"
     ]
    }
   ],
   "source": [
    "from mlxtend.evaluate import paired_ttest_5x2cv\n",
    "\n",
    "## Source: http://rasbt.github.io/mlxtend/api_subpackages/mlxtend.evaluate/#paired_ttest_5x2cv\n",
    "\n",
    "# check if difference between algorithms is real\n",
    "t, p = paired_ttest_5x2cv(estimator1=gridsearch_rf_reg.best_estimator_, estimator2=gridsearch_ln.best_estimator_, X=X_solar, y=y_solar, scoring='r2', random_seed=42)\n",
    "\n",
    "# summarize\n",
    "print('P-value: %.3f, t-Statistic: %.3f' % (p, t))\n",
    "\n",
    "# interpret the result\n",
    "if p <= 0.05:\n",
    "    print('Difference between mean performance is probably real')\n",
    "else:\n",
    "    print('Algorithms probably have the same performance')"
   ]
  },
  {
   "cell_type": "code",
   "execution_count": 144,
   "metadata": {},
   "outputs": [
    {
     "output_type": "stream",
     "name": "stdout",
     "text": [
      "P-value: 0.014, t-Statistic: -3.719\nDifference between mean performance is probably real\n"
     ]
    }
   ],
   "source": [
    "from mlxtend.evaluate import paired_ttest_5x2cv\n",
    "\n",
    "## Source: http://rasbt.github.io/mlxtend/api_subpackages/mlxtend.evaluate/#paired_ttest_5x2cv\n",
    "\n",
    "# check if difference between algorithms is real\n",
    "t, p = paired_ttest_5x2cv(estimator1=gridsearch_dt_reg.best_estimator_, estimator2=gridsearch_ln.best_estimator_, X=X_solar, y=y_solar, scoring='r2', random_seed=42)\n",
    "\n",
    "# summarize\n",
    "print('P-value: %.3f, t-Statistic: %.3f' % (p, t))\n",
    "\n",
    "# interpret the result\n",
    "if p <= 0.05:\n",
    "    print('Difference between mean performance is probably real')\n",
    "else:\n",
    "    print('Algorithms probably have the same performance')"
   ]
  }
 ]
}