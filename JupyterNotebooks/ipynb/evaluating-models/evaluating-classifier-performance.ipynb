{
 "cells": [
  {
   "cell_type": "markdown",
   "metadata": {},
   "source": [
    "*The following discusses a few points from Chapter 5 of Witten et al.'s **Data Mining: Practical Machine Learning Tools and Techniques** (4th ed).* Specifically, these notes discuss defining a confidence interval based on a classifier's performance on a dataset available (usually, data is scarce). They also discuss using statistical tests to evaluate the relative performance of classifiers. \n",
    "\n",
    "\n",
    "## Estimating classifier performance\n",
    "\n",
    "\n",
    "When we develop a classification model, its performance (e.g., accuracy) will vary from data set to data set (even if the data sets were taken from the same population), and in general we'd like a way of estimating how well the model is expected to perform. One thing we can do is use the results obtained from a test set and define a confidence interval based on that.  \n",
    "\n",
    "The idea is that applying the classifier to randomly selected data sets is a Bernouli process, like flipping a coin. If the probability of getting heads is $p$, then for any sequence of $N$ coin flips, the actual frequency of heads will be somewhere around $p$. If we were to record the values for multiple sequences of coin flips,  it turns out that the variance  of the values will be $p(1-p)/N$. For large $N$, the distribution will be approximately normal. \n",
    "\n",
    "Suppose a classifier on a given set yields accuracy f=75%. To standardize $f$ (yielding a $z$ score), we would use the following. \n",
    "\n",
    "$\\frac{f - p}{\\sqrt{p(1-p)/N}}$\n",
    "\n",
    "To define an interval, we would need to choose a suitable value for $z$ (based upon whatever confidence level we are interested in, and then compute:\n",
    "\n",
    "$P(-z < \\frac{f - p}{\\sqrt{p(1-p)/N}} < +z)$\n",
    "\n",
    "Actually, what we are interested in is solving for $p$ (we treat the above as an equality and then solve for $p$). The details are omitted, but we are left with.  \n",
    "\n",
    "$p = (f + \\frac{z^2}{2N} \\pm z\\sqrt{\\frac{f}{N}-\\frac{f^2}{N}+\\frac{z^2}{4N^2}})/(1+\\frac{z^2}{N})$\n",
    "\n",
    "A Python function computing confidence intervals based on this is given below. "
   ]
  },
  {
   "cell_type": "code",
   "execution_count": 8,
   "metadata": {
    "scrolled": true
   },
   "outputs": [],
   "source": [
    "import math\n",
    "from scipy.stats import norm,t, binom\n",
    "import matplotlib\n",
    "import matplotlib.pyplot as plt\n",
    "import numpy as np;\n",
    "import pandas as pd"
   ]
  },
  {
   "cell_type": "code",
   "execution_count": 9,
   "metadata": {},
   "outputs": [],
   "source": [
    "wdbc_data = '../data-sets/wdbc.csv'"
   ]
  },
  {
   "cell_type": "code",
   "execution_count": 10,
   "metadata": {},
   "outputs": [],
   "source": [
    "# defines interval level based on the above discussion. \n",
    "def confidence(f, N, c=0.9):\n",
    "    z = norm.ppf(1-((1-c)/2))\n",
    "    t1 = z*math.sqrt(f/N - (f*f)/N + (z*z)/(4*N*N))\n",
    "    t2 = f + (z*z)/(2*N) \n",
    "    t3 = (1+(z*z)/N)\n",
    "    return [(t2-t1)/t3, (t2+t1)/t3]"
   ]
  },
  {
   "cell_type": "code",
   "execution_count": 11,
   "metadata": {},
   "outputs": [
    {
     "name": "stdout",
     "output_type": "stream",
     "text": [
      "0.00\t0.0000\n",
      "0.05\t0.0654\n",
      "0.10\t0.1310\n",
      "0.16\t0.1972\n",
      "0.21\t0.2643\n",
      "0.26\t0.3326\n",
      "0.31\t0.4024\n",
      "0.36\t0.4743\n",
      "0.42\t0.5488\n",
      "0.47\t0.6264\n",
      "0.52\t0.7080\n",
      "0.57\t0.7946\n",
      "0.63\t0.8876\n",
      "0.68\t0.9891\n",
      "0.73\t1.1019\n",
      "0.78\t1.2307\n",
      "0.83\t1.3841\n",
      "0.89\t1.5795\n",
      "0.94\t1.8655\n",
      "0.99\t2.5758\n"
     ]
    }
   ],
   "source": [
    "# Aside: we'll print out some z scores for some confidence levels. \n",
    "dist = norm(0,1)\n",
    "x = np.linspace(0.0,0.99,20)\n",
    "for i in x:\n",
    "    half = i+(1-i)/2\n",
    "    print(\"{0:.2f}\\t{1:.4f}\".format(i, dist.ppf(half)))"
   ]
  },
  {
   "cell_type": "markdown",
   "metadata": {},
   "source": [
    "Below, we compare the manual calculations to what we get using a normal distribution from `scipy.stats`. Note that the use of a normal distribution will only be appropriate for a large value for $n$.  "
   ]
  },
  {
   "cell_type": "code",
   "execution_count": 12,
   "metadata": {},
   "outputs": [
    {
     "name": "stdout",
     "output_type": "stream",
     "text": [
      "[0.7320513138468852, 0.7671288454309665]\n",
      "(0.7324516324736291, 0.7675483675263709)\n"
     ]
    }
   ],
   "source": [
    "dist = norm(0,1)\n",
    "z = norm.ppf(0.9)\n",
    "\n",
    "f = 0.75\n",
    "c = 0.8\n",
    "n = 1000\n",
    "\n",
    "# compare the manual calculation to using norm.interval.\n",
    "print(confidence(f,n,c))\n",
    "print(norm.interval(c, loc=f, scale=math.sqrt(f*(1-f))/math.sqrt(n)))"
   ]
  },
  {
   "cell_type": "code",
   "execution_count": 13,
   "metadata": {},
   "outputs": [
    {
     "name": "stdout",
     "output_type": "stream",
     "text": [
      "[0.6907697268228327, 0.8011510915140075]\n",
      "(0.6945071893989329, 0.8054928106010671)\n"
     ]
    }
   ],
   "source": [
    "n = 100\n",
    "p = 0.75\n",
    "print(confidence(p,n,c))\n",
    "print(norm.interval(c, loc=p, scale=math.sqrt(p*(1-p))/math.sqrt(n)))"
   ]
  },
  {
   "cell_type": "code",
   "execution_count": 14,
   "metadata": {},
   "outputs": [
    {
     "name": "stdout",
     "output_type": "stream",
     "text": [
      "[0.5483172316247326, 0.881148427329997]\n",
      "(0.5745163247362906, 0.9254836752637094)\n"
     ]
    }
   ],
   "source": [
    "p = 0.75\n",
    "c = 0.8\n",
    "n = 10\n",
    "\n",
    "print(confidence(p,n,c))\n",
    "print(norm.interval(c, loc=p, scale=math.sqrt(p*(1-p))/math.sqrt(n)))"
   ]
  },
  {
   "cell_type": "markdown",
   "metadata": {},
   "source": [
    "## Using t-tests to compare classifiers\n",
    "\n",
    "It's possible to use t-tests to compare 2 or more classifiers. Importantly, one should not use a standard paired t-test, as the this tends to falsely indicate that 2 models are different when they are not. Witten et al. instead recommend what they call the \\emph{corrected resampled t-test}. They indicate that it is acceptable to use this test when compairing models on resampled data (multiple pairs of accuracy scores are obtained by repeatedly generating training test splits over the data), or else when cross validation is used. \n",
    "\n",
    "Below, we'll use the Wisconsin breast cancer data set and compare decision trees to logistic regression."
   ]
  },
  {
   "cell_type": "code",
   "execution_count": 15,
   "metadata": {},
   "outputs": [
    {
     "name": "stdout",
     "output_type": "stream",
     "text": [
      "shape:\t (569, 32)\n"
     ]
    },
    {
     "data": {
      "text/html": [
       "<div>\n",
       "<style scoped>\n",
       "    .dataframe tbody tr th:only-of-type {\n",
       "        vertical-align: middle;\n",
       "    }\n",
       "\n",
       "    .dataframe tbody tr th {\n",
       "        vertical-align: top;\n",
       "    }\n",
       "\n",
       "    .dataframe thead th {\n",
       "        text-align: right;\n",
       "    }\n",
       "</style>\n",
       "<table border=\"1\" class=\"dataframe\">\n",
       "  <thead>\n",
       "    <tr style=\"text-align: right;\">\n",
       "      <th></th>\n",
       "      <th>id</th>\n",
       "      <th>radiusAvg</th>\n",
       "      <th>textureAvg</th>\n",
       "      <th>perimeterAvg</th>\n",
       "      <th>areaAvg</th>\n",
       "      <th>smoothnessAvg</th>\n",
       "      <th>compactnessAvg</th>\n",
       "      <th>concavityAvg</th>\n",
       "      <th>concavepointsAvg</th>\n",
       "      <th>symmetryAvg</th>\n",
       "      <th>...</th>\n",
       "      <th>textureWorst</th>\n",
       "      <th>perimeterWorst</th>\n",
       "      <th>areaWorst</th>\n",
       "      <th>smoothnessWorst</th>\n",
       "      <th>compactnessWorst</th>\n",
       "      <th>concavityWorst</th>\n",
       "      <th>concavepointsWorst</th>\n",
       "      <th>symmetryWorst</th>\n",
       "      <th>fractaldimWorst</th>\n",
       "      <th>c</th>\n",
       "    </tr>\n",
       "  </thead>\n",
       "  <tbody>\n",
       "    <tr>\n",
       "      <th>0</th>\n",
       "      <td>842302</td>\n",
       "      <td>17.99</td>\n",
       "      <td>10.38</td>\n",
       "      <td>122.80</td>\n",
       "      <td>1001.0</td>\n",
       "      <td>0.11840</td>\n",
       "      <td>0.27760</td>\n",
       "      <td>0.3001</td>\n",
       "      <td>0.14710</td>\n",
       "      <td>0.2419</td>\n",
       "      <td>...</td>\n",
       "      <td>17.33</td>\n",
       "      <td>184.60</td>\n",
       "      <td>2019.0</td>\n",
       "      <td>0.1622</td>\n",
       "      <td>0.6656</td>\n",
       "      <td>0.7119</td>\n",
       "      <td>0.2654</td>\n",
       "      <td>0.4601</td>\n",
       "      <td>0.11890</td>\n",
       "      <td>0</td>\n",
       "    </tr>\n",
       "    <tr>\n",
       "      <th>1</th>\n",
       "      <td>842517</td>\n",
       "      <td>20.57</td>\n",
       "      <td>17.77</td>\n",
       "      <td>132.90</td>\n",
       "      <td>1326.0</td>\n",
       "      <td>0.08474</td>\n",
       "      <td>0.07864</td>\n",
       "      <td>0.0869</td>\n",
       "      <td>0.07017</td>\n",
       "      <td>0.1812</td>\n",
       "      <td>...</td>\n",
       "      <td>23.41</td>\n",
       "      <td>158.80</td>\n",
       "      <td>1956.0</td>\n",
       "      <td>0.1238</td>\n",
       "      <td>0.1866</td>\n",
       "      <td>0.2416</td>\n",
       "      <td>0.1860</td>\n",
       "      <td>0.2750</td>\n",
       "      <td>0.08902</td>\n",
       "      <td>0</td>\n",
       "    </tr>\n",
       "    <tr>\n",
       "      <th>2</th>\n",
       "      <td>84300903</td>\n",
       "      <td>19.69</td>\n",
       "      <td>21.25</td>\n",
       "      <td>130.00</td>\n",
       "      <td>1203.0</td>\n",
       "      <td>0.10960</td>\n",
       "      <td>0.15990</td>\n",
       "      <td>0.1974</td>\n",
       "      <td>0.12790</td>\n",
       "      <td>0.2069</td>\n",
       "      <td>...</td>\n",
       "      <td>25.53</td>\n",
       "      <td>152.50</td>\n",
       "      <td>1709.0</td>\n",
       "      <td>0.1444</td>\n",
       "      <td>0.4245</td>\n",
       "      <td>0.4504</td>\n",
       "      <td>0.2430</td>\n",
       "      <td>0.3613</td>\n",
       "      <td>0.08758</td>\n",
       "      <td>0</td>\n",
       "    </tr>\n",
       "    <tr>\n",
       "      <th>3</th>\n",
       "      <td>84348301</td>\n",
       "      <td>11.42</td>\n",
       "      <td>20.38</td>\n",
       "      <td>77.58</td>\n",
       "      <td>386.1</td>\n",
       "      <td>0.14250</td>\n",
       "      <td>0.28390</td>\n",
       "      <td>0.2414</td>\n",
       "      <td>0.10520</td>\n",
       "      <td>0.2597</td>\n",
       "      <td>...</td>\n",
       "      <td>26.50</td>\n",
       "      <td>98.87</td>\n",
       "      <td>567.7</td>\n",
       "      <td>0.2098</td>\n",
       "      <td>0.8663</td>\n",
       "      <td>0.6869</td>\n",
       "      <td>0.2575</td>\n",
       "      <td>0.6638</td>\n",
       "      <td>0.17300</td>\n",
       "      <td>0</td>\n",
       "    </tr>\n",
       "    <tr>\n",
       "      <th>4</th>\n",
       "      <td>84358402</td>\n",
       "      <td>20.29</td>\n",
       "      <td>14.34</td>\n",
       "      <td>135.10</td>\n",
       "      <td>1297.0</td>\n",
       "      <td>0.10030</td>\n",
       "      <td>0.13280</td>\n",
       "      <td>0.1980</td>\n",
       "      <td>0.10430</td>\n",
       "      <td>0.1809</td>\n",
       "      <td>...</td>\n",
       "      <td>16.67</td>\n",
       "      <td>152.20</td>\n",
       "      <td>1575.0</td>\n",
       "      <td>0.1374</td>\n",
       "      <td>0.2050</td>\n",
       "      <td>0.4000</td>\n",
       "      <td>0.1625</td>\n",
       "      <td>0.2364</td>\n",
       "      <td>0.07678</td>\n",
       "      <td>0</td>\n",
       "    </tr>\n",
       "  </tbody>\n",
       "</table>\n",
       "<p>5 rows × 32 columns</p>\n",
       "</div>"
      ],
      "text/plain": [
       "         id  radiusAvg  textureAvg  perimeterAvg  areaAvg  smoothnessAvg  \\\n",
       "0    842302      17.99       10.38        122.80   1001.0        0.11840   \n",
       "1    842517      20.57       17.77        132.90   1326.0        0.08474   \n",
       "2  84300903      19.69       21.25        130.00   1203.0        0.10960   \n",
       "3  84348301      11.42       20.38         77.58    386.1        0.14250   \n",
       "4  84358402      20.29       14.34        135.10   1297.0        0.10030   \n",
       "\n",
       "   compactnessAvg  concavityAvg  concavepointsAvg  symmetryAvg  ...  \\\n",
       "0         0.27760        0.3001           0.14710       0.2419  ...   \n",
       "1         0.07864        0.0869           0.07017       0.1812  ...   \n",
       "2         0.15990        0.1974           0.12790       0.2069  ...   \n",
       "3         0.28390        0.2414           0.10520       0.2597  ...   \n",
       "4         0.13280        0.1980           0.10430       0.1809  ...   \n",
       "\n",
       "   textureWorst  perimeterWorst  areaWorst  smoothnessWorst  compactnessWorst  \\\n",
       "0         17.33          184.60     2019.0           0.1622            0.6656   \n",
       "1         23.41          158.80     1956.0           0.1238            0.1866   \n",
       "2         25.53          152.50     1709.0           0.1444            0.4245   \n",
       "3         26.50           98.87      567.7           0.2098            0.8663   \n",
       "4         16.67          152.20     1575.0           0.1374            0.2050   \n",
       "\n",
       "   concavityWorst  concavepointsWorst  symmetryWorst  fractaldimWorst  c  \n",
       "0          0.7119              0.2654         0.4601          0.11890  0  \n",
       "1          0.2416              0.1860         0.2750          0.08902  0  \n",
       "2          0.4504              0.2430         0.3613          0.08758  0  \n",
       "3          0.6869              0.2575         0.6638          0.17300  0  \n",
       "4          0.4000              0.1625         0.2364          0.07678  0  \n",
       "\n",
       "[5 rows x 32 columns]"
      ]
     },
     "execution_count": 15,
     "metadata": {},
     "output_type": "execute_result"
    }
   ],
   "source": [
    "# We'll read in the data set using Pandas. \n",
    "df = pd.read_csv(wdbc_data, header=0)\n",
    "print(\"shape:\\t\",df.shape)\n",
    "df.head()"
   ]
  },
  {
   "cell_type": "markdown",
   "metadata": {},
   "source": [
    "We'll now create the classifiers and store the results of multiple stratified k-fold cross-validation runs. If there are $n$ runs and $k$ folds, we will have $n*k$ pairs of numbers.  "
   ]
  },
  {
   "cell_type": "code",
   "execution_count": 16,
   "metadata": {},
   "outputs": [
    {
     "name": "stdout",
     "output_type": "stream",
     "text": [
      "Accuracy: Tree=0.923+/-0.036 Reg=0.952+/-0.030\n",
      "\n",
      "t-value -7.690228626789212, p-value 1.0992789213902389e-11\n"
     ]
    }
   ],
   "source": [
    "from sklearn import tree, linear_model\n",
    "import sklearn.metrics as metrics\n",
    "from sklearn.model_selection import StratifiedKFold\n",
    "from scipy.stats import ttest_rel, ttest_ind\n",
    "data = df.iloc[:].values\n",
    "\n",
    "# extract X and y values from the data set; \n",
    "X = data[:, 1:-1]\n",
    "y = data[:, -1]\n",
    "\n",
    "# create the classifier objects; \n",
    "dtree = tree.DecisionTreeClassifier()\n",
    "logr = linear_model.LogisticRegression(solver='liblinear')\n",
    "\n",
    "repeats = 10;\n",
    "cv = 10; \n",
    "scores = [] # to store scores of each run+fold. \n",
    "\n",
    "# for run and fold, fit the models and store performance on the test set. \n",
    "for i in range(repeats):\n",
    "    k_fold = StratifiedKFold(n_splits=cv, shuffle=True)\n",
    "    for train_indices, test_indices in k_fold.split(X,y):\n",
    "        dtree.fit(X[train_indices], y[train_indices]) \n",
    "        logr.fit(X[train_indices],    y[train_indices])     \n",
    "        predictedTree = dtree.predict(X[test_indices])\n",
    "        predictedLogR = logr.predict(X[test_indices])\n",
    "        scores.append(\n",
    "        [metrics.accuracy_score(y[test_indices], predictedTree), metrics.accuracy_score(y[test_indices], predictedLogR\n",
    "                                   )])\n",
    "scores = np.array(scores);\n",
    "\n",
    "# print out average accuracy over all of the runs and folds for each classifier.\")\n",
    "print(\"Accuracy: Tree={:.3f}+/-{:.3f} Reg={:.3f}+/-{:.3f}\".format(np.mean(scores[:,0]),np.std(scores[:,0]),np.mean(scores[:,1]),np.std(scores[:,1]),))\n",
    "\n",
    "# print out the results of simple paried t-test\n",
    "(tval, pval) = ttest_rel(scores[:,0], scores[:,1])\n",
    "print(\"\\nt-value {}, p-value {}\".format(tval, pval))"
   ]
  },
  {
   "cell_type": "markdown",
   "metadata": {},
   "source": [
    "Below, following the textbook's discussion, we manually calculate the t-score based on our recorded accuracy scores and then the p-value.The results should be the same as using scipy's builtin  `ttest_rel`.\n",
    "\n",
    "The t-statistic is calculated as  $\\frac{\\overline{d}}{\\sqrt{\\frac{1}{k}\\sigma_d^2}}$, where  $\\overline{d}$ is the mean of the differences between the paired accuracy values and $k$ is the degrees of freedom, which is the number of pairs - 1. "
   ]
  },
  {
   "cell_type": "code",
   "execution_count": 17,
   "metadata": {},
   "outputs": [
    {
     "name": "stdout",
     "output_type": "stream",
     "text": [
      "\n",
      "t-value -7.690228626789212, p-value 1.0992789213902389e-11\n"
     ]
    }
   ],
   "source": [
    "# t-statistic based on simple differences of the two data sets. \n",
    "diff = scores[:,0]-scores[:,1]\n",
    "variance = np.var(diff)\n",
    "k = len(diff)-1 # note the text doesn't clearly indicate subtracting the 1 to obtain the degrees of freedom. \n",
    "tval = np.mean(diff)/math.sqrt(variance/k)\n",
    "dist = t(k)\n",
    "pval = dist.cdf(tval)*2\n",
    "print(\"\\nt-value {}, p-value {}\".format(tval, pval))"
   ]
  },
  {
   "cell_type": "markdown",
   "metadata": {},
   "source": [
    "The results above very likely indicate that the results of two classifiers are statistically significant (*note that when the jupyter notebook scripts are rerun, it is possible that the results will change*). However, the assumptions of the t-test are violated (for one, we're resampling the data set multiple times, and so the samples are not indpendent of each other). As such, the results of the t-test are not to be trusted. \n",
    "\n",
    "Witten et al. recommend using this corrected version of the statistic: $\\frac{\\overline{d}}{\\sqrt{(\\frac{1}{k}+\\frac{n_2}{n_1})\\sigma_d^2}}$. Here, $n_2$ and $n_1$ refer to the size of the test set and the training set (in this case, the ratio would be 1/9). We could do the same thing if we use the repeated holdout method rather than repeated cross-validation. Witten et al. indicate that the process and interpretation would be the same. \n",
    "\n",
    "The results of this corrected test could easily could be different."
   ]
  },
  {
   "cell_type": "code",
   "execution_count": 18,
   "metadata": {},
   "outputs": [
    {
     "name": "stdout",
     "output_type": "stream",
     "text": [
      "\n",
      "t-value -2.2380467135509714, p-value 0.027458518568216482\n"
     ]
    }
   ],
   "source": [
    "# corrected resampled t-statistic (assumes we use repeated train/test splits or repeated cross-validation). \n",
    "diff = scores[:,0]-scores[:,1]\n",
    "variance = np.var(diff)\n",
    "foldcount = 10;\n",
    "test_size = math.floor(data.shape[0]/foldcount);\n",
    "train_size = math.floor(data.shape[0]-test_size);\n",
    "tval = np.mean(diff)/math.sqrt(variance*(1/k+ test_size/train_size))\n",
    "pval = dist.cdf(tval)*2\n",
    "print(\"\\nt-value {}, p-value {}\".format(tval, pval))"
   ]
  },
  {
   "cell_type": "markdown",
   "metadata": {},
   "source": [
    "Below, rather than use cross-validation, we just use repeated training/test splits. We again compare the results of the plain paired t-test vs the \"corrected resampled t-test\". "
   ]
  },
  {
   "cell_type": "code",
   "execution_count": 19,
   "metadata": {},
   "outputs": [
    {
     "name": "stdout",
     "output_type": "stream",
     "text": [
      "Tree=0.929+/-0.023 Reg=0.953+/-0.019\n",
      "\n",
      "t-value -9.676954526642609, p-value 5.544164615402578e-16\n"
     ]
    }
   ],
   "source": [
    "# uncorrected paired t-test using repeated holdout method. \n",
    "from sklearn.model_selection import train_test_split\n",
    "test_percent = 0.20\n",
    "scores = []\n",
    "k = 100;\n",
    "for i in range(k):\n",
    "    X_train, X_test, y_train, y_test =  train_test_split(X, y, test_size=test_percent, shuffle=True)\n",
    "    dtree.fit(X_train, y_train) \n",
    "    logr.fit(X_train,  y_train)     \n",
    "    predictedTree = dtree.predict(X_test)\n",
    "    predictedLogR = logr.predict(X_test)\n",
    "    scores.append(\n",
    "        [metrics.accuracy_score(y_test, predictedTree), metrics.accuracy_score(y_test, predictedLogR\n",
    "                                   )])\n",
    "scores = np.array(scores);\n",
    "\n",
    "# output results of simple paired t-test. \n",
    "print(\"Tree={:.3f}+/-{:.3f} Reg={:.3f}+/-{:.3f}\".format(np.mean(scores[:,0]),np.std(scores[:,0]),np.mean(scores[:,1]),np.std(scores[:,1]),))\n",
    "(tval, pval) = ttest_rel(scores[:,0], scores[:,1])\n",
    "print(\"\\nt-value {}, p-value {}\".format(tval, pval))"
   ]
  },
  {
   "cell_type": "code",
   "execution_count": 20,
   "metadata": {},
   "outputs": [
    {
     "name": "stdout",
     "output_type": "stream",
     "text": [
      "k: 100\n",
      "\n",
      "t-value -1.9154628598235999, p-value 0.0583191760320691\n"
     ]
    }
   ],
   "source": [
    "# corrected paired t-test using repeated holdout method\n",
    "diff = scores[:,0]-scores[:,1]\n",
    "variance = np.var(diff)\n",
    "print(\"k:\",k)\n",
    "test_size = math.floor(data.shape[0]*test_percent);\n",
    "train_size = math.floor(data.shape[0]-test_size);\n",
    "\n",
    "tval = np.mean(diff)/math.sqrt(variance*(1/k+ test_size/train_size))\n",
    "pval = dist.cdf(tval)*2\n",
    "print(\"\\nt-value {}, p-value {}\".format(tval, pval))"
   ]
  },
  {
   "cell_type": "markdown",
   "metadata": {},
   "source": [
    "One question that you might have is this: Looking at how the t-statistic is computed ($\\frac{\\overline{d}}{\\sqrt{\\sigma_d^2/k}})$, won't the magnitude of the t-statistic be very large in realistic data mining scenarios?\n",
    "\n",
    "Yes, that appears to be the case. Below we compare the plots of the uncorrected t-statistic and the corrected version. "
   ]
  },
  {
   "cell_type": "code",
   "execution_count": 21,
   "metadata": {},
   "outputs": [
    {
     "data": {
      "text/plain": [
       "[<matplotlib.lines.Line2D at 0x2453acbbe08>,\n",
       " <matplotlib.lines.Line2D at 0x2453b3c6888>]"
      ]
     },
     "execution_count": 21,
     "metadata": {},
     "output_type": "execute_result"
    },
    {
     "data": {
      "image/png": "[encoded data removed]",
      "text/plain": [
       "<Figure size 432x288 with 1 Axes>"
      ]
     },
     "metadata": {
      "needs_background": "light"
     },
     "output_type": "display_data"
    }
   ],
   "source": [
    "tvals = []\n",
    "for k in range(1,200):\n",
    "    tvals.append( [k, \n",
    "                   np.absolute(np.mean(diff)/math.sqrt(variance*(1/k+ test_size/train_size))),\n",
    "                   np.absolute(np.mean(diff)/math.sqrt(variance*(1/k)))])\n",
    "pltdata = np.array(tvals);\n",
    "plt.plot(pltdata[:,0],pltdata[:,1],\"r\", pltdata[:,0],pltdata[:,2],\"b\")"
   ]
  }
 ],
 "metadata": {
  "kernelspec": {
   "display_name": "Python 3",
   "language": "python",
   "name": "python3"
  },
  "language_info": {
   "codemirror_mode": {
    "name": "ipython",
    "version": 3
   },
   "file_extension": ".py",
   "mimetype": "text/x-python",
   "name": "python",
   "nbconvert_exporter": "python",
   "pygments_lexer": "ipython3",
   "version": "3.7.6"
  }
 },
 "nbformat": 4,
 "nbformat_minor": 2
}
