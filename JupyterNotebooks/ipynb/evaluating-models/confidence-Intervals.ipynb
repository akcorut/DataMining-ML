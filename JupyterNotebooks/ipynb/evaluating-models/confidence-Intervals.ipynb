{
 "cells": [
  {
   "cell_type": "code",
   "execution_count": 1,
   "metadata": {},
   "outputs": [
    {
     "data": {
      "application/javascript": [
       "$.getScript('https://kmahelona.github.io/ipython_notebook_goodies/ipython_notebook_toc.js')\n"
      ],
      "text/plain": [
       "<IPython.core.display.Javascript object>"
      ]
     },
     "metadata": {},
     "output_type": "display_data"
    }
   ],
   "source": [
    "%%javascript\n",
    "$.getScript('https://kmahelona.github.io/ipython_notebook_goodies/ipython_notebook_toc.js')"
   ]
  },
  {
   "cell_type": "markdown",
   "metadata": {},
   "source": [
    "\n",
    "# Confidence Intervals\n",
    "\n",
    "<h2 id=\"tocheading\">Table of Contents</h2>\n",
    "<div id=\"toc\"></div>\n",
    "\n",
    "\n",
    "## Normal Distributions\n",
    "\n",
    "Recall that a **normal distribution** $N(\\mu,\\sigma)$ with mean $\\mu$ and standard deviation $\\sigma$ is defined by the below probability density function. \n",
    "\n",
    "$f(x) = \\frac{1}{\\sigma\\sqrt{2\\pi}} 𝑒^{−\\frac{(x-\\mu)^{2}}{2\\sigma^{2}}}$\n",
    "\n",
    "The **standard normal distribution** has $\\mu =0$ and $\\sigma = 1$. \n",
    "\n",
    "If random variable $x$ is normally distributed, then the following hold.  \n",
    "\n",
    "*  $Pr(\\mu-1\\sigma \\leq x \\leq \\mu+1\\sigma) \\approx 68\\%$\n",
    "*  $Pr(\\mu-1.65\\sigma \\leq x \\leq \\mu+1.65\\sigma) \\approx 90\\%$\n",
    "*  $Pr(\\mu-1.96\\sigma \\leq x \\leq \\mu+1.96\\sigma) \\approx 95\\%$\n",
    "*  $Pr(\\mu-2.33\\sigma \\leq x \\leq \\mu+2.33\\sigma) \\approx 98\\%$\n",
    "*  $Pr(\\mu-2.58\\sigma \\leq x \\leq \\mu+2.58\\sigma) \\approx 99\\%$\n",
    "*  $Pr(\\mu-3\\sigma \\leq x \\leq \\mu+3\\sigma) \\approx 100\\%$\n",
    "\n",
    "In other words, roughly 95% of values of $x$ are within 2 standard deviations of the mean.  For the standard normal distribution, the values of the random variable are called **standard scores** or **z-scores**.  For a normal distribution with $\\mu \\neq 0$ and/or $\\sigma \\neq 1$, we can convert values of the random variable to a corresponding z-score. by subtacting $\\mu$ and then dividing by $\\sigma$. \n",
    "\n",
    "$𝑧= \\frac{(𝑥−\\mu)}{\\sigma}$\n",
    "\n",
    "We can easily create a (continuous) normal distribtion in Python using a `scipy.stats` and plot the distribution using it's probability density function `pdf`."
   ]
  },
  {
   "cell_type": "code",
   "execution_count": 1,
   "metadata": {},
   "outputs": [
    {
     "data": {
      "text/plain": [
       "[<matplotlib.lines.Line2D at 0x1e2abffca08>]"
      ]
     },
     "execution_count": 1,
     "metadata": {},
     "output_type": "execute_result"
    },
    {
     "data": {
      "image/png": "[encoded data removed]",
      "text/plain": [
       "<Figure size 432x288 with 1 Axes>"
      ]
     },
     "metadata": {
      "needs_background": "light"
     },
     "output_type": "display_data"
    }
   ],
   "source": [
    "from scipy.stats import norm\n",
    "import matplotlib.pyplot as plt\n",
    "import numpy as np\n",
    "y = norm(loc=0, scale=1) # create a normal distribution with mu=0 and std=1\n",
    "x = np.linspace(-4, 4, 1000) # generate 1000 points between 50 and 150, equally separated. \n",
    "plt.plot(x, y.pdf(x), '-') # plot x vs pdf of x. \n"
   ]
  },
  {
   "cell_type": "markdown",
   "metadata": {},
   "source": [
    "We can use the cumulative probability method `cdf` to check some of the assertions above. "
   ]
  },
  {
   "cell_type": "code",
   "execution_count": 2,
   "metadata": {},
   "outputs": [
    {
     "name": "stdout",
     "output_type": "stream",
     "text": [
      "Probability of +/- 1 sigma: \t0.683\n",
      "Probability of +/- 1.65 sigma: \t0.901\n",
      "Probability of +/- 1.96 sigma: \t0.950\n",
      "Probability of +/- 2.33 sigma: \t0.980\n",
      "Probability of +/- 2.58 sigma: \t0.990\n",
      "Probability of +/- 3 sigma: \t0.997\n",
      "Probability of +/- 4 sigma: \t1.000\n"
     ]
    }
   ],
   "source": [
    "for x in [1,1.65,1.96,2.33, 2.58, 3,4]:\n",
    "    print(f'Probability of +/- {x} sigma: \\t{y.cdf(x) - y.cdf(-x):.3f}')"
   ]
  },
  {
   "cell_type": "markdown",
   "metadata": {},
   "source": [
    "## Central Limit Theorem\n",
    "\n",
    "If we take multiple samples of size $n$ from a population $P$ with mean $\\mu$ and standard deviation $\\sigma$, then: \n",
    "\n",
    "*  **The means of the samples will be approximately normally distributed.**\n",
    "*  **The mean of the sample means is $\\mu$.**\n",
    "*  **The standard deviation of the sample means is $\\frac{\\sigma}{\\sqrt{n}}$**.\n"
   ]
  },
  {
   "cell_type": "markdown",
   "metadata": {},
   "source": [
    "## Confidence Intervals (for known $\\sigma$)\n",
    "\n",
    "Given the above, if $m$ is the mean of a sample taken from that population, then 90% of the time, $\\mu$ is $m \\pm 1.65 \\frac{\\sigma}{\\sqrt{n}}$.\n",
    "\n",
    "* 90% of the time, $m$ is $\\leq 1.65 \\frac{\\sigma}{\\sqrt{n}}$ units away from $\\mu$.\n",
    "\n",
    "* 90% of the time, $\\mu$ is $\\leq 1.65 \\frac{\\sigma}{\\sqrt{n}}$ units away from $m$.\n",
    "\n",
    "* 90% of the time, $\\mu$ is $\\leq m \\pm 1.65 \\frac{\\sigma}{\\sqrt{n}}$.\n",
    "\n",
    "$m \\pm 1.65 \\frac{\\sigma}{\\sqrt{n}}$ constitutes a 90% **confidence interval** for the true mean $\\mu$ of the population. "
   ]
  },
  {
   "cell_type": "markdown",
   "metadata": {},
   "source": [
    "If we took another sample, we’d have a different sample mean $m$ and so possibly get a different interval. However, if we repeatedly generated samples, roughly 90% of the intervals would contain $\\mu$. \n",
    "\n",
    "The % is called the **confidence level**. For each, there is an associated z-score. \n",
    "\n",
    "*  68% Confidence Interval: z = 1\n",
    "*  90% Confidence Interval: z = 1.65\n",
    "*  95% Confidence Interval: z =1.96\n",
    "*  98% Confidence Interval: z = 2.33 \n",
    "*  99% Confidence Interval: z = 2.58\n",
    "\n",
    "So, for a given $z$ and sample mean $m$, the corresponding confidence interval is\n",
    "\n",
    "$m \\pm z \\frac{\\sigma}{\\sqrt{n}}$\n",
    "\n",
    "Note that as $z$ increases, the interval *increases* in size.  E.g., how certain are we that $\\mu$ is in $(-\\infty,\\infty)$? Answer: We're 100% certain.\n"
   ]
  },
  {
   "cell_type": "markdown",
   "metadata": {},
   "source": [
    "### Example\n",
    "\n",
    "Calculate a  95% confidence interval for the population mean $𝜇$, given: \n",
    "*  a sample of size 30;\n",
    "*  a sample mean of 1050; and \n",
    "*  a Population standard deviation ($𝜎$) of 100.2.\n",
    "\n",
    "From the above, we know that $\\mu$ is $1050 \\pm 1.96\\frac{100.2}{\\sqrt{30}}$."
   ]
  },
  {
   "cell_type": "code",
   "execution_count": 3,
   "metadata": {},
   "outputs": [
    {
     "name": "stdout",
     "output_type": "stream",
     "text": [
      "(1014.1438904954819, 1085.8561095045181)\n"
     ]
    }
   ],
   "source": [
    "import math\n",
    "\n",
    "sample_size = 30\n",
    "sample_mean = 1050\n",
    "pop_std = 100.2\n",
    "z = 1.96\n",
    "\n",
    "def confidence(sample_size, sample_mean, pop_std, z):\n",
    "    mu_lower = sample_mean - z * pop_std/math.sqrt(sample_size)\n",
    "    mu_higher = sample_mean + z * pop_std/math.sqrt(sample_size)\n",
    "    return (mu_lower,mu_higher)\n",
    "\n",
    "result = confidence(sample_size, sample_mean, pop_std, z)\n",
    "print(result)"
   ]
  },
  {
   "cell_type": "markdown",
   "metadata": {},
   "source": [
    "We can also compute the interval using `stats.norm`. Below, we provide the confidence level ($0.95$), the mean ($1050$), and the standard deviation ($\\sigma/\\sqrt{30}$).  "
   ]
  },
  {
   "cell_type": "code",
   "execution_count": 4,
   "metadata": {},
   "outputs": [
    {
     "data": {
      "text/plain": [
       "(1014.1445493599082, 1085.855450640092)"
      ]
     },
     "execution_count": 4,
     "metadata": {},
     "output_type": "execute_result"
    }
   ],
   "source": [
    "from scipy.stats import norm\n",
    "sigma = pop_std/math.sqrt(sample_size)\n",
    "norm.interval(0.95, loc=sample_mean, scale=pop_std/math.sqrt(sample_size))"
   ]
  },
  {
   "cell_type": "markdown",
   "metadata": {},
   "source": [
    "### Example\n",
    "\n",
    "Suppose a population has $\\sigma$ = 7200, and a given sample of size 36 is found to have mean 38,280.\n",
    "\n",
    "*  Calculate the standard error for a sample of size 36.\n",
    "*  Use that to calculate a 95% confidence interval. \n",
    "*  Use that to calculate a 90% confidence interval. "
   ]
  },
  {
   "cell_type": "code",
   "execution_count": 5,
   "metadata": {},
   "outputs": [
    {
     "name": "stdout",
     "output_type": "stream",
     "text": [
      "standard error: 1200.0\n",
      "95% CI: (35928.0, 40632.0)\n",
      "90% CI: (36300.0, 40260.0)\n"
     ]
    }
   ],
   "source": [
    "sample_size = 36\n",
    "sample_mean = 38280\n",
    "pop_std = 7200\n",
    "\n",
    "standard_error = pop_std/math.sqrt(sample_size)\n",
    "print(\"standard error:\", standard_error)\n",
    "\n",
    "z = 1.96\n",
    "result = confidence(sample_size, sample_mean, pop_std, z)\n",
    "print(\"95% CI:\", result)\n",
    "\n",
    "z = 1.65\n",
    "result = confidence(sample_size, sample_mean, pop_std, z)\n",
    "print(\"90% CI:\", result)"
   ]
  },
  {
   "cell_type": "markdown",
   "metadata": {},
   "source": [
    "## Restrictions\n",
    "\n",
    "Note that calculating the interval requires knowing the standard deviation $\\sigma$ of the population.  But we typically don’t know $\\sigma$, any more than we know $\\mu$. So, if you don't know $\\sigma$, you can't compute the interval. \n",
    "\n",
    "There are further restrictions on it’s use.  It should only be used: \n",
    "\n",
    "*  If the population is known to be normally distributed, OR\n",
    "*  the sample size is \"large\" (at least 30). \n",
    "\n",
    "From the above, a small sample size is OK if the population is known to be normal. "
   ]
  },
  {
   "cell_type": "markdown",
   "metadata": {},
   "source": [
    "## t-distributions and t-scores\n",
    "\n",
    "When, in addition to not knowing $\\mu$, we don't know the population's $\\sigma$, we can use the sample to estimate it.  Specifically, instead of  $\\frac{\\sigma}{\\sqrt{n}}$, we use $\\frac{s}{\\sqrt{n}}$, where $s$ is the sample's standard deviation. $\\frac{s}{\\sqrt{n}}$ is an estimate of the standard error. \n",
    "\n",
    "We also do not use a normal distribution. Instead, we use a Student's **t-distribution**. A different t-distribution should be used for each sample size $n$ (with  **degrees of freedom (df)** n-1).\n",
    "\n",
    "Recall, $z$ denotes the number of standard deviations from the mean.  Given an $x$ taken from $N(\\mu,\\sigma)$, we can compute a z-score using $𝑧=  \\frac{(𝑥−\\mu)}{\\sigma}$. Analogously, we can compute a t-score. Formally, $𝑡=  \\frac{(m−\\mu)}{{𝑠}/{\\sqrt{𝑛}}}$, where $m$ is the sample mean. \n",
    "\n",
    "Like a normal distribution, each t-distribution is bell-shaped. \n",
    "*  The total area under the curve is 1, and the mean is 0. \n",
    "*  As the number of degrees of freedom increases, the curve approaches the standard normal curve. \n",
    "\n",
    "When plotted, the t-distribution is fatter than the normal distribution at the edges. \n",
    "\n",
    "In SciPy, we can use `scipy.stats.t` to create and work with t-distributions. "
   ]
  },
  {
   "cell_type": "code",
   "execution_count": 6,
   "metadata": {},
   "outputs": [
    {
     "data": {
      "image/png": "[encoded data removed]",
      "text/plain": [
       "<Figure size 432x288 with 1 Axes>"
      ]
     },
     "metadata": {
      "needs_background": "light"
     },
     "output_type": "display_data"
    }
   ],
   "source": [
    "import numpy as np\n",
    "import matplotlib\n",
    "import matplotlib.pyplot as plt\n",
    "from scipy.stats import t,norm\n",
    "\n",
    "x = np.linspace(-4,4,1000)\n",
    "t1 = t(df = 5)\n",
    "t2 = t(df = 2)\n",
    "plt.plot(x,t1.pdf(x))\n",
    "plt.plot(x,t2.pdf(x))\n",
    "plt.plot(x,norm.pdf(x))\n",
    "pass"
   ]
  },
  {
   "cell_type": "code",
   "execution_count": 7,
   "metadata": {},
   "outputs": [
    {
     "data": {
      "image/png": "[encoded data removed]",
      "text/plain": [
       "<Figure size 432x288 with 1 Axes>"
      ]
     },
     "metadata": {
      "needs_background": "light"
     },
     "output_type": "display_data"
    }
   ],
   "source": [
    "import numpy as np\n",
    "import matplotlib\n",
    "import matplotlib.pyplot as plt\n",
    "from scipy.stats import t,norm\n",
    "\n",
    "x = np.linspace(-4,4,1000)\n",
    "t1 = t(df = 5)\n",
    "plt.plot(x,t1.cdf(x))\n",
    "plt.plot(x,t2.cdf(x))\n",
    "plt.plot(x,norm.cdf(x))\n",
    "pass"
   ]
  },
  {
   "cell_type": "markdown",
   "metadata": {},
   "source": [
    "## Confidence Intervals with t-scores (unknown $\\sigma$)\n",
    "\n",
    "$t_{\\alpha}$ denotes the t-value for having $(1-\\alpha)$% cumulative probability. That is, if $\\alpha = 0.05$, then 95% of the curve is to the *left* of $t_{\\alpha}$. Alternatively, $t_{\\alpha}$ indicates the t-score with 5% of the cure to the *right*. \n",
    "\n",
    "Fore example, if $\\alpha = 0.05$ and $df=10$, then $t_{\\alpha}$ is approximately 1.812. \n",
    "\n",
    "In SciPy, we can use `t.ppf` (for percent point function) to obtain $t_{\\alpha}$. It takes two values `alpha` and `df`. However, `alpha` in this case is actually (1-$\\alpha$). So, to get $t_{0.05}$, we would actually use `t.ppf(0.95, df)`."
   ]
  },
  {
   "cell_type": "code",
   "execution_count": 8,
   "metadata": {},
   "outputs": [
    {
     "name": "stdout",
     "output_type": "stream",
     "text": [
      "df:10\n",
      "0.01:\t t_alpha: -2.7637694574478893, z: -2.3263478740408408\n",
      "0.05:\t t_alpha: -1.8124611228107341, z: -1.6448536269514729\n",
      "0.1:\t t_alpha: -1.3721836411102861, z: -1.2815515655446004\n",
      "0.25:\t t_alpha: -0.6998120613124291, z: -0.6744897501960817\n",
      "0.5:\t t_alpha: 6.80574793290978e-17, z: 0.0\n",
      "0.75:\t t_alpha: 0.6998120613124291, z: 0.6744897501960817\n",
      "0.9:\t t_alpha: 1.3721836411102863, z: 1.2815515655446004\n",
      "0.95:\t t_alpha: 1.8124611228107335, z: 1.6448536269514722\n",
      "0.99:\t t_alpha: 2.763769457447889, z: 2.3263478740408408\n",
      "df:100\n",
      "0.01:\t t_alpha: -2.364217365904738, z: -2.3263478740408408\n",
      "0.05:\t t_alpha: -1.6602343260657506, z: -1.6448536269514729\n",
      "0.1:\t t_alpha: -1.2900747613398766, z: -1.2815515655446004\n",
      "0.25:\t t_alpha: -0.6769510430082792, z: -0.6744897501960817\n",
      "0.5:\t t_alpha: 6.654605374702225e-17, z: 0.0\n",
      "0.75:\t t_alpha: 0.6769510430082792, z: 0.6744897501960817\n",
      "0.9:\t t_alpha: 1.2900747613398769, z: 1.2815515655446004\n",
      "0.95:\t t_alpha: 1.66023432606575, z: 1.6448536269514722\n",
      "0.99:\t t_alpha: 2.3642173659047376, z: 2.3263478740408408\n"
     ]
    }
   ],
   "source": [
    "from scipy.stats import t,norm\n",
    "\n",
    "df = 10\n",
    "print(f'df:{df}')\n",
    "for npalpha in [0.01,0.05,0.1,0.25, 0.5, 0.75,0.9,0.95,0.99]:\n",
    "    print(f\"{npalpha}:\\t t_alpha: {t.ppf(npalpha,df)}, z: {norm.ppf(npalpha)}\")\n",
    "    \n",
    "df = 100\n",
    "print(f'df:{df}')\n",
    "for npalpha in [0.01,0.05,0.1,0.25, 0.5, 0.75,0.9,0.95,0.99]:\n",
    "    print(f\"{npalpha}:\\t t_alpha: {t.ppf(npalpha,df)}, z: {norm.ppf(npalpha)}\")"
   ]
  },
  {
   "cell_type": "markdown",
   "metadata": {},
   "source": [
    "We can use t-values to compute confidence intervals. To get an interval at confidence level $1−\\alpha$, we actually want to use $\\alpha/2$ and $𝑡_{\\alpha/2}$. Why? Because $t_\\alpha$ represents the cumulative probability of the curve to the *left* of $t_{\\alpha}$. We need to cut off the left tail of the curve. \n",
    "\n",
    "So, to compute the 90% C.I., we use $𝑡_{0.05}$.\n",
    "\n",
    "The C.I. for a sample is\n",
    "\n",
    "*  $m \\pm t_{\\alpha/2}\\frac{s}{\\sqrt{n}}$\n",
    "\n",
    "where $m$ is the sample mean, $s$ the sample standard deviation, and $n$ the sample size. "
   ]
  },
  {
   "cell_type": "markdown",
   "metadata": {},
   "source": [
    "### Example\n",
    "\n",
    "Suppose we want a 90% C.I. from a sample having values the values below.  "
   ]
  },
  {
   "cell_type": "code",
   "execution_count": 9,
   "metadata": {},
   "outputs": [
    {
     "name": "stdout",
     "output_type": "stream",
     "text": [
      "mean:  513.32\n",
      "std:  262.23092876318003\n",
      "est_standard_error:  52.446185752636005\n",
      "df:  24\n",
      "confidence level:  0.9\n",
      "alpha: 0.09999999999999998\n",
      "t_alpha/2: 1.7108820799094275\n",
      "ci_lower:  423.590760636214\n",
      "ci_higher:  603.0492393637861\n",
      "t_ci:  (-1.7108820799094284, 1.7108820799094275)\n"
     ]
    }
   ],
   "source": [
    "# Example: Suppose we want a 90% C.I. from a sample\n",
    "# Source: Weis, Intro. Statistics 5e. \n",
    "data = np.array(\n",
    "    [447, 207, 627, 430, 883, \n",
    "     313, 844, 253, 397, 214,\n",
    "     217, 768, 1064, 26, 587, \n",
    "     833, 277, 805, 653, 549, \n",
    "     649, 554, 570, 223, 443])\n",
    "\n",
    "conf = 0.9\n",
    "mean =  np.mean(data)\n",
    "std = np.std(data,ddof=1)\n",
    "est_standard_error  = std/np.sqrt(len(data))\n",
    "df = len(data)-1 # 24\n",
    "alpha = (1-conf);\n",
    "t_alpha2 = t.ppf(1-(alpha/2),df)\n",
    "\n",
    "ci_lower = mean - t_alpha2*est_standard_error\n",
    "ci_higher = mean + t_alpha2*est_standard_error\n",
    "print(\"mean: \", mean)\n",
    "print(\"std: \", std)\n",
    "print(\"est_standard_error: \", est_standard_error)\n",
    "print(\"df: \", df)\n",
    "print(\"confidence level: \",conf )\n",
    "print(\"alpha:\",alpha)\n",
    "print(\"t_alpha/2:\",t_alpha2)\n",
    "print(\"ci_lower: \", ci_lower)\n",
    "print(\"ci_higher: \", ci_higher)\n",
    "print(\"t_ci: \", t.interval(conf,df))\n"
   ]
  },
  {
   "cell_type": "markdown",
   "metadata": {},
   "source": [
    "### Example\n",
    "\n",
    "Suppose we want a 90% C.I. from a sample having values the values below.  "
   ]
  },
  {
   "cell_type": "code",
   "execution_count": 10,
   "metadata": {},
   "outputs": [
    {
     "name": "stdout",
     "output_type": "stream",
     "text": [
      "mean:  51.94117647058823\n",
      "std:  16.083650814706584\n",
      "est_standard_error:  3.9008583032109874\n",
      "df:  16\n",
      "confidence level:  0.9\n",
      "alpha: 0.09999999999999998\n",
      "t_alpha/2: 1.74588367627624\n",
      "ci_lower:  45.13073163554554\n",
      "ci_higher:  58.75162130563093\n",
      "t_ci:  (-1.7458836762762402, 1.74588367627624)\n"
     ]
    }
   ],
   "source": [
    "# Example: Suppose we want a 90% C.I. from a sample\n",
    "# Source: Weis, Intro. Statistics 5e. \n",
    "data = np.array(\n",
    "    [47, 39, 62, 49, 50, 70,\n",
    "     59, 53, 55, 0,  65, 63,\n",
    "     53, 51, 50, 72, 45])\n",
    "\n",
    "conf = 0.9\n",
    "mean =  np.mean(data)\n",
    "std = np.std(data,ddof=1)\n",
    "est_standard_error  = std/np.sqrt(len(data))\n",
    "df = len(data)-1 \n",
    "alpha = (1-conf);\n",
    "t_alpha2 = t.ppf(1-(alpha/2),df)\n",
    "\n",
    "ci_lower = mean - t_alpha2*est_standard_error\n",
    "ci_higher = mean + t_alpha2*est_standard_error\n",
    "print(\"mean: \", mean)\n",
    "print(\"std: \", std)\n",
    "print(\"est_standard_error: \", est_standard_error)\n",
    "print(\"df: \", df)\n",
    "print(\"confidence level: \",conf )\n",
    "print(\"alpha:\",alpha)\n",
    "print(\"t_alpha/2:\",t_alpha2)\n",
    "print(\"ci_lower: \", ci_lower)\n",
    "print(\"ci_higher: \", ci_higher)\n",
    "print(\"t_ci: \", t.interval(conf,df))"
   ]
  },
  {
   "cell_type": "markdown",
   "metadata": {},
   "source": [
    "Looking at the data, we see that it is fairly small ($<30$).  Also, there is an obvious outlier. "
   ]
  },
  {
   "cell_type": "code",
   "execution_count": 11,
   "metadata": {},
   "outputs": [
    {
     "data": {
      "image/png": "[encoded data removed]",
      "text/plain": [
       "<Figure size 432x288 with 1 Axes>"
      ]
     },
     "metadata": {
      "needs_background": "light"
     },
     "output_type": "display_data"
    }
   ],
   "source": [
    "plt.scatter(range(len(data)),data)\n",
    "pass"
   ]
  },
  {
   "cell_type": "markdown",
   "metadata": {},
   "source": [
    "We can improve the data set by removing outlier data points. However, since we removed a data point, we must update our results for the example. "
   ]
  },
  {
   "cell_type": "code",
   "execution_count": 12,
   "metadata": {},
   "outputs": [],
   "source": [
    "data = np.array(\n",
    "    [47, 39, 62, 49, 50, 70,\n",
    "     59, 53, 55, 65, 63,\n",
    "     53, 51, 50, 72, 45])"
   ]
  },
  {
   "cell_type": "code",
   "execution_count": 13,
   "metadata": {},
   "outputs": [
    {
     "name": "stdout",
     "output_type": "stream",
     "text": [
      "mean:  55.1875\n",
      "std:  9.210275059229591\n",
      "est_standard_error:  2.302568764807398\n",
      "df:  15\n",
      "confidence level:  0.9\n",
      "alpha: 0.09999999999999998\n",
      "t_alpha/2: 1.7530503556925547\n",
      "ci_lower:  51.150981007847825\n",
      "ci_higher:  59.224018992152175\n",
      "t_ci:  (-1.7530503556925554, 1.7530503556925547)\n"
     ]
    }
   ],
   "source": [
    "conf = 0.9\n",
    "mean =  np.mean(data)\n",
    "std = np.std(data,ddof=1)\n",
    "est_standard_error  = std/np.sqrt(len(data))\n",
    "df = len(data)-1 \n",
    "alpha = (1-conf);\n",
    "t_alpha2 = t.ppf(1-(alpha/2),df)\n",
    "\n",
    "ci_lower = mean - t_alpha2*est_standard_error\n",
    "ci_higher = mean + t_alpha2*est_standard_error\n",
    "print(\"mean: \", mean)\n",
    "print(\"std: \", std)\n",
    "print(\"est_standard_error: \", est_standard_error)\n",
    "print(\"df: \", df)\n",
    "print(\"confidence level: \",conf )\n",
    "print(\"alpha:\",alpha)\n",
    "print(\"t_alpha/2:\",t_alpha2)\n",
    "print(\"ci_lower: \", ci_lower)\n",
    "print(\"ci_higher: \", ci_higher)\n",
    "print(\"t_ci: \", t.interval(conf,df))"
   ]
  }
 ],
 "metadata": {
  "kernelspec": {
   "display_name": "Python 3",
   "language": "python",
   "name": "python3"
  },
  "language_info": {
   "codemirror_mode": {
    "name": "ipython",
    "version": 3
   },
   "file_extension": ".py",
   "mimetype": "text/x-python",
   "name": "python",
   "nbconvert_exporter": "python",
   "pygments_lexer": "ipython3",
   "version": "3.7.6"
  }
 },
 "nbformat": 4,
 "nbformat_minor": 2
}
