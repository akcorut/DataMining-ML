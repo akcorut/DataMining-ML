{
 "cells": [
  {
   "cell_type": "markdown",
   "metadata": {},
   "source": [
    "## Metrics for classifiers\n",
    "\n",
    "`scikit-learn` defines several metrics that are appropriate to use with classifiers. Many are defined in `sklearn.metrics`."
   ]
  },
  {
   "cell_type": "code",
   "execution_count": 25,
   "metadata": {},
   "outputs": [],
   "source": [
    "import matplotlib\n",
    "import matplotlib.pyplot as plt\n",
    "import numpy as np;\n",
    "import pandas as pd"
   ]
  },
  {
   "cell_type": "code",
   "execution_count": 38,
   "metadata": {},
   "outputs": [
    {
     "data": {
      "text/html": [
       "<div>\n",
       "<style scoped>\n",
       "    .dataframe tbody tr th:only-of-type {\n",
       "        vertical-align: middle;\n",
       "    }\n",
       "\n",
       "    .dataframe tbody tr th {\n",
       "        vertical-align: top;\n",
       "    }\n",
       "\n",
       "    .dataframe thead th {\n",
       "        text-align: right;\n",
       "    }\n",
       "</style>\n",
       "<table border=\"1\" class=\"dataframe\">\n",
       "  <thead>\n",
       "    <tr style=\"text-align: right;\">\n",
       "      <th></th>\n",
       "      <th>id</th>\n",
       "      <th>radiusAvg</th>\n",
       "      <th>textureAvg</th>\n",
       "      <th>perimeterAvg</th>\n",
       "      <th>areaAvg</th>\n",
       "      <th>smoothnessAvg</th>\n",
       "      <th>compactnessAvg</th>\n",
       "      <th>concavityAvg</th>\n",
       "      <th>concavepointsAvg</th>\n",
       "      <th>symmetryAvg</th>\n",
       "      <th>...</th>\n",
       "      <th>textureWorst</th>\n",
       "      <th>perimeterWorst</th>\n",
       "      <th>areaWorst</th>\n",
       "      <th>smoothnessWorst</th>\n",
       "      <th>compactnessWorst</th>\n",
       "      <th>concavityWorst</th>\n",
       "      <th>concavepointsWorst</th>\n",
       "      <th>symmetryWorst</th>\n",
       "      <th>fractaldimWorst</th>\n",
       "      <th>c</th>\n",
       "    </tr>\n",
       "  </thead>\n",
       "  <tbody>\n",
       "    <tr>\n",
       "      <th>0</th>\n",
       "      <td>842302</td>\n",
       "      <td>17.99</td>\n",
       "      <td>10.38</td>\n",
       "      <td>122.80</td>\n",
       "      <td>1001.0</td>\n",
       "      <td>0.11840</td>\n",
       "      <td>0.27760</td>\n",
       "      <td>0.3001</td>\n",
       "      <td>0.14710</td>\n",
       "      <td>0.2419</td>\n",
       "      <td>...</td>\n",
       "      <td>17.33</td>\n",
       "      <td>184.60</td>\n",
       "      <td>2019.0</td>\n",
       "      <td>0.1622</td>\n",
       "      <td>0.6656</td>\n",
       "      <td>0.7119</td>\n",
       "      <td>0.2654</td>\n",
       "      <td>0.4601</td>\n",
       "      <td>0.11890</td>\n",
       "      <td>0</td>\n",
       "    </tr>\n",
       "    <tr>\n",
       "      <th>1</th>\n",
       "      <td>842517</td>\n",
       "      <td>20.57</td>\n",
       "      <td>17.77</td>\n",
       "      <td>132.90</td>\n",
       "      <td>1326.0</td>\n",
       "      <td>0.08474</td>\n",
       "      <td>0.07864</td>\n",
       "      <td>0.0869</td>\n",
       "      <td>0.07017</td>\n",
       "      <td>0.1812</td>\n",
       "      <td>...</td>\n",
       "      <td>23.41</td>\n",
       "      <td>158.80</td>\n",
       "      <td>1956.0</td>\n",
       "      <td>0.1238</td>\n",
       "      <td>0.1866</td>\n",
       "      <td>0.2416</td>\n",
       "      <td>0.1860</td>\n",
       "      <td>0.2750</td>\n",
       "      <td>0.08902</td>\n",
       "      <td>0</td>\n",
       "    </tr>\n",
       "    <tr>\n",
       "      <th>2</th>\n",
       "      <td>84300903</td>\n",
       "      <td>19.69</td>\n",
       "      <td>21.25</td>\n",
       "      <td>130.00</td>\n",
       "      <td>1203.0</td>\n",
       "      <td>0.10960</td>\n",
       "      <td>0.15990</td>\n",
       "      <td>0.1974</td>\n",
       "      <td>0.12790</td>\n",
       "      <td>0.2069</td>\n",
       "      <td>...</td>\n",
       "      <td>25.53</td>\n",
       "      <td>152.50</td>\n",
       "      <td>1709.0</td>\n",
       "      <td>0.1444</td>\n",
       "      <td>0.4245</td>\n",
       "      <td>0.4504</td>\n",
       "      <td>0.2430</td>\n",
       "      <td>0.3613</td>\n",
       "      <td>0.08758</td>\n",
       "      <td>0</td>\n",
       "    </tr>\n",
       "    <tr>\n",
       "      <th>3</th>\n",
       "      <td>84348301</td>\n",
       "      <td>11.42</td>\n",
       "      <td>20.38</td>\n",
       "      <td>77.58</td>\n",
       "      <td>386.1</td>\n",
       "      <td>0.14250</td>\n",
       "      <td>0.28390</td>\n",
       "      <td>0.2414</td>\n",
       "      <td>0.10520</td>\n",
       "      <td>0.2597</td>\n",
       "      <td>...</td>\n",
       "      <td>26.50</td>\n",
       "      <td>98.87</td>\n",
       "      <td>567.7</td>\n",
       "      <td>0.2098</td>\n",
       "      <td>0.8663</td>\n",
       "      <td>0.6869</td>\n",
       "      <td>0.2575</td>\n",
       "      <td>0.6638</td>\n",
       "      <td>0.17300</td>\n",
       "      <td>0</td>\n",
       "    </tr>\n",
       "    <tr>\n",
       "      <th>4</th>\n",
       "      <td>84358402</td>\n",
       "      <td>20.29</td>\n",
       "      <td>14.34</td>\n",
       "      <td>135.10</td>\n",
       "      <td>1297.0</td>\n",
       "      <td>0.10030</td>\n",
       "      <td>0.13280</td>\n",
       "      <td>0.1980</td>\n",
       "      <td>0.10430</td>\n",
       "      <td>0.1809</td>\n",
       "      <td>...</td>\n",
       "      <td>16.67</td>\n",
       "      <td>152.20</td>\n",
       "      <td>1575.0</td>\n",
       "      <td>0.1374</td>\n",
       "      <td>0.2050</td>\n",
       "      <td>0.4000</td>\n",
       "      <td>0.1625</td>\n",
       "      <td>0.2364</td>\n",
       "      <td>0.07678</td>\n",
       "      <td>0</td>\n",
       "    </tr>\n",
       "  </tbody>\n",
       "</table>\n",
       "<p>5 rows × 32 columns</p>\n",
       "</div>"
      ],
      "text/plain": [
       "         id  radiusAvg  textureAvg  perimeterAvg  areaAvg  smoothnessAvg  \\\n",
       "0    842302      17.99       10.38        122.80   1001.0        0.11840   \n",
       "1    842517      20.57       17.77        132.90   1326.0        0.08474   \n",
       "2  84300903      19.69       21.25        130.00   1203.0        0.10960   \n",
       "3  84348301      11.42       20.38         77.58    386.1        0.14250   \n",
       "4  84358402      20.29       14.34        135.10   1297.0        0.10030   \n",
       "\n",
       "   compactnessAvg  concavityAvg  concavepointsAvg  symmetryAvg  ...  \\\n",
       "0         0.27760        0.3001           0.14710       0.2419  ...   \n",
       "1         0.07864        0.0869           0.07017       0.1812  ...   \n",
       "2         0.15990        0.1974           0.12790       0.2069  ...   \n",
       "3         0.28390        0.2414           0.10520       0.2597  ...   \n",
       "4         0.13280        0.1980           0.10430       0.1809  ...   \n",
       "\n",
       "   textureWorst  perimeterWorst  areaWorst  smoothnessWorst  compactnessWorst  \\\n",
       "0         17.33          184.60     2019.0           0.1622            0.6656   \n",
       "1         23.41          158.80     1956.0           0.1238            0.1866   \n",
       "2         25.53          152.50     1709.0           0.1444            0.4245   \n",
       "3         26.50           98.87      567.7           0.2098            0.8663   \n",
       "4         16.67          152.20     1575.0           0.1374            0.2050   \n",
       "\n",
       "   concavityWorst  concavepointsWorst  symmetryWorst  fractaldimWorst  c  \n",
       "0          0.7119              0.2654         0.4601          0.11890  0  \n",
       "1          0.2416              0.1860         0.2750          0.08902  0  \n",
       "2          0.4504              0.2430         0.3613          0.08758  0  \n",
       "3          0.6869              0.2575         0.6638          0.17300  0  \n",
       "4          0.4000              0.1625         0.2364          0.07678  0  \n",
       "\n",
       "[5 rows x 32 columns]"
      ]
     },
     "execution_count": 38,
     "metadata": {},
     "output_type": "execute_result"
    }
   ],
   "source": [
    "# Read in a data set using Pandas. \n",
    "wdbc_data = '../data-sets/wdbc.csv'\n",
    "df = pd.read_csv(wdbc_data, header=0)\n",
    "df.head()"
   ]
  },
  {
   "cell_type": "markdown",
   "metadata": {},
   "source": [
    "## Create some classifiers"
   ]
  },
  {
   "cell_type": "code",
   "execution_count": 28,
   "metadata": {},
   "outputs": [],
   "source": [
    "from sklearn import tree, linear_model\n",
    "from sklearn.model_selection import train_test_split\n",
    "test_percent = 0.30\n",
    "import sklearn.metrics as metrics\n",
    "from sklearn.model_selection import StratifiedKFold\n",
    "from scipy.stats import ttest_rel, ttest_ind\n",
    "data = df.iloc[:].values\n",
    "\n",
    "# extract X and y values from the data set; \n",
    "X = data[:, 1:-1]\n",
    "y = data[:, -1]\n",
    "\n",
    "# create the classifier objects; \n",
    "dtree = tree.DecisionTreeClassifier()\n",
    "logr = linear_model.LogisticRegression(solver='liblinear')\n",
    "\n",
    "X_train, X_test, y_train, y_test =  train_test_split(X, y, test_size=test_percent, shuffle=True)\n",
    "  \n",
    "dtree.fit(X_train, y_train) \n",
    "logr.fit(X_train,  y_train) \n",
    "\n",
    "predictedTree = np.array(dtree.predict_proba(X_test))[:,1]\n",
    "predictedLogR = np.array(logr.predict_proba(X_test))[:,1]"
   ]
  },
  {
   "cell_type": "markdown",
   "metadata": {},
   "source": [
    "## Generate a confusion matrix\n",
    "\n",
    "By default, `scikit-learn` will sort classes in ascending order. This behavior can be overridden by specifying an order using `labels`. \n",
    "\n",
    "In this dataset, `B` is 1 and `M` is 0. "
   ]
  },
  {
   "cell_type": "code",
   "execution_count": 29,
   "metadata": {},
   "outputs": [
    {
     "name": "stdout",
     "output_type": "stream",
     "text": [
      "\tB\tM\n",
      "B\t100\t6\n",
      "M\t12\t53\n"
     ]
    }
   ],
   "source": [
    "cm = metrics.confusion_matrix(y_test, predictedTree,labels=[1,0])\n",
    "\n",
    "print(\"\",\"B\",\"M\",sep=\"\\t\")\n",
    "print(\"B\",cm[0,0],cm[0,1],sep=\"\\t\" )\n",
    "print(\"M\",cm[1,0],cm[1,1],sep=\"\\t\" )"
   ]
  },
  {
   "cell_type": "markdown",
   "metadata": {},
   "source": [
    "## TP-Rate, FP-Rate, Success-Rate"
   ]
  },
  {
   "cell_type": "markdown",
   "metadata": {},
   "source": [
    "Below, we manually create a confusion matrix. We also compute the true-positive rate, false positive rate, and accuracy. For the latter, we compare it to the result we obtain using the builtin `metrics.accuracy_score`. We also manually compute the error. "
   ]
  },
  {
   "cell_type": "code",
   "execution_count": 30,
   "metadata": {},
   "outputs": [
    {
     "name": "stdout",
     "output_type": "stream",
     "text": [
      "\tB\tM\n",
      "B\t100\t6\n",
      "M\t12\t53\n",
      "--------------------\n",
      "TP Rate:\t 0.9433962264150944\n",
      "FP Rate:\t 0.18461538461538463\n",
      "Success Rate:\t 0.8947368421052632\t0.8947368421052632\n",
      "Error Rate:\t 0.10526315789473684\n"
     ]
    }
   ],
   "source": [
    "pos = np.sum(y_test == 1)\n",
    "neg = np.sum(y_test == 0)\n",
    "\n",
    "TP = np.sum((predictedTree >= 0.5) & (y_test == 1))\n",
    "FN = np.sum((predictedTree < 0.5) & (y_test == 1))\n",
    "TN = np.sum((predictedTree < 0.5) &  (y_test == 0))\n",
    "FP = np.sum((predictedTree >= 0.5) & (y_test == 0))\n",
    "\n",
    "\n",
    "print(\"\",\"B\",\"M\",sep=\"\\t\")\n",
    "print(\"B\",TP,FN,sep=\"\\t\" )\n",
    "print(\"M\",FP,TN,sep=\"\\t\" )\n",
    "print('-'*20)\n",
    "print(\"TP Rate:\\t\",TP/pos)\n",
    "print(\"FP Rate:\\t\",FP/neg)\n",
    "print(\"Success Rate:\\t {}\\t{}\".format((TP+TN)/(pos+neg), metrics.accuracy_score(y_test,predictedTree)))\n",
    "print(\"Error Rate:\\t\",1-(TP+TN)/(pos+neg))\n"
   ]
  },
  {
   "cell_type": "markdown",
   "metadata": {},
   "source": [
    "## Precision, Recall, F1"
   ]
  },
  {
   "cell_type": "markdown",
   "metadata": {},
   "source": [
    "We'll manually compute precision and recall. "
   ]
  },
  {
   "cell_type": "code",
   "execution_count": 31,
   "metadata": {},
   "outputs": [
    {
     "name": "stdout",
     "output_type": "stream",
     "text": [
      "\tprec\trec\tf1\tsup\n",
      "M\t0.90\t0.82\t0.85\t65\n",
      "B\t0.89\t0.94\t0.92\t106\n",
      "Avg\t0.89\t0.89\t0.89\t171\n"
     ]
    }
   ],
   "source": [
    "# for B\n",
    "Precision = TP/(TP + FP)\n",
    "Recall = TP/pos\n",
    "F1 = 2 * Precision*Recall/(Precision+Recall)\n",
    "Support = pos # support is just the count of the class. \n",
    "forB = (Precision,Recall,F1,Support)\n",
    "\n",
    "# for M\n",
    "Precision = TN/(TN + FN)\n",
    "Recall = TN/neg\n",
    "F1 = 2 * Precision*Recall/(Precision+Recall)\n",
    "Support = neg # support is just the count of the class. \n",
    "forM = (Precision,Recall,F1,Support)\n",
    "print(\"\\tprec\\trec\\tf1\\tsup\")\n",
    "print(\"M\\t{:.2f}\\t{:.2f}\\t{:.2f}\\t{}\".format(forM[0],forM[1],forM[2],forM[3]))\n",
    "print(\"B\\t{:.2f}\\t{:.2f}\\t{:.2f}\\t{}\".format(forB[0],forB[1],forB[2],forB[3]))\n",
    "\n",
    "tot = forM[3] + forB[3]\n",
    "weightB = forB[3]/tot\n",
    "weightM = forM[3]/tot\n",
    "\n",
    "print(\"Avg\\t{:.2f}\\t{:.2f}\\t{:.2f}\\t{}\".format(weightB*forB[0]+weightM*forM[0],weightB*forB[1]+weightM*forM[1],weightB*forB[2]+weightM*forM[2],forB[3]+forM[3]))\n"
   ]
  },
  {
   "cell_type": "markdown",
   "metadata": {},
   "source": [
    "These metrics can also be obtained using builtin routines in scikit-learn. "
   ]
  },
  {
   "cell_type": "code",
   "execution_count": 32,
   "metadata": {},
   "outputs": [
    {
     "name": "stdout",
     "output_type": "stream",
     "text": [
      "              precision    recall  f1-score   support\n",
      "\n",
      "           M       0.90      0.82      0.85        65\n",
      "           B       0.89      0.94      0.92       106\n",
      "\n",
      "    accuracy                           0.89       171\n",
      "   macro avg       0.90      0.88      0.89       171\n",
      "weighted avg       0.89      0.89      0.89       171\n",
      "\n",
      "--------------------\n",
      "\t\tprec\trec\tf1\tsup\n",
      "\tM\t0.90\t0.82\t0.85\n",
      "\tB\t0.89\t0.94\t0.92\n"
     ]
    }
   ],
   "source": [
    "## Some common metrics\n",
    "from sklearn.metrics import classification_report\n",
    "print(classification_report(y_test, predictedTree, target_names=['M','B']))\n",
    "\n",
    "\n",
    "forM = (\n",
    "        metrics.precision_score(y_test, predictedTree, pos_label=0),\n",
    "        metrics.recall_score(y_test, predictedTree, pos_label=0),\n",
    "        metrics.f1_score(y_test, predictedTree, pos_label=0))\n",
    "\n",
    "forB = (\n",
    "        metrics.precision_score(y_test, predictedTree, pos_label=1),\n",
    "        metrics.recall_score(y_test, predictedTree, pos_label=1),\n",
    "        metrics.f1_score(y_test, predictedTree, pos_label=1))\n",
    "print(20*'-')\n",
    "print(\"\\t\\tprec\\trec\\tf1\\tsup\")\n",
    "print(\"\\tM\\t{:.2f}\\t{:.2f}\\t{:.2f}\".format(forM[0],forM[1],forM[2]))\n",
    "print(\"\\tB\\t{:.2f}\\t{:.2f}\\t{:.2f}\".format(forB[0],forB[1],forB[2]))"
   ]
  },
  {
   "cell_type": "markdown",
   "metadata": {},
   "source": [
    "## Kappa statistics\n",
    "\n",
    "Cohen's Kappa statistic measures how better a classifier is than a random predictor. In this case, a random predictor would yield an accuracy of 50%. \n",
    "\n"
   ]
  },
  {
   "cell_type": "code",
   "execution_count": 33,
   "metadata": {},
   "outputs": [
    {
     "name": "stdout",
     "output_type": "stream",
     "text": [
      "0.6666666666666666\n",
      "0.4285714285714286\n"
     ]
    }
   ],
   "source": [
    "(0.9415204678362573 - 0.5)/(0.5)\n",
    "\n",
    "\n",
    "from sklearn.metrics import cohen_kappa_score\n",
    "y_true = [2, 0, 2, 2, 0, 1]\n",
    "y_pred = [0, 0, 2, 2, 0, 2]\n",
    "print(metrics.accuracy_score(y_true,y_pred))\n",
    "print(cohen_kappa_score(y_true, y_pred))"
   ]
  },
  {
   "cell_type": "code",
   "execution_count": 34,
   "metadata": {},
   "outputs": [
    {
     "name": "stdout",
     "output_type": "stream",
     "text": [
      "0.7\n",
      "0.41000000000000003\n"
     ]
    },
    {
     "data": {
      "text/plain": [
       "0.49152542372881347"
      ]
     },
     "execution_count": 34,
     "metadata": {},
     "output_type": "execute_result"
    }
   ],
   "source": [
    "print((88+40+12)/200)\n",
    "x = ((88+14+18)/200*((88+10+2)/200)) + ((10+40+10)/200*((14+40+6)/200)) +((2+6+12)/200*((18+10+12)/200))\n",
    "print(x)\n",
    "(0.7-x)/(1-x)"
   ]
  },
  {
   "cell_type": "code",
   "execution_count": 35,
   "metadata": {},
   "outputs": [
    {
     "name": "stdout",
     "output_type": "stream",
     "text": [
      "Kappa\n",
      "0.7725727796660263\n"
     ]
    }
   ],
   "source": [
    "print('Kappa')\n",
    "print(metrics.cohen_kappa_score(y_test, predictedTree))"
   ]
  },
  {
   "cell_type": "markdown",
   "metadata": {},
   "source": [
    "## ROC Curve\n",
    "\n",
    "It's also possible to generate data for ROC curves (which must then be plotted). "
   ]
  },
  {
   "cell_type": "code",
   "execution_count": 36,
   "metadata": {
    "scrolled": true
   },
   "outputs": [
    {
     "data": {
      "image/png": "[encoded data removed]",
      "text/plain": [
       "<Figure size 432x288 with 1 Axes>"
      ]
     },
     "metadata": {
      "needs_background": "light"
     },
     "output_type": "display_data"
    }
   ],
   "source": [
    "from sklearn.metrics import roc_curve\n",
    "fpTree, tpTree, threshTree = roc_curve(y_test, predictedTree)\n",
    "fpLog, tpLog, threshLog = roc_curve(y_test, predictedLogR)\n",
    "\n",
    "plt.plot(fpTree, tpTree,'r',label = 'Tree')\n",
    "plt.plot(fpLog,tpLog,'b', label= 'LogReg')\n",
    "plt.legend()\n",
    "plt.xlabel('False Positive Rate')\n",
    "plt.ylabel('True Positive Rate')\n",
    "plt.show()"
   ]
  },
  {
   "cell_type": "markdown",
   "metadata": {},
   "source": [
    "## Precision Recall Curve\n",
    "\n"
   ]
  },
  {
   "cell_type": "code",
   "execution_count": 37,
   "metadata": {},
   "outputs": [
    {
     "data": {
      "image/png": "[encoded data removed]",
      "text/plain": [
       "<Figure size 432x288 with 1 Axes>"
      ]
     },
     "metadata": {
      "needs_background": "light"
     },
     "output_type": "display_data"
    },
    {
     "name": "stdout",
     "output_type": "stream",
     "text": [
      "[0.61988304 0.89285714 1.        ]\n"
     ]
    }
   ],
   "source": [
    "from sklearn.metrics import precision_recall_curve\n",
    "precTree, recTree, threshTree = precision_recall_curve(y_test, predictedTree)\n",
    "precLog, recLog, threshLog = precision_recall_curve(y_test, predictedLogR)\n",
    "\n",
    "plt.plot(precTree, recTree,'r',label = 'Tree')\n",
    "plt.plot(precLog,recLog,'b', label= 'LogReg')\n",
    "plt.legend()\n",
    "plt.xlabel('Precision')\n",
    "plt.ylabel('Recall')\n",
    "plt.show()\n",
    "print(precTree)"
   ]
  },
  {
   "cell_type": "code",
   "execution_count": null,
   "metadata": {},
   "outputs": [],
   "source": []
  }
 ],
 "metadata": {
  "kernelspec": {
   "display_name": "Python 3",
   "language": "python",
   "name": "python3"
  },
  "language_info": {
   "codemirror_mode": {
    "name": "ipython",
    "version": 3
   },
   "file_extension": ".py",
   "mimetype": "text/x-python",
   "name": "python",
   "nbconvert_exporter": "python",
   "pygments_lexer": "ipython3",
   "version": "3.7.6"
  }
 },
 "nbformat": 4,
 "nbformat_minor": 2
}
