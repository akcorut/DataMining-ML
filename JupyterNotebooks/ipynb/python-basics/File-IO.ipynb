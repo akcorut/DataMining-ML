{
 "cells": [
  {
   "cell_type": "code",
   "execution_count": 1,
   "metadata": {},
   "outputs": [
    {
     "data": {
      "application/javascript": [
       "$.getScript('https://kmahelona.github.io/ipython_notebook_goodies/ipython_notebook_toc.js')\n"
      ],
      "text/plain": [
       "<IPython.core.display.Javascript object>"
      ]
     },
     "metadata": {},
     "output_type": "display_data"
    }
   ],
   "source": [
    "%%javascript\n",
    "$.getScript('https://kmahelona.github.io/ipython_notebook_goodies/ipython_notebook_toc.js')"
   ]
  },
  {
   "cell_type": "markdown",
   "metadata": {},
   "source": [
    "# File I/O\n",
    "\n",
    "<h2 id=\"tocheading\">Table of Contents</h2>\n",
    "<div id=\"toc\"></div>\n",
    "\n",
    "## I/O Modes\n",
    "\n",
    "Reading and Writing to a file can be fairly easy in Python. One opens a file using `open`, using one of the file **modes** `r`,`w`, or `a` to indicate whether you wish to open the file for reading, writing (overwriting any preexisting file contents), or appending (which simply adds new material to the end of a preexising file.  The mode `r+` allows both reading and writing.  \n",
    "\n",
    "    myfile = open(\"text.txt\", w)\n",
    "    \n",
    "Above, the reference to the file object is assigned to `myfile`. The mode argument is optional. If none is specified, then `r` is assumed.\n",
    "    \n",
    "By default, Python will open the file in **text mode**, which unsuprisingly is for reading and writing text. One benefit of text mode is that line endings are uniformly represented in strings as `\\n`, which avoids problems associated with the different encodings used by different operating systems (Windows, Unix, etc.). Python automatically handles the conversion to/from `\\n` to the platform-specific line ending.  \n",
    "\n",
    "There is also a **binary mode**, indicated by appending `b` to the mode argument, which is for reading and writing raw data (bytes). We generally won't deal with it, however. "
   ]
  },
  {
   "cell_type": "markdown",
   "metadata": {},
   "source": [
    "## Writing"
   ]
  },
  {
   "cell_type": "code",
   "execution_count": 2,
   "metadata": {},
   "outputs": [
    {
     "name": "stdout",
     "output_type": "stream",
     "text": [
      "10 PRINT \"THIS IS TEST LINE 10 \"\n",
      "20 PRINT \"THIS IS TEST LINE 20 \"\n",
      "30 PRINT \"THIS IS TEST LINE 30 \"\n",
      "40 PRINT \"THIS IS TEST LINE 40 \"\n",
      "50 PRINT \"THIS IS TEST LINE 50 \"\n",
      "60 PRINT \"THIS IS TEST LINE 60 \"\n",
      "70 PRINT \"THIS IS TEST LINE 70 \"\n",
      "80 PRINT \"THIS IS TEST LINE 80 \"\n",
      "90 PRINT \"THIS IS TEST LINE 90 \"\n",
      "100 PRINT \"THIS IS TEST LINE 100 \"\n"
     ]
    }
   ],
   "source": [
    "myfile =open('.\\\\files\\\\test-file.txt', 'w') # open a file\n",
    "\n",
    "for i in range(10,110,10): # for 10 to 100, write some lines \n",
    "    print(i,\"PRINT \\\"THIS IS TEST LINE\",i,\"\\\"\")\n",
    "    myfile.write(str(i)+\" PRINT \\\"THIS IS TEST LINE \" + str(i) +\"\\\"\\n\")\n",
    "myfile.close() # close the file. \n"
   ]
  },
  {
   "cell_type": "markdown",
   "metadata": {},
   "source": [
    "## Reading"
   ]
  },
  {
   "cell_type": "markdown",
   "metadata": {},
   "source": [
    "### Read line by line\n",
    "\n",
    "One can use `readline` to read a line of text from a file. The line that has been read will retain any newline (`\\n`) characters at the end. The method `readline` returns the empty string `''` if the end of the file is reached (and subsequent calls return the same). \n"
   ]
  },
  {
   "cell_type": "code",
   "execution_count": 3,
   "metadata": {},
   "outputs": [
    {
     "name": "stdout",
     "output_type": "stream",
     "text": [
      "10 PRINT \"THIS IS TEST LINE 10\"\n",
      "20 PRINT \"THIS IS TEST LINE 20\"\n",
      "30 PRINT \"THIS IS TEST LINE 30\"\n",
      "40 PRINT \"THIS IS TEST LINE 40\"\n",
      "50 PRINT \"THIS IS TEST LINE 50\"\n",
      "60 PRINT \"THIS IS TEST LINE 60\"\n",
      "70 PRINT \"THIS IS TEST LINE 70\"\n",
      "80 PRINT \"THIS IS TEST LINE 80\"\n",
      "90 PRINT \"THIS IS TEST LINE 90\"\n",
      "100 PRINT \"THIS IS TEST LINE 100\"\n",
      "done!\n"
     ]
    }
   ],
   "source": [
    "myfile =open('.\\\\files\\\\test-file.txt', 'r') # open a file for reading\n",
    "\n",
    "counter = 1; \n",
    "while counter < 100:\n",
    "    line = myfile.readline(); \n",
    "    if line == '':\n",
    "        print(\"done!\")\n",
    "        break\n",
    "    print(line, end='') # Note the end=''. It prevents print() from adding an additional new line. \n",
    "    counter += 1\n",
    "myfile.close() # close the file. "
   ]
  },
  {
   "cell_type": "markdown",
   "metadata": {},
   "source": [
    "More simply, one can read lines using a `for` loop. The loop terminates when the end of the file is reached. "
   ]
  },
  {
   "cell_type": "code",
   "execution_count": 5,
   "metadata": {},
   "outputs": [
    {
     "name": "stdout",
     "output_type": "stream",
     "text": [
      "10 PRINT \"THIS IS TEST LINE 10\"\n",
      "20 PRINT \"THIS IS TEST LINE 20\"\n",
      "30 PRINT \"THIS IS TEST LINE 30\"\n",
      "40 PRINT \"THIS IS TEST LINE 40\"\n",
      "50 PRINT \"THIS IS TEST LINE 50\"\n",
      "60 PRINT \"THIS IS TEST LINE 60\"\n",
      "70 PRINT \"THIS IS TEST LINE 70\"\n",
      "80 PRINT \"THIS IS TEST LINE 80\"\n",
      "90 PRINT \"THIS IS TEST LINE 90\"\n",
      "100 PRINT \"THIS IS TEST LINE 100\"\n"
     ]
    }
   ],
   "source": [
    "myfile =open('.\\\\files\\\\test-file.txt', 'r') # open a file for reading\n",
    "for line in myfile:\n",
    "    print(line, end='') \n",
    "myfile.close() # close the file. "
   ]
  },
  {
   "cell_type": "markdown",
   "metadata": {},
   "source": [
    "### Reading a number of characters\n",
    "\n",
    "Instead of `readline`, you can use `read` to read some or all characters in a file (you should be careful not to do this with very large files, however). "
   ]
  },
  {
   "cell_type": "code",
   "execution_count": 6,
   "metadata": {},
   "outputs": [
    {
     "name": "stdout",
     "output_type": "stream",
     "text": [
      "10 PR\n",
      "INT \"\n",
      "THIS \n",
      "IS TE\n",
      "ST LI\n",
      "NE 10\n",
      "\"\n",
      "20 \n",
      "PRINT\n",
      " \"THI\n",
      "S IS \n",
      "TEST \n",
      "LINE \n",
      "20\"\n",
      "3\n",
      "0 PRI\n",
      "NT \"T\n",
      "HIS I\n",
      "S TES\n",
      "T LIN\n",
      "E 30\"\n",
      "\n",
      "40 P\n",
      "RINT \n",
      "\"THIS\n",
      " IS T\n",
      "EST L\n",
      "INE 4\n",
      "0\"\n",
      "50\n",
      " PRIN\n",
      "T \"TH\n",
      "IS IS\n",
      " TEST\n",
      " LINE\n",
      " 50\"\n",
      "\n",
      "60 PR\n",
      "INT \"\n",
      "THIS \n",
      "IS TE\n",
      "ST LI\n",
      "NE 60\n",
      "\"\n",
      "70 \n",
      "PRINT\n",
      " \"THI\n",
      "S IS \n",
      "TEST \n",
      "LINE \n",
      "70\"\n",
      "8\n",
      "0 PRI\n",
      "NT \"T\n",
      "HIS I\n",
      "S TES\n",
      "T LIN\n",
      "E 80\"\n",
      "\n",
      "90 P\n",
      "RINT \n",
      "\"THIS\n",
      " IS T\n",
      "EST L\n",
      "INE 9\n",
      "0\"\n",
      "10\n",
      "0 PRI\n",
      "NT \"T\n",
      "HIS I\n",
      "S TES\n",
      "T LIN\n",
      "E 100\n",
      "\"\n",
      "\n"
     ]
    }
   ],
   "source": [
    "myfile =open('.\\\\files\\\\test-file.txt', 'r') # open a file for reading\n",
    "size_n = 5\n",
    "text = myfile.read(size_n); \n",
    "while text != '':\n",
    "    print(text) # Here, each line printed will have size_n characters. \n",
    "    text = myfile.read(size_n); \n",
    "myfile.close() # close the file. "
   ]
  },
  {
   "cell_type": "markdown",
   "metadata": {},
   "source": [
    "### Reading all characters in a file\n",
    "\n",
    "To read all characters in a file, you simply omit the size argument from `read`. "
   ]
  },
  {
   "cell_type": "code",
   "execution_count": 7,
   "metadata": {},
   "outputs": [
    {
     "name": "stdout",
     "output_type": "stream",
     "text": [
      "10 PRINT \"THIS IS TEST LINE 10\"\n",
      "20 PRINT \"THIS IS TEST LINE 20\"\n",
      "30 PRINT \"THIS IS TEST LINE 30\"\n",
      "40 PRINT \"THIS IS TEST LINE 40\"\n",
      "50 PRINT \"THIS IS TEST LINE 50\"\n",
      "60 PRINT \"THIS IS TEST LINE 60\"\n",
      "70 PRINT \"THIS IS TEST LINE 70\"\n",
      "80 PRINT \"THIS IS TEST LINE 80\"\n",
      "90 PRINT \"THIS IS TEST LINE 90\"\n",
      "100 PRINT \"THIS IS TEST LINE 100\"\n",
      "\n"
     ]
    }
   ],
   "source": [
    "myfile =open('.\\\\files\\\\test-file.txt', 'r') # open a file for reading\n",
    "print(myfile.read()) # Read the entire contents of a file. \n",
    "myfile.close() # close the file. "
   ]
  },
  {
   "cell_type": "markdown",
   "metadata": {},
   "source": [
    "## Using `with`\n",
    "\n",
    "Exceptions commonly occur when working with files--e.g. they are locked by another process, or they aren't where you expect them to be. To obviate the need for handling the exceptions yourself, you can instead open a file using `with`, which is guaranteed to close a file even if an exception is encountered while processing it (but after it has been successfully opened, however). \n",
    "\n",
    "The below example does the same thing as the previous example. However, manually closing the file is not necessary. "
   ]
  },
  {
   "cell_type": "code",
   "execution_count": 8,
   "metadata": {},
   "outputs": [
    {
     "name": "stdout",
     "output_type": "stream",
     "text": [
      "10 PRINT \"THIS IS TEST LINE 10\"\n",
      "20 PRINT \"THIS IS TEST LINE 20\"\n",
      "30 PRINT \"THIS IS TEST LINE 30\"\n",
      "40 PRINT \"THIS IS TEST LINE 40\"\n",
      "50 PRINT \"THIS IS TEST LINE 50\"\n",
      "60 PRINT \"THIS IS TEST LINE 60\"\n",
      "70 PRINT \"THIS IS TEST LINE 70\"\n",
      "80 PRINT \"THIS IS TEST LINE 80\"\n",
      "90 PRINT \"THIS IS TEST LINE 90\"\n",
      "100 PRINT \"THIS IS TEST LINE 100\"\n"
     ]
    },
    {
     "data": {
      "text/plain": [
       "True"
      ]
     },
     "execution_count": 8,
     "metadata": {},
     "output_type": "execute_result"
    }
   ],
   "source": [
    "with open('.\\\\files\\\\test-file.txt', 'r')  as myfile: # open a file for reading\n",
    "    for line in myfile:\n",
    "        print(line, end='') # Note the end=''. It prevents print() from adding an additional new line. \n",
    "        \n",
    "myfile.closed # check to see that the file is closed. "
   ]
  },
  {
   "cell_type": "code",
   "execution_count": 9,
   "metadata": {},
   "outputs": [
    {
     "name": "stdout",
     "output_type": "stream",
     "text": [
      "Exception! division by zero\n",
      "True\n"
     ]
    }
   ],
   "source": [
    "myfile2 = None\n",
    "try:\n",
    "    with open('.\\\\files\\\\test-file.txt', 'r')  as myfile2: # open a file for reading\n",
    "            x = 1/0\n",
    "            for line in myfile:\n",
    "                print(line, end='') # Note the end=''. It prevents print() from adding an additional new line. \n",
    "except Exception as e1:\n",
    "    print(\"Exception!\", e1)\n",
    "\n",
    "print(myfile2.closed) # check to see that the file is closed. "
   ]
  },
  {
   "cell_type": "markdown",
   "metadata": {},
   "source": [
    "This assumes the file exists, however. If there's a problem opening the file, an exception will be thrown, and the `with` statement will never execute properly. With you still need to handle the exception. "
   ]
  },
  {
   "cell_type": "code",
   "execution_count": 10,
   "metadata": {},
   "outputs": [
    {
     "name": "stdout",
     "output_type": "stream",
     "text": [
      "Exception! [Errno 2] No such file or directory: '.\\\\files\\\\nonexistentfile.txt'\n",
      "Exception! 'NoneType' object has no attribute 'closed'\n"
     ]
    }
   ],
   "source": [
    "myfile3 = None\n",
    "try:\n",
    "    with open('.\\\\files\\\\nonexistentfile.txt', 'r')  as myfile3: # open a file for reading\n",
    "            x = 1/0\n",
    "            for line in myfile:\n",
    "                print(line, end='') # Note the end=''. It prevents print() from adding an additional new line. \n",
    "except Exception as e1:\n",
    "    print(\"Exception!\", e1)\n",
    "    \n",
    "try:\n",
    "    myfile3.closed # check to see that the file is closed. \n",
    "except Exception as e:\n",
    "    print(\"Exception!\", e)"
   ]
  }
 ],
 "metadata": {
  "kernelspec": {
   "display_name": "Python 3",
   "language": "python",
   "name": "python3"
  },
  "language_info": {
   "codemirror_mode": {
    "name": "ipython",
    "version": 3
   },
   "file_extension": ".py",
   "mimetype": "text/x-python",
   "name": "python",
   "nbconvert_exporter": "python",
   "pygments_lexer": "ipython3",
   "version": "3.7.6"
  }
 },
 "nbformat": 4,
 "nbformat_minor": 2
}
