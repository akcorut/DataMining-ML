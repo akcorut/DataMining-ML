{
 "cells": [
  {
   "cell_type": "code",
   "execution_count": 1,
   "metadata": {},
   "outputs": [
    {
     "data": {
      "application/javascript": [
       "$.getScript('https://kmahelona.github.io/ipython_notebook_goodies/ipython_notebook_toc.js')\n"
      ],
      "text/plain": [
       "<IPython.core.display.Javascript object>"
      ]
     },
     "metadata": {},
     "output_type": "display_data"
    }
   ],
   "source": [
    "%%javascript\n",
    "$.getScript('https://kmahelona.github.io/ipython_notebook_goodies/ipython_notebook_toc.js')"
   ]
  },
  {
   "cell_type": "markdown",
   "metadata": {},
   "source": [
    "# Functions\n",
    "\n",
    "<h2 id=\"tocheading\">Table of Contents</h2>\n",
    "<div id=\"toc\"></div>"
   ]
  },
  {
   "cell_type": "markdown",
   "metadata": {},
   "source": [
    "<a id='basic'></a>\n",
    "## General Syntax of Functions\n",
    "\n",
    "A function declaration begins with the `def` keyword, followed by the function name and a list of 0 or more arguments enclosed in parentheses. Note a colon `:` follows the argument list.  There is also an optional string that can be used for generating documentation (a *docstring*) A function returns a value, but not all functions have explicit return statements (using `return`).  \n",
    "\n",
    "Below is the definition of a small Python **function** that takes two numbers as arguments and returns their squared difference. "
   ]
  },
  {
   "cell_type": "code",
   "execution_count": 2,
   "metadata": {},
   "outputs": [],
   "source": [
    "def squared_diff(a, b):\n",
    "    \"\"\"A trivial arithmetic function\"\"\"\n",
    "    temp = (a - b)\n",
    "    return temp*temp"
   ]
  },
  {
   "cell_type": "markdown",
   "metadata": {},
   "source": [
    "Once defined, the function can be invoked any number of times. "
   ]
  },
  {
   "cell_type": "code",
   "execution_count": 3,
   "metadata": {},
   "outputs": [
    {
     "name": "stdout",
     "output_type": "stream",
     "text": [
      "16\n",
      "9\n"
     ]
    }
   ],
   "source": [
    "print(squared_diff(5,1))\n",
    "print(squared_diff(3,6))"
   ]
  },
  {
   "cell_type": "markdown",
   "metadata": {},
   "source": [
    "### Indenting the Function Body\n",
    "\n",
    "In Python, the body of a function is indented. This is what separates the function from the rest of the program in which it is defined. More generally, indentation is used to delineate blocks of code in Python. The exact amount of indentation is not important (4 spaces is typical), but it must be the same amount for each line of the block."
   ]
  },
  {
   "cell_type": "markdown",
   "metadata": {},
   "source": [
    "Note that a variable (such as `temp` in the above example) first used in the body of a function cannot be accessed outside the scope of the function body. The memory used for `temp` is reclaimed after the function invocation is complete. The same holds for the variables used as arguments. They are *local* to the function invocation. \n",
    "\n",
    "Once defined, the function's name can be used to assign the function to a variable. The variable serves as an alias. "
   ]
  },
  {
   "cell_type": "code",
   "execution_count": 4,
   "metadata": {},
   "outputs": [
    {
     "name": "stdout",
     "output_type": "stream",
     "text": [
      "16\n"
     ]
    }
   ],
   "source": [
    "sd = squared_diff\n",
    "print(sd(5,1))"
   ]
  },
  {
   "cell_type": "markdown",
   "metadata": {},
   "source": [
    "A function without a return statement (or an empty one) does in fact return a value, `None`. "
   ]
  },
  {
   "cell_type": "code",
   "execution_count": 5,
   "metadata": {},
   "outputs": [
    {
     "name": "stdout",
     "output_type": "stream",
     "text": [
      "How Many?\n",
      "None\n"
     ]
    }
   ],
   "source": [
    "def trivial():\n",
    "    print(\"How Many?\")\n",
    "print(trivial())"
   ]
  },
  {
   "cell_type": "markdown",
   "metadata": {},
   "source": [
    "<a id='nesting'></a>\n",
    "## Nested Functions\n",
    "\n",
    "It's possible to define functions within other functions, and even assign the function to a variable (thereby creating an alias for it). In the below example, `outer` actually returns a new function, created from argument `a`. The new function is assigned to `y` and then invoked. "
   ]
  },
  {
   "cell_type": "code",
   "execution_count": 6,
   "metadata": {},
   "outputs": [
    {
     "name": "stdout",
     "output_type": "stream",
     "text": [
      "5\n"
     ]
    }
   ],
   "source": [
    "def outer(a):\n",
    "    def inner(b): \n",
    "        return a + b\n",
    "    x = inner\n",
    "    return x\n",
    "y = outer(2)\n",
    "print(y(3))"
   ]
  },
  {
   "cell_type": "markdown",
   "metadata": {},
   "source": [
    "<a id='defaults'></a>\n",
    "## Default Values\n",
    "\n",
    "Functions can be defined to allow a variable number of arguments. One way of doing this is to use default values as indicated below "
   ]
  },
  {
   "cell_type": "code",
   "execution_count": 7,
   "metadata": {},
   "outputs": [
    {
     "name": "stdout",
     "output_type": "stream",
     "text": [
      "6\n",
      "7\n",
      "8\n",
      "9\n"
     ]
    }
   ],
   "source": [
    "def f1(a=1, b=2, c=3):\n",
    "    return a+b+c;\n",
    "print(f1()) # returns 6\n",
    "print(f1(2)) # returns 7\n",
    "print(f1(1,4)) # returns 8\n",
    "print(f1(3,4,2)) #returns 9 "
   ]
  },
  {
   "cell_type": "markdown",
   "metadata": {},
   "source": [
    "The use of compound objects as default values requires special attention. The default value is only evaluated once, at the time the function is defined rather than invoked. And so, it is possible to change the state of the object with successive function invocations.  "
   ]
  },
  {
   "cell_type": "code",
   "execution_count": 8,
   "metadata": {},
   "outputs": [
    {
     "name": "stdout",
     "output_type": "stream",
     "text": [
      "[1, 2, 3]\n",
      "[4]\n"
     ]
    }
   ],
   "source": [
    "def f2(ele, thelist = []):\n",
    "    thelist.append(ele)\n",
    "    return thelist\n",
    "\n",
    "f2(1)\n",
    "f2(2)\n",
    "result = f2(3)\n",
    "print(result)\n",
    "print(f2(4,[]))"
   ]
  },
  {
   "cell_type": "markdown",
   "metadata": {},
   "source": [
    "<a id='keywords'></a>\n",
    "## Keyword Arguments\n",
    "\n",
    "Key value pairs can also be used as arguments, both in the definition of the function *and its invocation*. This permits arguments to be referenced by name. When invoked in this fashion, the order of the arguments does not matter. \n",
    "\n",
    "Note that if key-value pairs are only used for some arguments, they must appear *after* all positional arguments. "
   ]
  },
  {
   "cell_type": "code",
   "execution_count": 9,
   "metadata": {},
   "outputs": [
    {
     "name": "stdout",
     "output_type": "stream",
     "text": [
      " a = 0 b = 2 c = 3\n",
      " a = 3 b = 2 c = 1\n",
      " a = 1 b = 2 c = 3\n",
      " a = 4 b = 5 c = 6\n"
     ]
    }
   ],
   "source": [
    "def f3(a, b=2, c=3):\n",
    "    print(  ' a = ' + str(a) +\n",
    "            ' b = ' + str(b) +\n",
    "            ' c = ' + str(c))\n",
    "\n",
    "f3(0)\n",
    "f3(3,2,1)\n",
    "f3(b=2,a=1,c=3)\n",
    "f3(4,c=6,b=5)\n"
   ]
  },
  {
   "cell_type": "markdown",
   "metadata": {},
   "source": [
    "<a id='variable_arguments'></a>\n",
    "## Variable Argument Lists\n",
    "\n",
    "In a function definition, a formal argument of the form `*variablename` will collect all optional positional arguments and put them into a tuple. Similarly, a formal argument of the form `**variablename` will collect all optional keyword arguments and put them into a dictionary. "
   ]
  },
  {
   "cell_type": "code",
   "execution_count": 10,
   "metadata": {},
   "outputs": [
    {
     "name": "stdout",
     "output_type": "stream",
     "text": [
      "1\n",
      "2\n",
      "(3, 4)\n",
      "7\n",
      "{'a': 5, 'b': 6}\n",
      "********************\n",
      "1\n",
      "2\n",
      "(3, 4)\n",
      "d\n",
      "{'a': 'b'}\n"
     ]
    }
   ],
   "source": [
    "def f4(arg1, arg2, *more_positional_args, c = 10, **keyword_args):\n",
    "    print(arg1)\n",
    "    print(arg2)\n",
    "    print(more_positional_args)\n",
    "    print(c)\n",
    "    print(keyword_args)\n",
    "\n",
    "f4(1,2,3,4,a=5,b=6,c = 7)\n",
    "\n",
    "print('*'*20)\n",
    "x = (1,2,3,4)\n",
    "y = {'a':'b', 'c':'d'}\n",
    "f4(*x,**y)"
   ]
  },
  {
   "cell_type": "markdown",
   "metadata": {},
   "source": [
    "<a id='anonymous'></a>\n",
    "## Anonymous functions\n",
    "\n",
    "An anoymous function can be created with a `lambda` expression. Note that a function defined via a lambda expression does not have a return statement. Instead, it contains a single statement (written on the same line) whose evaluated value is used as the return statement. "
   ]
  },
  {
   "cell_type": "code",
   "execution_count": 11,
   "metadata": {},
   "outputs": [
    {
     "name": "stdout",
     "output_type": "stream",
     "text": [
      "9\n",
      "64\n"
     ]
    }
   ],
   "source": [
    "\n",
    "def f5(a):\n",
    "    x = lambda b: b**a\n",
    "    return x; \n",
    "sq = f5(2)\n",
    "print(sq(3))\n",
    "cu = f5(3)\n",
    "print(cu(4))"
   ]
  },
  {
   "cell_type": "markdown",
   "metadata": {},
   "source": [
    "<a id='scope'></a>\n",
    "## Note about scope\n",
    "\n",
    "In the written program, where a variable is defined plays an important role when creating functions, particulaly when anonymous functions are created. Below, the variable `a` is defined `outside` of the function definition but is referenced inside of it. \n",
    "\n",
    "Below, in the body of `f6`, local variable `b` is assigned the value of `a`, which again is defined outside of the function. When `f6()` is invoked, the current value of `a` (20) is used, *not* the value of `a` that existed when the function was originally defined. "
   ]
  },
  {
   "cell_type": "code",
   "execution_count": 12,
   "metadata": {},
   "outputs": [
    {
     "name": "stdout",
     "output_type": "stream",
     "text": [
      "20\n",
      "20\n"
     ]
    }
   ],
   "source": [
    "a = 10\n",
    "def f6():\n",
    "    b = a\n",
    "    print(a)\n",
    "    print(b)\n",
    "a = 20\n",
    "f6()"
   ]
  },
  {
   "cell_type": "markdown",
   "metadata": {},
   "source": [
    "Something similar happens in the definition of the anymous function created by `f7`. Below, `e` is referenced in the anonymous function, but it is defined elsewhere. Whenever the anonymous function is invoked, the current value of `e` is used. "
   ]
  },
  {
   "cell_type": "code",
   "execution_count": 13,
   "metadata": {},
   "outputs": [
    {
     "name": "stdout",
     "output_type": "stream",
     "text": [
      "25\n",
      "125\n"
     ]
    }
   ],
   "source": [
    "e = 2\n",
    "def f7():\n",
    "    x = lambda b: b**e\n",
    "    return x;\n",
    "exp = f7();\n",
    "print(exp(5))\n",
    "e = 3\n",
    "print(exp(5))"
   ]
  },
  {
   "cell_type": "markdown",
   "metadata": {},
   "source": [
    "Below, the variable `temp` receives the value of `e`, making the returned function independent of changes to `e`."
   ]
  },
  {
   "cell_type": "code",
   "execution_count": 14,
   "metadata": {},
   "outputs": [
    {
     "name": "stdout",
     "output_type": "stream",
     "text": [
      "25\n",
      "25\n"
     ]
    }
   ],
   "source": [
    "e = 2\n",
    "def f8():\n",
    "    temp = e\n",
    "    x = lambda b: b**temp\n",
    "    return x;\n",
    "exp = f8();\n",
    "print(exp(5))\n",
    "e = 3\n",
    "print(exp(5))"
   ]
  }
 ],
 "metadata": {
  "kernelspec": {
   "display_name": "Python 3",
   "language": "python",
   "name": "python3"
  },
  "language_info": {
   "codemirror_mode": {
    "name": "ipython",
    "version": 3
   },
   "file_extension": ".py",
   "mimetype": "text/x-python",
   "name": "python",
   "nbconvert_exporter": "python",
   "pygments_lexer": "ipython3",
   "version": "3.7.6"
  }
 },
 "nbformat": 4,
 "nbformat_minor": 2
}
