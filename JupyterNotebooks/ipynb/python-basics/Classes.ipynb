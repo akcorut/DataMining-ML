{
 "cells": [
  {
   "cell_type": "code",
   "execution_count": 2,
   "metadata": {},
   "outputs": [
    {
     "data": {
      "application/javascript": [
       "$.getScript('https://kmahelona.github.io/ipython_notebook_goodies/ipython_notebook_toc.js')\n"
      ],
      "text/plain": [
       "<IPython.core.display.Javascript object>"
      ]
     },
     "metadata": {},
     "output_type": "display_data"
    }
   ],
   "source": [
    "%%javascript\n",
    "$.getScript('https://kmahelona.github.io/ipython_notebook_goodies/ipython_notebook_toc.js')"
   ]
  },
  {
   "cell_type": "markdown",
   "metadata": {},
   "source": [
    "# Classes\n",
    "\n",
    "**Object oriented programming**, which began to be developed in the 1960s, is arguably the most imortant programming paradigm in use today. Although Python deviates from other popular object oriented programming languages, it does permit users to define classes and class hierarchies, and it supports other important features of the object oriented programming paradigm. \n",
    "\n",
    "<h2 id=\"tocheading\">Table of Contents</h2>\n",
    "<div id=\"toc\"></div>\n",
    "\n",
    "## Defining a class\n",
    "\n",
    "Below is a simple class definition"
   ]
  },
  {
   "cell_type": "code",
   "execution_count": 1,
   "metadata": {},
   "outputs": [
    {
     "name": "stdout",
     "output_type": "stream",
     "text": [
      "Bertrand\n",
      "Russell\n",
      "Bertrand Russell\n",
      "<__main__.Person object at 0x0000023DB193C358>\n",
      "<__main__.Person object at 0x0000023DB193C3C8>\n"
     ]
    }
   ],
   "source": [
    "class Person:\n",
    "    fname = \"Bertrand\"\n",
    "    lname = \"Russell\"\n",
    "    def printit():\n",
    "        print(Person.fname + \" \" + Person.lname)\n",
    "\n",
    "print(Person.fname)\n",
    "print(Person.lname)\n",
    "Person.printit()\n",
    "x = Person()\n",
    "print(x)\n",
    "y = Person()\n",
    "print(y)"
   ]
  },
  {
   "cell_type": "markdown",
   "metadata": {},
   "source": [
    "Above, we have defined a class `Person` and specified two variables (*attributes*), `fname` and `lname`. We have also defined a function `Person` with no formal parameters. We can access each of these using the class name following by `.`, followed by the member we wish to access (e.g., `Person.fname`). Note that in `printit`, we must include the class name when referencing the class variables, otherwise an error will be thrown. \n",
    "\n",
    "A function that is called using the `.` notation is called a **method**. That is, a method is a function that is associated with a class. \n",
    "\n",
    "The ability to enclose variables and functions in classes allows developers to modularize code, which makes developing large programs easier. However, one of the hallmarks of object oriented programming is the ability to create multiple **instances** of a class (which we just call **objects**), each with their own attribute values, and what we have presented so far does not allow that. \n",
    "\n",
    "Although we have created two instances of `Person` above `x` and `y`, they do not have their own values for `fname` and `lname`. Those variables belong to the class, and so when a value is changed, it is changed for all instances of the class."
   ]
  },
  {
   "cell_type": "code",
   "execution_count": 2,
   "metadata": {},
   "outputs": [
    {
     "name": "stdout",
     "output_type": "stream",
     "text": [
      "Ludwig Wittgenstein\n",
      "Ludwig Wittgenstein\n"
     ]
    }
   ],
   "source": [
    "Person.fname = \"Ludwig\"\n",
    "Person.lname = \"Wittgenstein\"\n",
    "print(x.fname + \" \" + x.lname)\n",
    "print(y.fname + \" \" + y.lname)"
   ]
  },
  {
   "cell_type": "markdown",
   "metadata": {},
   "source": [
    "## Instances\n",
    "\n",
    "Instance attributes (attributes attached to instances of a class) can be created in a few ways. One way is to just assign values to them after the instance has been created. Note that the attributes for each instance below have nothing to do with the attributes for the class. They use the same symbols, but the symbols refer to different things in each context.  "
   ]
  },
  {
   "cell_type": "code",
   "execution_count": 3,
   "metadata": {},
   "outputs": [
    {
     "name": "stdout",
     "output_type": "stream",
     "text": [
      "Noam Chomsky\n",
      "Alan Turing\n",
      "Ludwig Wittgenstein\n"
     ]
    }
   ],
   "source": [
    "x = Person()\n",
    "y = Person()\n",
    "x.fname = \"Noam\"\n",
    "x.lname = \"Chomsky\"\n",
    "y.fname = \"Alan\"\n",
    "y.lname = \"Turing\"\n",
    "print(x.fname, x.lname)\n",
    "print(y.fname, y.lname)\n",
    "print(Person.fname,Person.lname)"
   ]
  },
  {
   "cell_type": "markdown",
   "metadata": {},
   "source": [
    "### `__init__`\n",
    "However, it is best to bundle assignments for each instance into the class definition itself, so that the instance attributes are initialized when the instance is first created. In particular, we define a special method `__init__` that has at least one formal parameter, typically (though arbitrarily) `self`."
   ]
  },
  {
   "cell_type": "code",
   "execution_count": 4,
   "metadata": {},
   "outputs": [],
   "source": [
    "class Point:\n",
    "    def __init__(self, x1,y1):\n",
    "        self.x = x1\n",
    "        self.y = y1\n",
    "    \n",
    "    def coordinates(self):\n",
    "        return (self.x,self.y)"
   ]
  },
  {
   "cell_type": "markdown",
   "metadata": {},
   "source": [
    "Above, we actually specify three formal parameters in `__init__`. The first of these is a reference to the instance we are in the process of initializing. The other two store values we are going to assign to that instance. When we create the instance using code such as below, a new instance of `Point`  is created. \n",
    "\n",
    "    p = Point(45,100)\n",
    "    \n",
    "The `__init__` method is called with the new instance bound to the variable `self`. Inside of  the `__init__`, values for `x` and `y` are assigned to `self`.  \n",
    "\n",
    "The second method, `coordinates` also specifies a formal parameter (again, `self`). When we call\n",
    "\n",
    "    p.coordinates()\n",
    "    \n",
    "a reference to instance `p` is passed to the coordinates method as `self`. This allows us a way of accessing the instance `p` from within the method. \n",
    "\n",
    "Note that there is no special significance to the identifier `self`. It's just a variable name. We could just as easily have used the variable `v` , and we can also invoke `coordinates` directly using `Point.coordinates(v)`. The effect is the same. "
   ]
  },
  {
   "cell_type": "code",
   "execution_count": 5,
   "metadata": {},
   "outputs": [
    {
     "name": "stdout",
     "output_type": "stream",
     "text": [
      "(2, 20)\n",
      "(2, 20)\n",
      "(30, 40)\n",
      "(30, 40)\n"
     ]
    }
   ],
   "source": [
    "first = Point(10,20)\n",
    "second = Point(30,40)\n",
    "first.x = 2; \n",
    "print(first.coordinates())\n",
    "print(Point.coordinates(first))\n",
    "print(second.coordinates())\n",
    "print(Point.coordinates(second))"
   ]
  },
  {
   "cell_type": "markdown",
   "metadata": {},
   "source": [
    "As should be clear from the above discussion, we can define an empty class and add elements to it after an instance of the class has been created. There's nothing to prevent it, though it is not a good idea to do it. It undermines the utility of using classes in the first place. The class definitiion should give us clues as to how it should be used. "
   ]
  },
  {
   "cell_type": "code",
   "execution_count": 6,
   "metadata": {
    "scrolled": true
   },
   "outputs": [
    {
     "name": "stdout",
     "output_type": "stream",
     "text": [
      "(1, 2)\n",
      "(3, 4)\n"
     ]
    }
   ],
   "source": [
    "class SimpleClass:\n",
    "    pass\n",
    "\n",
    "x = SimpleClass()\n",
    "x.a = 1\n",
    "x.b = 2\n",
    "y = SimpleClass()\n",
    "y.c = 3\n",
    "y.d = 4\n",
    "print((x.a, x.b))\n",
    "print((y.c, y.d))"
   ]
  },
  {
   "cell_type": "markdown",
   "metadata": {},
   "source": [
    "## Inheritance\n",
    "\n",
    "It is possible to define a class that extends another class. This is another hallmark of object oriented programming. "
   ]
  },
  {
   "cell_type": "code",
   "execution_count": 7,
   "metadata": {},
   "outputs": [
    {
     "name": "stdout",
     "output_type": "stream",
     "text": [
      "parent attribute:  1\n",
      "child attribute:  2\n",
      "parent method\n",
      "child method\n",
      "child m\n"
     ]
    }
   ],
   "source": [
    "class Parent:\n",
    "    def __init__(self):\n",
    "        self.p = 1\n",
    "    def parent_method(self):\n",
    "        print(\"parent method\")  \n",
    "    def m(self):\n",
    "        print(\"parent m\")          \n",
    "class Child(Parent):\n",
    "    def __init__(self):\n",
    "        Parent.__init__(self)\n",
    "        self.c = 2\n",
    "    def child_method(self):\n",
    "        print(\"child method\")        \n",
    "    def m(self):\n",
    "        print(\"child m\")          \n",
    "        \n",
    "x = Child();\n",
    "print(\"parent attribute: \" , x.p)\n",
    "print(\"child attribute: \" , x.c)\n",
    "x.parent_method()\n",
    "x.child_method()\n",
    "x.m()"
   ]
  },
  {
   "cell_type": "markdown",
   "metadata": {},
   "source": [
    "Note that in the initialization method of the child class, we need to explicitly call the initialization method of the parent class. Otherwise, when an instance of `Child` is created, the `self.p` will never be assigned. Only `__init__` in the child class is invoked (the `__init__` method of the parent is not automatically invoked). \n",
    "\n",
    "When `x.parent_method()` is invoked, Python first searches for a definition in the child class. Not finding one, it searches its parent class. The entire class hierarchy will be searched until a definition is found. If no definition is found, an error will be raised. \n",
    "\n",
    "The same process is used when `x.m()` is invoked. However, in this case a definition is found in the child class, and so it is that definition that is invoked. "
   ]
  },
  {
   "cell_type": "markdown",
   "metadata": {},
   "source": [
    "### Mulitple Inheritance\n",
    "\n",
    "Unlike some object oriented programming languages, Python supports **multiple inheritance**"
   ]
  },
  {
   "cell_type": "code",
   "execution_count": 8,
   "metadata": {},
   "outputs": [
    {
     "name": "stdout",
     "output_type": "stream",
     "text": [
      "Child initialzing\n",
      "Parent 1 initialzing\n",
      "GrandParent initialzing\n",
      "Parent 2 initialzing\n",
      "GrandParent initialzing\n",
      "grandparent attribute:  1\n",
      "parent1 attribute:  1\n",
      "parent2 attribute:  1\n",
      "grandparent method\n",
      "parent1 method\n",
      "parent2 method\n",
      "child method\n",
      "parent2 m\n"
     ]
    }
   ],
   "source": [
    "class GrandParent:\n",
    "    def __init__(self):\n",
    "        print(\"GrandParent initialzing\")\n",
    "        self.p0 = 1\n",
    "    def grandparent_method(self):\n",
    "        print(\"grandparent method\")  \n",
    "    def m(self):\n",
    "        print(\"grandparent m\")          \n",
    "class Parent1(GrandParent):\n",
    "    def __init__(self):\n",
    "        print(\"Parent 1 initialzing\")\n",
    "        GrandParent.__init__(self)\n",
    "        self.p1 = 1\n",
    "    def parent1_method(self):\n",
    "        print(\"parent1 method\")  \n",
    "class Parent2(GrandParent):\n",
    "    def __init__(self):\n",
    "        print(\"Parent 2 initialzing\")\n",
    "        GrandParent.__init__(self)\n",
    "        self.p2 = 1\n",
    "    def parent2_method(self):\n",
    "        print(\"parent2 method\")  \n",
    "    def m(self):\n",
    "        print(\"parent2 m\")          \n",
    "class Child(Parent1, Parent2):\n",
    "    def __init__(self):\n",
    "        print(\"Child initialzing\")\n",
    "        Parent1.__init__(self)\n",
    "        Parent2.__init__(self)\n",
    "        self.c = 2\n",
    "    def child_method(self):\n",
    "        print(\"child method\")        \n",
    "        \n",
    "x = Child();\n",
    "print(\"grandparent attribute: \" , x.p0)\n",
    "print(\"parent1 attribute: \" , x.p1)\n",
    "print(\"parent2 attribute: \" , x.p2)\n",
    "x.grandparent_method()\n",
    "x.parent1_method()\n",
    "x.parent2_method()\n",
    "x.child_method()\n",
    "x.m()"
   ]
  },
  {
   "cell_type": "markdown",
   "metadata": {},
   "source": [
    "Here, when initializing the child, we invoke the initialization methods of both parents, which in turn both invoke the initialization methods of the grandparent. \n",
    "\n",
    "*Question: would there be distinct instances of the grandparent class (one for each parent)?*\n",
    "\n",
    "When we invoke `x.m()`, the method is found. Note, however, that the the class hierarchy is searched in a particular order. Specifically, Python will search `Parent1` and its all of its ancestors first, and only then search `Parent2`."
   ]
  },
  {
   "cell_type": "markdown",
   "metadata": {},
   "source": [
    "## Private Variables\n",
    "\n",
    "Unlike some other object oriented languages, it is not possible in Python to make variables *private* in the sense that they can only be accessed from within the class they are defined.  This is one significant way in which Python breaks from other languages. \n",
    "\n",
    "Python does, however, have what is called *name mangling*.  If you wish a variable to be accessed only from within the class defining it, the variable name is written with at least 2 leading underscores and no more than 1 trailing underscore, as in `__private_var_`. When the variable is read into the system, the name of the class is automatically prepended to the variable name. In this way, `__private_var_` becomes `_MyClass__private_var_`, for instance, where `MyClass` is the class name. \n",
    "\n",
    "Those knowing the convention for name mangling can still access the variable (via  `_MyClass__private_var_` in this case), and so the variable is not *really* private. However, it does prevent the variable of a super class being overwritten by that of a subclass. This can be useful, as indicated in the below example, taken from the Python Tutorial."
   ]
  },
  {
   "cell_type": "code",
   "execution_count": 9,
   "metadata": {},
   "outputs": [],
   "source": [
    "class Mapping:\n",
    "    def __init__(self, iterable):\n",
    "        self.items_list = []\n",
    "        self.__update(iterable)\n",
    "\n",
    "    def update(self, iterable):\n",
    "        for item in iterable:\n",
    "            self.items_list.append(item)\n",
    "\n",
    "    __update = update   # private copy of original update() method\n",
    "\n",
    "class MappingSubclass(Mapping):\n",
    "\n",
    "    def update(self, keys, values):\n",
    "        # provides new signature for update()\n",
    "        # but does not break __init__()\n",
    "        for item in zip(keys, values):\n",
    "            self.items_list.append(item)"
   ]
  }
 ],
 "metadata": {
  "kernelspec": {
   "display_name": "Python 3",
   "language": "python",
   "name": "python3"
  },
  "language_info": {
   "codemirror_mode": {
    "name": "ipython",
    "version": 3
   },
   "file_extension": ".py",
   "mimetype": "text/x-python",
   "name": "python",
   "nbconvert_exporter": "python",
   "pygments_lexer": "ipython3",
   "version": "3.7.6"
  }
 },
 "nbformat": 4,
 "nbformat_minor": 2
}
