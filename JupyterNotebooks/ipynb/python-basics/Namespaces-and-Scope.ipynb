{
 "cells": [
  {
   "cell_type": "code",
   "execution_count": 1,
   "metadata": {},
   "outputs": [
    {
     "data": {
      "application/javascript": [
       "$.getScript('https://kmahelona.github.io/ipython_notebook_goodies/ipython_notebook_toc.js')\n"
      ],
      "text/plain": [
       "<IPython.core.display.Javascript object>"
      ]
     },
     "metadata": {},
     "output_type": "display_data"
    }
   ],
   "source": [
    "%%javascript\n",
    "$.getScript('https://kmahelona.github.io/ipython_notebook_goodies/ipython_notebook_toc.js')"
   ]
  },
  {
   "cell_type": "markdown",
   "metadata": {},
   "source": [
    "# Namespaces and Scope\n",
    "\n",
    "<h2 id=\"tocheading\">Table of Contents</h2>\n",
    "<div id=\"toc\"></div>"
   ]
  },
  {
   "cell_type": "markdown",
   "metadata": {},
   "source": [
    "<a id='namespaces'></a>\n",
    "## Namespaces\n",
    "\n",
    "When we define a function, the the variables used as arguments to the function (the so-called *formal parameters*) and variables that are defined within the body of the function are all local to that function. Each time the function is invoked, a new **namespace** with associated **symbol table** is created. It is local to that function invocation and maps variable names to values. The same indentifier might be written elsewhere in the program (e.g., in another function definition), but the two occurrences are completely separate. They denote separate variables, for instance, and so changing the value of one does not affect the other. \n",
    "\n",
    "Note that functions are defined within a larger program context, and so namespaces can be nested. When a variable is referenced in the body of a function,  the local symbol table is first examined. If the the variable name is not found, then the enclosing namespace is examined. This is repeated until the **global namespace** is reached. \n",
    "\n",
    "In contrast, if an assignment to a variable appears in the function body, the variable is inferred to be local. This can potentially cause confusion, as exemplified in `f3` below."
   ]
  },
  {
   "cell_type": "code",
   "execution_count": 1,
   "metadata": {},
   "outputs": [
    {
     "name": "stdout",
     "output_type": "stream",
     "text": [
      "f1 a:  2\n",
      "f2 a:  1\n",
      "non-function a:  1\n",
      "f1 a:  2\n",
      "f2 a:  10\n",
      "non-function a:  10\n"
     ]
    }
   ],
   "source": [
    "a = \"1\"\n",
    "\n",
    "def f1():\n",
    "    a = \"2\"\n",
    "    print(\"f1 a: \", a)\n",
    "\n",
    "def f2():\n",
    "    print(\"f2 a: \", a)\n",
    "    \n",
    "f1()\n",
    "f2()\n",
    "print(\"non-function a: \",a)\n",
    "\n",
    "a = \"10\"\n",
    "\n",
    "f1()\n",
    "f2()\n",
    "print(\"non-function a: \", a)"
   ]
  },
  {
   "cell_type": "code",
   "execution_count": 2,
   "metadata": {},
   "outputs": [],
   "source": [
    "# Why is this problematic?\n",
    "def f3():\n",
    "    print(\"first f3 a: \" + a) \n",
    "    a = \"3\"\n",
    "    print(\"second f3 a: \" + a)\n",
    "    \n",
    "# f3()"
   ]
  },
  {
   "cell_type": "markdown",
   "metadata": {},
   "source": [
    "In the above definition of `f3`, an assignment for `a` appears within the function body, and so the variable is inferred to be local. However, it is actually referenced in the print line before the assignment occurs. This will raise an exception, as would attempting to use a variable before it is assigned.  "
   ]
  },
  {
   "cell_type": "markdown",
   "metadata": {},
   "source": [
    "## Examples of namespaces\n",
    "\n",
    "Several namespaces are predefined. \n",
    "\n",
    "*  `builtins`: for builtin Python functions, created at start-up of the interpreter. \n",
    "*  `__main__`: the top-level namespace for the interpreter. \n",
    "*  global namespace for each module: created when the module is first read in. \n",
    "*  function invocation namespaces: created when the function is invoked and deleted upon exit.  \n"
   ]
  },
  {
   "cell_type": "markdown",
   "metadata": {},
   "source": [
    "<a id='scope'></a>\n",
    "## Scope\n",
    "\n",
    "**Scope** refers to the textual area of a program where a variable can be directly accessed. Using  the keywords `global` or `nonlocal`, it's possible to access variables existing in a different scope. \n",
    "\n",
    "Below is a slightly modified example taken from the [Python Tutorial](https://docs.python.org/3/tutorial/classes.html#scopes-and-namespaces-example)"
   ]
  },
  {
   "cell_type": "code",
   "execution_count": 3,
   "metadata": {},
   "outputs": [
    {
     "name": "stdout",
     "output_type": "stream",
     "text": [
      "After local assignment: scope_test spam\n",
      "After nonlocal assignment: scope_test spam modified\n",
      "After global assignment: scope_test spam modified\n",
      "In global scope: global spam modified\n"
     ]
    }
   ],
   "source": [
    "# Level 1\n",
    "spam = \"global spam\" # global space\n",
    "\n",
    "def scope_test():\n",
    "    \n",
    "    # Level 2\n",
    "    spam = \"scope_test spam\" # local to scope_test\n",
    "  \n",
    "    def do_local():\n",
    "        # Level 3\n",
    "        spam = \"do_local spam\" # local to do_local\n",
    "\n",
    "    def do_nonlocal():\n",
    "        nonlocal spam  # spam refers to enclosing scope (scope_test)\n",
    "        spam = \"scope_test spam modified\"\n",
    "\n",
    "    def do_global():\n",
    "        global spam # spam refers to global scope\n",
    "        spam = \"global spam modified\"\n",
    "\n",
    "    do_local()\n",
    "    print(\"After local assignment:\", spam)\n",
    "    do_nonlocal()\n",
    "    print(\"After nonlocal assignment:\", spam)\n",
    "    do_global()\n",
    "    print(\"After global assignment:\", spam)\n",
    "\n",
    "scope_test()\n",
    "print(\"In global scope:\", spam)"
   ]
  },
  {
   "cell_type": "markdown",
   "metadata": {},
   "source": [
    "Above, the call to `do_local()` changes the value of `spam` local to that function (denoted here, *Level 3*). The call to `do_nonlocal()`, however, changes that value at *Level 2*. And the call to `do_global()` changes it at the outermost level (*Level 1*). \n",
    "\n",
    "`global` allows one to change the values of variables not defined in any function, while `nonlocal` permits one to change values of variables in the enclosing context. "
   ]
  }
 ],
 "metadata": {
  "kernelspec": {
   "display_name": "Python 3",
   "language": "python",
   "name": "python3"
  },
  "language_info": {
   "codemirror_mode": {
    "name": "ipython",
    "version": 3
   },
   "file_extension": ".py",
   "mimetype": "text/x-python",
   "name": "python",
   "nbconvert_exporter": "python",
   "pygments_lexer": "ipython3",
   "version": "3.7.6"
  }
 },
 "nbformat": 4,
 "nbformat_minor": 2
}
