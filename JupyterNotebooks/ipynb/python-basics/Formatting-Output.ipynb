{
 "cells": [
  {
   "cell_type": "code",
   "execution_count": 1,
   "metadata": {},
   "outputs": [],
   "source": [
    "%%javascript\n",
    "$.getScript('https://kmahelona.github.io/ipython_notebook_goodies/ipython_notebook_toc.js')"
   ]
  },
  {
   "cell_type": "markdown",
   "metadata": {},
   "source": [
    "# Formatting Output\n",
    "\n",
    "\n",
    "<h2 id=\"tocheading\">Table of Contents</h2>\n",
    "<div id=\"toc\"></div>\n",
    "\n",
    "## Formatting Methods\n",
    "\n",
    "There are various ways of formatting strings to suit a given need. One way is to invoke one of the builtin string methods on the string itself.  A subset of the defined methods is given below (taken from https://docs.python.org/3/library/stdtypes.html#text-sequence-type-str).\n",
    "\n",
    "| **Method** | **Description** |\n",
    "|---|----|\n",
    "| `capitalize()` | Return a copy of the string with its first character capitalized and the rest lowercased. |\n",
    "| `center(width[, fillchar])` | Return centered in a string of length width. Padding is done using the specified fillchar (default is an ASCII space). The original string is returned if width is less than or equal to len(s).\n",
    "| `str.expandtabs(tabsize=8)`  | Return a copy of the string where all tab characters are replaced by one or more spaces |\n",
    "| `str.ljust(width[, fillchar])` |Return the string left justified in a string of length width. Padding is done using the specified fillchar (default is an ASCII space). The original string is returned if width is less than or equal to len(s).|\n",
    "| `str.lower()` | Return a copy of the string with all the cased characters converted to lowercase. |\n",
    "| `str.rjust(width[, fillchar])` | Return the string right justified in a string of length width.|\n",
    "| `str.rstrip([chars])` | Return a copy of the string with trailing characters removed. The chars argument is a string specifying the set of characters to be removed. If omitted or None, the chars argument defaults to removing whitespace. |\n",
    "| `str.strip([chars])` | Return a copy of the string with the leading and trailing characters removed. The chars argument is a string specifying the set of characters to be removed. If omitted or None, the chars argument defaults to removing whitespace. |\n",
    "| `str.swapcase()` | Return a copy of the string with uppercase characters converted to lowercase and vice versa.\n",
    "| `str.title()` |  Return a titlecased version of the string where words start with an uppercase character and the remaining characters are lowercase. |\n",
    "| `str.upper()` | Return a copy of the string with all the cased characters converted to uppercase. |\n",
    "| `str.zfill(width)` | Return a copy of the string left filled with ASCII `0` digits to make a string of length width. A leading sign prefix (`+`/`-`) is handled by inserting the padding after the sign character rather than before. The original string is returned if width is less than or equal to `len(s)`.|\n"
   ]
  },
  {
   "cell_type": "code",
   "execution_count": 1,
   "metadata": {},
   "outputs": [
    {
     "name": "stdout",
     "output_type": "stream",
     "text": [
      "HELLO WORLD\n",
      "hello world\n",
      "Left:   <Hello World         >\n",
      "Right:  <         Hello World>\n",
      "Center: <    Hello World     >\n",
      "Filled: <----Hello World----->\n",
      "hi there!\n",
      "original length:  50\n",
      "stripped length:  9\n"
     ]
    }
   ],
   "source": [
    "text = \"Hello World\"\n",
    "print(text.upper())\n",
    "print(text.lower())\n",
    "print('Left:   <' + text.ljust(20) + '>')\n",
    "print('Right:  <' + text.rjust(20) + '>')\n",
    "print('Center: <' + text.center(20) + '>')\n",
    "print('Filled: <' + text.center(20, \"-\") + '>')\n",
    "text2 = \"                             hi there!            \";\n",
    "print(text2.strip())\n",
    "print(\"original length: \", len(text2))\n",
    "print(\"stripped length: \", len(text2.strip()))"
   ]
  },
  {
   "cell_type": "markdown",
   "metadata": {},
   "source": [
    "Recall that we can also specify the end of a line in a print() statement"
   ]
  },
  {
   "cell_type": "code",
   "execution_count": 2,
   "metadata": {},
   "outputs": [
    {
     "name": "stdout",
     "output_type": "stream",
     "text": [
      "one fish\n",
      "two fish\n",
      "three fish\n",
      "four fish\n",
      "five fish\n",
      "hello--world\n"
     ]
    }
   ],
   "source": [
    "text = \"one two three four five\"\n",
    "list = text.split()\n",
    "for word in list: \n",
    "    print(word, end=\" fish\\n\")\n",
    "    \n",
    "print(\"hello\", \"world\", sep=\"--\")"
   ]
  },
  {
   "cell_type": "markdown",
   "metadata": {},
   "source": [
    "## `str.format()`\n",
    "\n",
    "The `str.format()` method allows a way of inserting multiple formatted elements into a string template.  The points of insertion are identified using brackets `{...}`. \n",
    "\n",
    "At it's simplest, the brackets contain nothing, and arguments are inserted in the order they appear. However, it is possible indicate the position using integers.  \n",
    "\n",
    "## Positional arguments"
   ]
  },
  {
   "cell_type": "code",
   "execution_count": 3,
   "metadata": {},
   "outputs": [
    {
     "name": "stdout",
     "output_type": "stream",
     "text": [
      "First Name = John; Last Name = Brown.\n",
      "Last Name = Brown; First Name = John.\n"
     ]
    }
   ],
   "source": [
    "print(\"First Name = {}; Last Name = {}.\".format(\"John\", \"Brown\"))\n",
    "print(\"Last Name = {1}; First Name = {0}.\".format(\"John\", \"Brown\"))"
   ]
  },
  {
   "cell_type": "markdown",
   "metadata": {},
   "source": [
    "## Key-value pairs\n",
    "Key-value pairs can be used to indicate arguments by name. "
   ]
  },
  {
   "cell_type": "code",
   "execution_count": 4,
   "metadata": {},
   "outputs": [
    {
     "name": "stdout",
     "output_type": "stream",
     "text": [
      "Last Name = Doe; First Name = Jane.\n"
     ]
    }
   ],
   "source": [
    "print(\"Last Name = {lname}; First Name = {fname}.\".format(lname=\"Doe\", fname=\"Jane\"))"
   ]
  },
  {
   "cell_type": "markdown",
   "metadata": {},
   "source": [
    "## Dictionaries\n",
    "\n",
    "Dictionaries can also be used directly. "
   ]
  },
  {
   "cell_type": "code",
   "execution_count": 5,
   "metadata": {},
   "outputs": [
    {
     "name": "stdout",
     "output_type": "stream",
     "text": [
      "Last Name = Doe; First Name = Jane.\n"
     ]
    }
   ],
   "source": [
    "dict = {\"lname\":\"Doe\", \"fname\":\"Jane\"}\n",
    "print(\"Last Name = {0[lname]}; First Name = {0[fname]}.\".format(dict))"
   ]
  },
  {
   "cell_type": "markdown",
   "metadata": {},
   "source": [
    "## Padding \n",
    "\n",
    "A colon `:` followed by a formatting expression can be used to specify a total width"
   ]
  },
  {
   "cell_type": "code",
   "execution_count": 6,
   "metadata": {},
   "outputs": [
    {
     "name": "stdout",
     "output_type": "stream",
     "text": [
      "<      1000><                 100>\n"
     ]
    }
   ],
   "source": [
    "print(\"<{second:10}><{first:20}>\".format(first=100, second=1000)) # pad the string to the width specified."
   ]
  },
  {
   "cell_type": "markdown",
   "metadata": {},
   "source": [
    "## Formatting Numbers"
   ]
  },
  {
   "cell_type": "code",
   "execution_count": 7,
   "metadata": {},
   "outputs": [
    {
     "name": "stdout",
     "output_type": "stream",
     "text": [
      "0.12346\n"
     ]
    }
   ],
   "source": [
    "print(\"{0:.5f}\".format(0.123456789)) # round to 5 decimal places"
   ]
  },
  {
   "cell_type": "markdown",
   "metadata": {},
   "source": [
    "## f - Strings\n",
    "\n",
    "Perhaps the most convenient way of formatting strings is to use f-strings, which allow variable names to be inserted directly. "
   ]
  },
  {
   "cell_type": "code",
   "execution_count": 8,
   "metadata": {},
   "outputs": [
    {
     "name": "stdout",
     "output_type": "stream",
     "text": [
      "Here is x: 1.00. Here is y: one\n"
     ]
    }
   ],
   "source": [
    "x = 1\n",
    "y = \"one\"\n",
    "print(f'Here is x: {x:.2f}. Here is y: {y}')\n"
   ]
  }
 ],
 "metadata": {
  "kernelspec": {
   "display_name": "Python 3",
   "language": "python",
   "name": "python3"
  },
  "language_info": {
   "codemirror_mode": {
    "name": "ipython",
    "version": 3
   },
   "file_extension": ".py",
   "mimetype": "text/x-python",
   "name": "python",
   "nbconvert_exporter": "python",
   "pygments_lexer": "ipython3",
   "version": "3.7.6"
  }
 },
 "nbformat": 4,
 "nbformat_minor": 2
}
