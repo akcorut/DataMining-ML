{
 "cells": [
  {
   "cell_type": "code",
   "execution_count": 1,
   "metadata": {},
   "outputs": [
    {
     "data": {
      "application/javascript": [
       "$.getScript('https://kmahelona.github.io/ipython_notebook_goodies/ipython_notebook_toc.js')\n"
      ],
      "text/plain": [
       "<IPython.core.display.Javascript object>"
      ]
     },
     "metadata": {},
     "output_type": "display_data"
    }
   ],
   "source": [
    "%%javascript\n",
    "$.getScript('https://kmahelona.github.io/ipython_notebook_goodies/ipython_notebook_toc.js')"
   ]
  },
  {
   "cell_type": "markdown",
   "metadata": {},
   "source": [
    "# Controlling the Flow of Program Execution\n",
    "\n",
    "As in most programing languages, Python allows program execution to branch when certain conditions are met, and it also allows arbitrary execution loops. Without such features, Python would not be very useful (or Turing complete). \n",
    "\n",
    "<h2 id=\"tocheading\">Table of Contents</h2>\n",
    "<div id=\"toc\"></div>"
   ]
  },
  {
   "cell_type": "markdown",
   "metadata": {},
   "source": [
    "## If Statements\n",
    "\n",
    "In Python, *if-then-else* statements are specified using the keywords `if`, `elif` (else if), and `else` (else).  The general form is given below: \n",
    "\n",
    "    if condition1:\n",
    "        do_something\n",
    "    elif condition2:\n",
    "        do_something_else\n",
    "    ...\n",
    "    elif condition_n:\n",
    "        do_something_else\n",
    "    else:\n",
    "        if_all_else_fails_do_this\n",
    "\n",
    "The `elif` and  `else` clauses are optional. There can be many `elif` clauses, but there can be only 1 `else` clause in the `if`-`elif`-`else` sequence."
   ]
  },
  {
   "cell_type": "code",
   "execution_count": 1,
   "metadata": {},
   "outputs": [
    {
     "name": "stdout",
     "output_type": "stream",
     "text": [
      "value 3 is less than 5\n",
      "value 5 is in range [5,7)\n",
      "value 8 is in range [7,10)\n",
      "value 13 is greater than 10\n"
     ]
    }
   ],
   "source": [
    "def number_test(x):\n",
    "    if x > 10:\n",
    "        print(\"value \" + str(x) + \" is greater than 10\")\n",
    "    elif x >= 7 and x < 10:\n",
    "        print(\"value \" + str(x) + \" is in range [7,10)\")\n",
    "    elif x >= 5 and x < 7:\n",
    "        print(\"value \" + str(x) + \" is in range [5,7)\")\n",
    "    else:\n",
    "        print(\"value \" + str(x) + \" is less than 5\")\n",
    "\n",
    "number_test(3)\n",
    "number_test(5)\n",
    "number_test(8)\n",
    "number_test(13)"
   ]
  },
  {
   "cell_type": "markdown",
   "metadata": {},
   "source": [
    "## While Loops\n",
    "\n",
    "Python provides both `while` loops and `for` loops. The former are arguably lower-level but not as natural-looking to a human eye. \n",
    "\n",
    "Below is a simple `while` loop. So long as the condition specified evaluates to a value comparable to `True`, the code in the body of the loop will be executed. As such, without the statement incrementing `i`, the loop would never halt. "
   ]
  },
  {
   "cell_type": "code",
   "execution_count": 2,
   "metadata": {},
   "outputs": [
    {
     "name": "stdout",
     "output_type": "stream",
     "text": [
      "h\n",
      "e\n",
      "l\n",
      "l\n",
      "o\n",
      " \n",
      "w\n",
      "o\n",
      "r\n",
      "l\n",
      "d\n"
     ]
    }
   ],
   "source": [
    "string = \"hello world\"\n",
    "length = len(string)\n",
    "i = 0 \n",
    "while i < length:\n",
    "    print(string[i])\n",
    "    i = i + 1 "
   ]
  },
  {
   "cell_type": "markdown",
   "metadata": {},
   "source": [
    "Loops, including `while` loops, can contain `break` statements (which aborts execution of the loop) and `continue` statements (which tell the loop to proceed to the next cycle)."
   ]
  },
  {
   "cell_type": "code",
   "execution_count": 3,
   "metadata": {},
   "outputs": [
    {
     "name": "stdout",
     "output_type": "stream",
     "text": [
      "found 'r' in 'hello world!'\n",
      "could not find 'z' in 'hello world!'\n",
      "occurrences of 'l': 1\n"
     ]
    }
   ],
   "source": [
    "\n",
    "def member(string, element):\n",
    "    length = len(string)\n",
    "    i = 0 \n",
    "    while i < length:\n",
    "        if(string[i] == element):\n",
    "            break\n",
    "        i = i + 1\n",
    "    if(i != length):\n",
    "        print(\"found '\" + element + \"' in '\" + string + \"'\")\n",
    "        return True\n",
    "    else:\n",
    "        print(\"could not find '\" + element + \"' in '\" + string + \"'\")\n",
    "        return False \n",
    "\n",
    "def count(string, element):\n",
    "    length = len(string)\n",
    "    i = 0 \n",
    "    counter = 0; \n",
    "    while i < length:\n",
    "        if(string[i] != element):\n",
    "            i = i + 1\n",
    "            continue\n",
    "        counter = counter + 1\n",
    "        i = i + 1\n",
    "    return counter \n",
    "    \n",
    "member(\"hello world!\", \"r\")\n",
    "member(\"hello world!\", \"z\")\n",
    "print(\"occurrences of 'l': \" + str(count(\"hello world!\", \"!\")))"
   ]
  },
  {
   "cell_type": "markdown",
   "metadata": {},
   "source": [
    "Below we sort a string, identifying its unique members. Then we use a `while` loop together with the previously defined `count` function to count the occurrences of each character. "
   ]
  },
  {
   "cell_type": "code",
   "execution_count": 4,
   "metadata": {},
   "outputs": [
    {
     "name": "stdout",
     "output_type": "stream",
     "text": [
      "[(' ', 1), ('d', 1), ('e', 1), ('h', 1), ('l', 3), ('o', 2), ('r', 1), ('w', 1)]\n"
     ]
    }
   ],
   "source": [
    "def unique_characters(raw_string):\n",
    "    # instead of set(raw_string), we'll create the set iteratively\n",
    "    # returning its characters as a sorted list\n",
    "    result = set(); \n",
    "    i = 0\n",
    "    while i < length:\n",
    "        result.add(raw_string[i])\n",
    "        i = i + 1\n",
    "    return sorted(list(result))\n",
    "    \n",
    "def character_count(raw_string):\n",
    "    sorted_string = unique_characters(raw_string)\n",
    "    length = len(sorted_string)\n",
    "    i = 0\n",
    "    result = []; \n",
    "    while i < length:\n",
    "        result.append((sorted_string[i], count(raw_string, sorted_string[i])))\n",
    "        i = i + 1\n",
    "    return result\n",
    "\n",
    "print(character_count(\"hello world\"))"
   ]
  },
  {
   "cell_type": "markdown",
   "metadata": {},
   "source": [
    "It turns out that as far as loops and evaluating the truth of conditional statements are concerned, a great many values and not just `True` and `False` will suffice. E.g., nonzero numbers, or nonempty strings or lists will be taken as `True`, and 0 and empty lists, etc., will be taken as `False`. "
   ]
  },
  {
   "cell_type": "code",
   "execution_count": 5,
   "metadata": {},
   "outputs": [
    {
     "name": "stdout",
     "output_type": "stream",
     "text": [
      "True :aaaa\n",
      "1 :bbbb\n",
      "[6] :cccc\n",
      "hello :cccc\n",
      "world :cccc\n",
      "False :\n",
      "0 :\n",
      "[] :\n",
      "{} :\n",
      " :\n"
     ]
    }
   ],
   "source": [
    "def cond_test(x,s):\n",
    "    count = 0\n",
    "    print(x,\":\",end=\"\")\n",
    "    while x:\n",
    "        print(s,end=\"\")\n",
    "        count = count + 1\n",
    "        if count > 3:\n",
    "            break\n",
    "    print(\"\")\n",
    "\n",
    "cond_test(True,\"a\")\n",
    "cond_test(1,\"b\")\n",
    "cond_test([6],\"c\")\n",
    "cond_test((\"hello\"),\"c\")\n",
    "cond_test(\"world\",\"c\")\n",
    "cond_test(False,\"a\")\n",
    "cond_test(0,\"a\")\n",
    "cond_test([],\"a\")\n",
    "cond_test({},\"a\")\n",
    "cond_test(\"\",\"a\")"
   ]
  },
  {
   "cell_type": "markdown",
   "metadata": {},
   "source": [
    "## For Loops and the Range function\n",
    "\n",
    "In Python, `for` statements iterate over sequences and utilize the `in` keyword. Like `while` loops, `for` loops can contain `break` and `continue`. They can also contain `else` statements; these are executed when the loop ends via something other than `break`)."
   ]
  },
  {
   "cell_type": "code",
   "execution_count": 6,
   "metadata": {},
   "outputs": [
    {
     "name": "stdout",
     "output_type": "stream",
     "text": [
      "h , 1\n",
      "e , 1\n",
      "l , 3\n",
      "d , 1\n",
      "w , 1\n",
      "r , 1\n",
      "  , 1\n",
      "o , 2\n"
     ]
    }
   ],
   "source": [
    "raw_string = \"hello world\"\n",
    "characters = set(raw_string)\n",
    "for w in characters:\n",
    "    print(w, ',', raw_string.count(w))"
   ]
  },
  {
   "cell_type": "markdown",
   "metadata": {},
   "source": [
    "The `range()` function can be used to generate a sequence of numbers, which can then be used in a loop. "
   ]
  },
  {
   "cell_type": "code",
   "execution_count": 7,
   "metadata": {},
   "outputs": [
    {
     "name": "stdout",
     "output_type": "stream",
     "text": [
      "0 0\n",
      "1 1\n",
      "2 4\n",
      "3 9\n",
      "4 16\n",
      "5 25\n",
      "6 36\n",
      "7 49\n",
      "8 64\n",
      "9 81\n",
      "10 100\n"
     ]
    }
   ],
   "source": [
    "x = range(11)\n",
    "for i in x:\n",
    "    print(i, i*i)"
   ]
  },
  {
   "cell_type": "markdown",
   "metadata": {},
   "source": [
    "Minimum and maximum (exlcusive) values can also be specified, as can an integer step-size."
   ]
  },
  {
   "cell_type": "code",
   "execution_count": 8,
   "metadata": {},
   "outputs": [
    {
     "name": "stdout",
     "output_type": "stream",
     "text": [
      "20\n",
      "22\n",
      "24\n",
      "26\n",
      "28\n",
      "30\n"
     ]
    }
   ],
   "source": [
    "x = range(20,31,2)\n",
    "for i in x:\n",
    "    print(i)"
   ]
  }
 ],
 "metadata": {
  "kernelspec": {
   "display_name": "Python 3",
   "language": "python",
   "name": "python3"
  },
  "language_info": {
   "codemirror_mode": {
    "name": "ipython",
    "version": 3
   },
   "file_extension": ".py",
   "mimetype": "text/x-python",
   "name": "python",
   "nbconvert_exporter": "python",
   "pygments_lexer": "ipython3",
   "version": "3.7.6"
  }
 },
 "nbformat": 4,
 "nbformat_minor": 2
}
