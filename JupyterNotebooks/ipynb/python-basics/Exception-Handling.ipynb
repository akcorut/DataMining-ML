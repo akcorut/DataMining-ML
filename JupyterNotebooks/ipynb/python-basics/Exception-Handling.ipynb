{
 "cells": [
  {
   "cell_type": "code",
   "execution_count": 1,
   "metadata": {},
   "outputs": [
    {
     "data": {
      "application/javascript": [
       "$.getScript('https://kmahelona.github.io/ipython_notebook_goodies/ipython_notebook_toc.js')\n"
      ],
      "text/plain": [
       "<IPython.core.display.Javascript object>"
      ]
     },
     "metadata": {},
     "output_type": "display_data"
    }
   ],
   "source": [
    "%%javascript\n",
    "$.getScript('https://kmahelona.github.io/ipython_notebook_goodies/ipython_notebook_toc.js')"
   ]
  },
  {
   "cell_type": "markdown",
   "metadata": {},
   "source": [
    "# Exception Handling\n",
    "\n",
    "When an error occurs during the running of a program, an *Exception* object will be genererated and the normal execution of the program is halted. It is possible, however, to handle an exception using a `try`...`except` block so that the exception does not halt the program. \n",
    "\n",
    "<h2 id=\"tocheading\">Table of Contents</h2>\n",
    "<div id=\"toc\"></div>"
   ]
  },
  {
   "cell_type": "markdown",
   "metadata": {},
   "source": [
    "## `try`...`except`\n",
    "\n",
    "A  `try`...`except` block consists of two clauses, a `try` clause followed by a `except` clause. The basic idea is that code potentially causing problems is written within the `try` clause. If it executes successfuly, then the program proceeds normally, skipping whatever appears in the `except` clause. \n",
    "\n",
    "If, in contrast, an exception is generated, the remainder of the `try` clause is skipped, and the `except` clause is executed. It's possible to have multiple `except` clauses, each one handling an exception of a particular type (only one clause will be executed, however). \n",
    "\n",
    "`try`...`except` blocks can be nested. If the type of exception generated is not compatible with the `except` clause as written, then the exception is sent up to an outer try block, if there is one. "
   ]
  },
  {
   "cell_type": "code",
   "execution_count": 1,
   "metadata": {},
   "outputs": [
    {
     "name": "stdout",
     "output_type": "stream",
     "text": [
      "\n",
      "Example 1: Division by 0!\n",
      "\n",
      "Example 2: problem concatenating x and y\n",
      "\n",
      "Example 3: some sort of problem encountered\n",
      "\n",
      "Example 4: Division by 0!\n",
      "\n",
      "Example 5: Some sort of problem encountered!\n"
     ]
    }
   ],
   "source": [
    "print(\"\\nExample 1: \", end='')\n",
    "try:\n",
    "    x = 5/0\n",
    "    print(\"success!\")\n",
    "except TypeError:\n",
    "    print(\"Data type exception!\")\n",
    "except ValueError:\n",
    "    print(\"Right Type but wrong type of value!\")   \n",
    "except ZeroDivisionError:\n",
    "    print(\"Division by 0!\")\n",
    "except IndexError:\n",
    "    print(\"Some sort of indexing error!\")\n",
    "\n",
    "print(\"\\nExample 2: \", end='')\n",
    "try: \n",
    "    x = \"Hello \"\n",
    "    y = 5\n",
    "    z = x + y\n",
    "    print(\"success!\")\n",
    "except TypeError:\n",
    "    print(\"problem concatenating x and y\")\n",
    "    \n",
    "\n",
    "print(\"\\nExample 3: \", end='')\n",
    "try:\n",
    "    x = 5/0\n",
    "    print(\"success!\")\n",
    "except Exception:\n",
    "    print(\"some sort of problem encountered\")\n",
    "\n",
    "print(\"\\nExample 4: \", end='')\n",
    "try:\n",
    "    try:\n",
    "        x = 5/0\n",
    "        print(\"success!\")\n",
    "    except IndexError:\n",
    "        print(\"Some sort of indexing error!\")\n",
    "except ZeroDivisionError:\n",
    "    print(\"Division by 0!\")\n",
    "\n",
    "\n",
    "print(\"\\nExample 5: \", end='')\n",
    "try:\n",
    "    x = 5/0\n",
    "    print(\"success!\")\n",
    "except:\n",
    "    print(\"Some sort of problem encountered!\")    "
   ]
  },
  {
   "cell_type": "markdown",
   "metadata": {},
   "source": [
    "## `else` and `finally`\n",
    "\n",
    "The optional `else` clause follows all except clauses and is executed if an exception is **not** raised in the `try` clause.\n",
    "The optional `finally` is executed regardless of whether an exception is raised."
   ]
  },
  {
   "cell_type": "code",
   "execution_count": 2,
   "metadata": {},
   "outputs": [
    {
     "name": "stdout",
     "output_type": "stream",
     "text": [
      "\n",
      "Example 6\n",
      "TRY: This should not fail!\n",
      "ELSE: Things seemed to go OK.\n",
      "FINALLY: This is printed regardless.\n",
      "\n",
      "Example 7\n",
      "EXCEPT: < can only concatenate str (not \"int\") to str >\n",
      "FINALLY: This is printed regardless.\n"
     ]
    }
   ],
   "source": [
    "print(\"\\nExample 6\")\n",
    "try:\n",
    "    print(\"TRY: This should not fail!\")\n",
    "except Exception as ex:\n",
    "    print(\"EXCEPT\") \n",
    "else:\n",
    "    print(\"ELSE: Things seemed to go OK.\")\n",
    "finally:\n",
    "    print(\"FINALLY: This is printed regardless.\")    \n",
    "    \n",
    "print(\"\\nExample 7\")\n",
    "try:\n",
    "    print(\"TRY: This *should* fail! \" + 6)\n",
    "except Exception as ex:\n",
    "    print(\"EXCEPT: <\", ex, \">\") \n",
    "else:\n",
    "    print(\"ELSE: Things seemed to go OK.\")\n",
    "finally:\n",
    "    print(\"FINALLY: This is printed regardless.\")    "
   ]
  },
  {
   "cell_type": "markdown",
   "metadata": {},
   "source": [
    "## Exception arguments\n",
    "\n",
    "It is possible to bind an exception to a variable (using `as`) and invesigate its structure. "
   ]
  },
  {
   "cell_type": "code",
   "execution_count": 3,
   "metadata": {},
   "outputs": [
    {
     "name": "stdout",
     "output_type": "stream",
     "text": [
      "\n",
      "Example 8\n",
      "Some sort of problem encountered!\n",
      "can only concatenate str (not \"float\") to str\n",
      "<class 'TypeError'>\n",
      "\targument: < can only concatenate str (not \"float\") to str >\n"
     ]
    }
   ],
   "source": [
    "print(\"\\nExample 8\")\n",
    "try:\n",
    "    text = \"The value of Pi is \" + 3.14\n",
    "    print(\"success!\")\n",
    "except Exception as ex:\n",
    "    print(\"Some sort of problem encountered!\") \n",
    "    print(ex)\n",
    "    print(type(ex))\n",
    "    for a in ex.args:\n",
    "        print(\"\\targument: <\", a, \">\")"
   ]
  },
  {
   "cell_type": "markdown",
   "metadata": {},
   "source": [
    "## Raising Exceptions\n",
    "\n",
    "It's possible to generate exceptions using the `raise` keyword. \n"
   ]
  },
  {
   "cell_type": "code",
   "execution_count": 4,
   "metadata": {},
   "outputs": [
    {
     "name": "stdout",
     "output_type": "stream",
     "text": [
      "\n",
      "Example 9\n",
      "Some sort of problem encountered!\n",
      "Exception:  This is an error!\n",
      "Exception:  <class 'NameError'>\n",
      "\targument: < This is an error! >\n",
      "\n",
      "Example 10\n",
      "Some sort of problem encountered!\n",
      "Exception:  \n",
      "Exception:  <class 'Exception'>\n",
      "\n",
      "Example 11\n",
      "Some sort of problem encountered!\n",
      "Exception:  (1, 2, 3, 4)\n",
      "Exception:  <class 'Exception'>\n",
      "\targument: < 1 >\n",
      "\targument: < 2 >\n",
      "\targument: < 3 >\n",
      "\targument: < 4 >\n"
     ]
    }
   ],
   "source": [
    "print(\"\\nExample 9\")\n",
    "try:\n",
    "    raise NameError('This is an error!')\n",
    "except Exception as ex:\n",
    "    print(\"Some sort of problem encountered!\") \n",
    "    print(\"Exception: \",  ex)\n",
    "    print(\"Exception: \",  type(ex))\n",
    "    for a in ex.args:\n",
    "        print(\"\\targument: <\", a, \">\")\n",
    "\n",
    "print(\"\\nExample 10\")\n",
    "try:\n",
    "    raise Exception() # No arguments\n",
    "except Exception as ex:\n",
    "    print(\"Some sort of problem encountered!\") \n",
    "    print(\"Exception: \",  ex)\n",
    "    print(\"Exception: \",  type(ex))\n",
    "    for a in ex.args:\n",
    "        print(\"\\targument: <\", a, \">\")\n",
    "\n",
    "print(\"\\nExample 11\")\n",
    "try:\n",
    "    raise Exception(1,2,3,4) # Several arguments\n",
    "except Exception as ex:\n",
    "    print(\"Some sort of problem encountered!\") \n",
    "    print(\"Exception: \",  ex)\n",
    "    print(\"Exception: \",  type(ex))\n",
    "    for a in ex.args:\n",
    "        print(\"\\targument: <\", a, \">\")\n"
   ]
  },
  {
   "cell_type": "markdown",
   "metadata": {},
   "source": [
    "## Builtin Exceptions\n",
    "\n",
    "There is an `Exception` hierarchy. All exceptions are subclasses of `BaseException`. All built-in excpetions that do not cause Python to exit extend `Exception`, however, and all user defined exceptions should extend this as well. \n",
    "\n",
    "The hierarchy is given below (taken from https://docs.python.org/3/library/exceptions.html)\n",
    "\n",
    "<code>\n",
    "BaseException\n",
    " +-- SystemExit\n",
    " +-- KeyboardInterrupt\n",
    " +-- GeneratorExit\n",
    " +-- Exception\n",
    "      +-- StopIteration\n",
    "      +-- StopAsyncIteration\n",
    "      +-- ArithmeticError\n",
    "      |    +-- FloatingPointError\n",
    "      |    +-- OverflowError\n",
    "      |    +-- ZeroDivisionError\n",
    "      +-- AssertionError\n",
    "      +-- AttributeError\n",
    "      +-- BufferError\n",
    "      +-- EOFError\n",
    "      +-- ImportError\n",
    "      |    +-- ModuleNotFoundError\n",
    "      +-- LookupError\n",
    "      |    +-- IndexError\n",
    "      |    +-- KeyError\n",
    "      +-- MemoryError\n",
    "      +-- NameError\n",
    "      |    +-- UnboundLocalError\n",
    "      +-- OSError\n",
    "      |    +-- BlockingIOError\n",
    "      |    +-- ChildProcessError\n",
    "      |    +-- ConnectionError\n",
    "      |    |    +-- BrokenPipeError\n",
    "      |    |    +-- ConnectionAbortedError\n",
    "      |    |    +-- ConnectionRefusedError\n",
    "      |    |    +-- ConnectionResetError\n",
    "      |    +-- FileExistsError\n",
    "      |    +-- FileNotFoundError\n",
    "      |    +-- InterruptedError\n",
    "      |    +-- IsADirectoryError\n",
    "      |    +-- NotADirectoryError\n",
    "      |    +-- PermissionError\n",
    "      |    +-- ProcessLookupError\n",
    "      |    +-- TimeoutError\n",
    "      +-- ReferenceError\n",
    "      +-- RuntimeError\n",
    "      |    +-- NotImplementedError\n",
    "      |    +-- RecursionError\n",
    "      +-- SyntaxError\n",
    "      |    +-- IndentationError\n",
    "      |         +-- TabError\n",
    "      +-- SystemError\n",
    "      +-- TypeError\n",
    "      +-- ValueError\n",
    "      |    +-- UnicodeError\n",
    "      |         +-- UnicodeDecodeError\n",
    "      |         +-- UnicodeEncodeError\n",
    "      |         +-- UnicodeTranslateError\n",
    "      +-- Warning\n",
    "           +-- DeprecationWarning\n",
    "           +-- PendingDeprecationWarning\n",
    "           +-- RuntimeWarning\n",
    "           +-- SyntaxWarning\n",
    "           +-- UserWarning\n",
    "           +-- FutureWarning\n",
    "           +-- ImportWarning\n",
    "           +-- UnicodeWarning\n",
    "           +-- BytesWarning\n",
    "           +-- ResourceWarning\n",
    "</code>\n",
    "\n",
    "\n"
   ]
  }
 ],
 "metadata": {
  "kernelspec": {
   "display_name": "Python 3",
   "language": "python",
   "name": "python3"
  },
  "language_info": {
   "codemirror_mode": {
    "name": "ipython",
    "version": 3
   },
   "file_extension": ".py",
   "mimetype": "text/x-python",
   "name": "python",
   "nbconvert_exporter": "python",
   "pygments_lexer": "ipython3",
   "version": "3.7.6"
  }
 },
 "nbformat": 4,
 "nbformat_minor": 2
}
