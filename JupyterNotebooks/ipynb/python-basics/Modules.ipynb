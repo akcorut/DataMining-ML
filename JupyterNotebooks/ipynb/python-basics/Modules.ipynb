{
 "cells": [
  {
   "cell_type": "code",
   "execution_count": 1,
   "metadata": {},
   "outputs": [
    {
     "data": {
      "application/javascript": [
       "$.getScript('https://kmahelona.github.io/ipython_notebook_goodies/ipython_notebook_toc.js')\n"
      ],
      "text/plain": [
       "<IPython.core.display.Javascript object>"
      ]
     },
     "metadata": {},
     "output_type": "display_data"
    }
   ],
   "source": [
    "%%javascript\n",
    "$.getScript('https://kmahelona.github.io/ipython_notebook_goodies/ipython_notebook_toc.js')"
   ]
  },
  {
   "cell_type": "markdown",
   "metadata": {},
   "source": [
    "# Modules\n",
    "\n",
    "It is common for collections of functions, class definitions, etc., to be bundled together into a **module**. These help to organize code and also prevent conflicts from occurring when combining code from multiple sources. Code from modules can be included in your program using an **import** statement. \n",
    "\n",
    "When you store your Python program (containing function definitions for instance) in a file with a `*.py`, you automatically have created a module. The file name serves as the module name. However, in order to import the module, Python must be able to find it. \n",
    "\n",
    "<h2 id=\"tocheading\">Table of Contents</h2>\n",
    "<div id=\"toc\"></div>"
   ]
  },
  {
   "cell_type": "markdown",
   "metadata": {},
   "source": [
    "## Standard Modules\n",
    "\n",
    "Python comes with a great many predefined modules comprising the *standard library*. The module `sys` provides access to various variables used by the interpreter. It can be imported into your programs. Below, we use it to view the `sys.path` variable, which contains the list of directories Python will use when searching for a module that you want to import. "
   ]
  },
  {
   "cell_type": "code",
   "execution_count": 7,
   "metadata": {
    "scrolled": true
   },
   "outputs": [
    {
     "name": "stdout",
     "output_type": "stream",
     "text": [
      "C:\\Users\\nimda\\Documents\\ipynb - temp\\ipynb\\python-basics\n",
      "C:\\Users\\nimda\\Miniconda3\\python37.zip\n",
      "C:\\Users\\nimda\\Miniconda3\\DLLs\n",
      "C:\\Users\\nimda\\Miniconda3\\lib\n",
      "C:\\Users\\nimda\\Miniconda3\n",
      "\n",
      "C:\\Users\\nimda\\Miniconda3\\lib\\site-packages\n",
      "C:\\Users\\nimda\\Miniconda3\\lib\\site-packages\\win32\n",
      "C:\\Users\\nimda\\Miniconda3\\lib\\site-packages\\win32\\lib\n",
      "C:\\Users\\nimda\\Miniconda3\\lib\\site-packages\\Pythonwin\n",
      "C:\\Users\\nimda\\Miniconda3\\lib\\site-packages\\IPython\\extensions\n",
      "C:\\Users\\nimda\\.ipython\n",
      ".\\mymodules\n",
      ".\\temp-modules\n"
     ]
    }
   ],
   "source": [
    "import sys\n",
    "for directory in sys.path:\n",
    "    print(directory)"
   ]
  },
  {
   "cell_type": "markdown",
   "metadata": {},
   "source": [
    "It is possible to append directories to sys.path. This is needed if the directory holding your modules is not in one of the directories listed above. "
   ]
  },
  {
   "cell_type": "code",
   "execution_count": 8,
   "metadata": {},
   "outputs": [],
   "source": [
    "sys.path.append('.\\\\temp-modules')"
   ]
  },
  {
   "cell_type": "markdown",
   "metadata": {},
   "source": [
    "## Defining and Importing a module\n",
    "\n",
    "Now that we are certain the directory holding our modules is on the search path, we can use them. E..g, Suppose that the following function definitions are defined in `minmax.py`.\n",
    "\n",
    "    def my_max(a,b):\n",
    "        if a > b:\n",
    "            return a;\n",
    "        return b; \n",
    "    \n",
    "    def my_min(a,b):\n",
    "        if a < b:\n",
    "            return a;\n",
    "        return b; \n"
   ]
  },
  {
   "cell_type": "markdown",
   "metadata": {},
   "source": [
    "We can then import and invoke the functions as shown bleow. "
   ]
  },
  {
   "cell_type": "code",
   "execution_count": 9,
   "metadata": {},
   "outputs": [
    {
     "data": {
      "text/plain": [
       "4"
      ]
     },
     "execution_count": 9,
     "metadata": {},
     "output_type": "execute_result"
    }
   ],
   "source": [
    "import minmax\n",
    "minmax.my_max(4,6)\n",
    "minmax.my_min(4,6)"
   ]
  },
  {
   "cell_type": "markdown",
   "metadata": {},
   "source": [
    "Note that it is also possible to provide an alias for a module name. "
   ]
  },
  {
   "cell_type": "code",
   "execution_count": 10,
   "metadata": {},
   "outputs": [
    {
     "data": {
      "text/plain": [
       "4"
      ]
     },
     "execution_count": 10,
     "metadata": {},
     "output_type": "execute_result"
    }
   ],
   "source": [
    "import minmax as mm\n",
    "mm.my_max(4,6)\n",
    "mm.my_min(4,6)"
   ]
  },
  {
   "cell_type": "markdown",
   "metadata": {},
   "source": [
    "### Variants of `import`\n",
    "\n",
    "When we import the functions, etc., of a module, in order to invoke them, we must use the module name. However, it is possilbe to import the names of some or all of the modules members using a different syntax. "
   ]
  },
  {
   "cell_type": "code",
   "execution_count": 11,
   "metadata": {},
   "outputs": [
    {
     "data": {
      "text/plain": [
       "4"
      ]
     },
     "execution_count": 11,
     "metadata": {},
     "output_type": "execute_result"
    }
   ],
   "source": [
    "from minmax import * # import everything\n",
    "my_max(4,6)\n",
    "my_min(4,6)"
   ]
  },
  {
   "cell_type": "code",
   "execution_count": 12,
   "metadata": {},
   "outputs": [
    {
     "data": {
      "text/plain": [
       "4"
      ]
     },
     "execution_count": 12,
     "metadata": {},
     "output_type": "execute_result"
    }
   ],
   "source": [
    "from minmax import my_max as maxx, my_min as minn\n",
    "maxx(4,6)\n",
    "minn(4,6)"
   ]
  },
  {
   "cell_type": "markdown",
   "metadata": {},
   "source": [
    "Note that if you use this import method, the module name is not added to the current symbol table. "
   ]
  },
  {
   "cell_type": "markdown",
   "metadata": {},
   "source": [
    "## Exploring a module\n",
    "\n",
    "The `dir()` function can be used to list the members (variables, functions, modules, etc.) of a specified module. Many of the members are automatically created by Python and are not often accessed directly by users. "
   ]
  },
  {
   "cell_type": "code",
   "execution_count": 13,
   "metadata": {},
   "outputs": [
    {
     "data": {
      "text/plain": [
       "['__builtins__',\n",
       " '__cached__',\n",
       " '__doc__',\n",
       " '__file__',\n",
       " '__loader__',\n",
       " '__name__',\n",
       " '__package__',\n",
       " '__spec__',\n",
       " 'my_max',\n",
       " 'my_min']"
      ]
     },
     "execution_count": 13,
     "metadata": {},
     "output_type": "execute_result"
    }
   ],
   "source": [
    "dir(minmax)"
   ]
  },
  {
   "cell_type": "markdown",
   "metadata": {},
   "source": [
    "## Packages\n",
    "\n",
    "Collections of modules can be organized into **packages**, which are physically stored in a directory tree. In order for Python to treat a  directory as a module name, you must include a file called `__init__.py` in it. E.g., assume the following directory structure: \n",
    "\n",
    "    parent:\n",
    "        __init__.py\n",
    "        child1:\n",
    "            _init__.py\n",
    "            mod1.py\n",
    "        child2:\n",
    "            _init__.py\n",
    "            mod2.py\n",
    "            \n",
    "We can then import the modules `parent.child1.mod1` and `parent.child1.mod1`."
   ]
  },
  {
   "cell_type": "code",
   "execution_count": 14,
   "metadata": {},
   "outputs": [],
   "source": [
    "import parent.child1.mod1\n",
    "import parent.child2.mod2"
   ]
  }
 ],
 "metadata": {
  "kernelspec": {
   "display_name": "Python 3",
   "language": "python",
   "name": "python3"
  },
  "language_info": {
   "codemirror_mode": {
    "name": "ipython",
    "version": 3
   },
   "file_extension": ".py",
   "mimetype": "text/x-python",
   "name": "python",
   "nbconvert_exporter": "python",
   "pygments_lexer": "ipython3",
   "version": "3.7.6"
  }
 },
 "nbformat": 4,
 "nbformat_minor": 2
}
