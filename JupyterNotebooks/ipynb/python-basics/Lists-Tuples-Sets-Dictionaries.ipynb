{
 "cells": [
  {
   "cell_type": "code",
   "execution_count": 1,
   "metadata": {},
   "outputs": [
    {
     "data": {
      "application/javascript": [
       "$.getScript('https://kmahelona.github.io/ipython_notebook_goodies/ipython_notebook_toc.js')\n"
      ],
      "text/plain": [
       "<IPython.core.display.Javascript object>"
      ]
     },
     "metadata": {},
     "output_type": "display_data"
    }
   ],
   "source": [
    "%%javascript\n",
    "$.getScript('https://kmahelona.github.io/ipython_notebook_goodies/ipython_notebook_toc.js')"
   ]
  },
  {
   "cell_type": "markdown",
   "metadata": {},
   "source": [
    "# Lists,Tuples, Sets, and Dictionaries\n",
    "\n",
    "\n",
    "<h2 id=\"tocheading\">Table of Contents</h2>\n",
    "<div id=\"toc\"></div>"
   ]
  },
  {
   "cell_type": "markdown",
   "metadata": {},
   "source": [
    "<a id='lists'></a>\n",
    "## Lists \n",
    "\n",
    "Many languages (e.g., Java) have what are often called **arrays**. In Python the object most like them are called **lists**. Like arrays in other languages, Python lists are represented syntactically using `[...]` blocks. Their elements can be referenced via indexes, and just like arrays in other languages, Python lists are **mutable** objects. That is, it is possible to change the value of an individual cell in a list.  In this way, Python lists are unlike Python strings (which are immutable). "
   ]
  },
  {
   "cell_type": "code",
   "execution_count": 2,
   "metadata": {},
   "outputs": [
    {
     "name": "stdout",
     "output_type": "stream",
     "text": [
      "[0, 1, 2, 3]\n",
      "[3, 1, 2, 3]\n",
      "[3, 4, 5, 3]\n"
     ]
    }
   ],
   "source": [
    "a = [0, 1, 2, 3] #  a list of integers\n",
    "print(a)\n",
    "a[0] = 3 # overwrite the first element of the list\n",
    "print(a)\n",
    "a[1:3] = [4,5]; #overwrite the middle two elements of the list (using values from a new list)\n",
    "print(a)"
   ]
  },
  {
   "cell_type": "markdown",
   "metadata": {},
   "source": [
    "Note that some operations on lists return other lists. "
   ]
  },
  {
   "cell_type": "code",
   "execution_count": 3,
   "metadata": {},
   "outputs": [
    {
     "name": "stdout",
     "output_type": "stream",
     "text": [
      "[1, 2, 3]\n",
      "[4, 5, 6]\n",
      "[1, 2, 3, 4, 5, 6]\n",
      "-------------------------\n",
      "[1, 2, 3]\n",
      "[40, 5, 6]\n",
      "[10, 2, 3, 4, 5, 6]\n"
     ]
    }
   ],
   "source": [
    "a = [1,2,3]\n",
    "b = [4,5,6]\n",
    "c = a + b  \n",
    "print(a)\n",
    "print(b)\n",
    "print(c)\n",
    "print(\"-\"*25)\n",
    "c[0] = 10\n",
    "b[0] = 40\n",
    "print(a)\n",
    "print(b)\n",
    "print(c)"
   ]
  },
  {
   "cell_type": "markdown",
   "metadata": {},
   "source": [
    "Above, `c` is a new list containing elements copied from `a` and `b`. Subsequent changes to `a` or `b` do not affect `c`, and changes to `c` do not affect `a` or `b`. \n",
    "\n",
    "The length of a list can be obtained using `len()`, and a single element can be added to a list using `append()`. Note the syntax used for each. "
   ]
  },
  {
   "cell_type": "code",
   "execution_count": 4,
   "metadata": {},
   "outputs": [
    {
     "name": "stdout",
     "output_type": "stream",
     "text": [
      "[1, 2, [3, 4]]\n",
      "length of 'a':  3\n"
     ]
    }
   ],
   "source": [
    "a = []\n",
    "a.append(1) # add an element to the end of the list. \n",
    "a.append(2)\n",
    "a.append([3,4])\n",
    "print(a)\n",
    "print(\"length of 'a': \", len(a))"
   ]
  },
  {
   "cell_type": "markdown",
   "metadata": {},
   "source": [
    "Some additional list operations are shown below. Pay careful attention to how `a` and `b` are related."
   ]
  },
  {
   "cell_type": "code",
   "execution_count": 5,
   "metadata": {},
   "outputs": [
    {
     "name": "stdout",
     "output_type": "stream",
     "text": [
      "a: [20, 11, 12]\n",
      "b: [20, 11, 12]\n",
      "c: [30, 11, 12]\n"
     ]
    }
   ],
   "source": [
    "a = [10]\n",
    "a.extend([11,12]) # append elements of one list to the end of another one. \n",
    "b = a\n",
    "c = a.copy() # copy the elements of a to a new list, and then assign it to c. \n",
    "b[0] = 20 \n",
    "c[0] = 30\n",
    "print(\"a:\", a)\n",
    "print(\"b:\", b)\n",
    "print(\"c:\", c)"
   ]
  },
  {
   "cell_type": "code",
   "execution_count": 6,
   "metadata": {},
   "outputs": [
    {
     "name": "stdout",
     "output_type": "stream",
     "text": [
      "a reversed: [12, 11, 20]\n",
      "a sorted: [11, 12, 20]\n",
      "b is  []  having length  0\n"
     ]
    }
   ],
   "source": [
    "b.reverse() # reverse the elements of the list in place. \n",
    "print(\"a reversed:\", a) \n",
    "b.sort()\n",
    "print(\"a sorted:\", a) \n",
    "a.clear() # empty the list\n",
    "print(\"b is \", b, \" having length \", len(b))"
   ]
  },
  {
   "cell_type": "code",
   "execution_count": 7,
   "metadata": {},
   "outputs": [
    {
     "name": "stdout",
     "output_type": "stream",
     "text": [
      "['a', 'b', 'c', 'd', 'e']\n",
      "popped:  e ['a', 'b', 'c', 'd']\n",
      "new list, sorted: ['a', 'b', 'b', 'c', 'd', 'd', 'd']\n",
      "count of 'd':  3\n",
      "first index of 'd':  4\n",
      "['a', 'b', 'b', 'c', 'd', 'd', 'd']\n",
      "ele at index 2 removed: ['a', 'b', 'c', 'd', 'd', 'd']\n",
      "elements at index 2-4 removed: ['a', 'b', 'd', 'd']\n"
     ]
    }
   ],
   "source": [
    "list1 = [\"a\", \"b\", \"d\", \"e\"]\n",
    "list1.insert(2, \"c\") #insert element \"c\" at position 2, increasing the length by 1. \n",
    "print(list1)\n",
    "e = list1.pop() # remove the last element of the list. \n",
    "print(\"popped: \", e, list1)\n",
    "list1 = [\"d\", \"b\", \"b\", \"c\", \"d\", \"d\", \"a\"]\n",
    "list1.sort() # sort the list\n",
    "print(\"new list, sorted:\", list1)\n",
    "print(\"count of 'd': \", list1.count(\"d\")) # count the number of times \"d\" occurs\n",
    "print(\"first index of 'd': \", list1.index(\"d\")) # return the index of the first occurrence of \"d\"\n",
    "print(list1)\n",
    "del list1[2] # remove the element at index 2\n",
    "print(\"ele at index 2 removed:\", list1)\n",
    "del list1[2:4] # remove the elements from index 2 to 4. \n",
    "print(\"elements at index 2-4 removed:\",list1)"
   ]
  },
  {
   "cell_type": "markdown",
   "metadata": {},
   "source": [
    "<a id='tuples'></a>\n",
    "## Tuples\n",
    "\n",
    "There also exists an immutable counterpart to a list, the **tuple**.  Elements can also be referenced by index, but (as with Python strings) new values cannot be assigned. Unlike a list, Tuples are created using either `(...)` or simply by using a comma-delimeted sequence of 1 or more elements.   "
   ]
  },
  {
   "cell_type": "code",
   "execution_count": 8,
   "metadata": {},
   "outputs": [
    {
     "name": "stdout",
     "output_type": "stream",
     "text": [
      "()\n",
      "(1, 2)\n",
      "(3, 4, 5)\n",
      "(6,)\n",
      "1\n",
      "(7,)\n",
      "2\n"
     ]
    }
   ],
   "source": [
    "a = () # the empty tuple\n",
    "b = (1, 2) # a tuple of 2 elements\n",
    "c = 3, 4, 5 # another way of creating a tuple. \n",
    "d = 6, # a singleton tuple\n",
    "e = (7,) # another singleton tuple\n",
    "print(a)\n",
    "print(b)\n",
    "print(c)\n",
    "print(d) \n",
    "print(len(d))\n",
    "print(e)\n",
    "print(b[1])\n"
   ]
  },
  {
   "cell_type": "markdown",
   "metadata": {},
   "source": [
    "As with lists, we can combine tuples to form new tuples"
   ]
  },
  {
   "cell_type": "code",
   "execution_count": 9,
   "metadata": {},
   "outputs": [
    {
     "name": "stdout",
     "output_type": "stream",
     "text": [
      "(1, 2, 3, 'x', 'y', 'z')\n"
     ]
    }
   ],
   "source": [
    "a = (1,2,3,4)\n",
    "b = \"x\", \"y\", \"z\"\n",
    "c = a[0:3] + b\n",
    "print(c)"
   ]
  },
  {
   "cell_type": "markdown",
   "metadata": {},
   "source": [
    "<a id='sets'></a>\n",
    "## Sets\n",
    "\n",
    "Sets, created using `{...}` or `set(...)` in Python, are unordered collections without duplicate elements. If the same element is added again, the set will not change. \n"
   ]
  },
  {
   "cell_type": "code",
   "execution_count": 10,
   "metadata": {},
   "outputs": [
    {
     "name": "stdout",
     "output_type": "stream",
     "text": [
      "{'c', 'd', 'a', 'b'}\n",
      "{' ', 'l', 'w', 'd', 'r', 'h', 'e', 'o'}\n",
      "{'c', ' ', 'a', 'd', 'l', 'w', 'r', 'h', 'b', 'e', 'o'}\n",
      "{'d'}\n",
      "{'c', 'a', 'b'}\n",
      "{' ', 'l', 'w', 'r', 'h', 'e', 'o'}\n",
      "{'c', ' ', 'a', 'l', 'w', 'r', 'h', 'b', 'e', 'o'}\n"
     ]
    }
   ],
   "source": [
    "a = {'a','b', 'c', 'd'} # create a new set containing these elements\n",
    "b = set('hello world') # create a set containing the distinct characters of 'hello world'\n",
    "print(a) \n",
    "print(b)\n",
    "print(a | b) # print the union of a and b. \n",
    "print(a & b) # print the intersection of a and b.\n",
    "print(a - b) # print elements of a not in b\n",
    "print(b - a) # print elements of b not in a.\n",
    "print(b ^ a) # print elements in either but not both."
   ]
  },
  {
   "cell_type": "markdown",
   "metadata": {},
   "source": [
    "Given the below, it appears that `==` is used to evaluate membership. "
   ]
  },
  {
   "cell_type": "code",
   "execution_count": 11,
   "metadata": {},
   "outputs": [
    {
     "name": "stdout",
     "output_type": "stream",
     "text": [
      "id(a): 2343683616416\n",
      "id(d): 2343683712480\n",
      "{'lo', 'hello', 'hel'}\n"
     ]
    }
   ],
   "source": [
    "a = \"hello\" # 'a' is \"hello\"\n",
    "b = \"hel\"\n",
    "c = \"lo\"\n",
    "d = b + c   # 'd' is also \"hello\"\n",
    "s = {a,b,c,d}\n",
    "print(\"id(a):\", id(a))\n",
    "print(\"id(d):\", id(d))\n",
    "print(s)"
   ]
  },
  {
   "cell_type": "markdown",
   "metadata": {},
   "source": [
    "<a id='dictionaries'></a>\n",
    "## Dictionaries\n",
    "\n",
    "Dictionaries are collections of key-value pairs. A dictionary can be created using `d = {key1:value1, key2:value2, ...}` syntax, or else from 2-ary tuples using `dictionary()`. New key value pairs can be assigned, and old values referenced, using `d[key]`. "
   ]
  },
  {
   "cell_type": "code",
   "execution_count": 12,
   "metadata": {},
   "outputs": [
    {
     "name": "stdout",
     "output_type": "stream",
     "text": [
      "{'last': 'smith', 'first': 'joe', 'middle': 'william', 'address': {'number': 1234, 'street': 'Elm St', 'city': 'Athens', 'state': 'GA', 'zip': '30602'}}\n",
      "keys: ['address', 'first', 'last', 'middle']\n",
      "True\n",
      "False\n",
      "{'last': 'smith', 'first': 'joe', 'middle': 'william', 'address': {'number': 1234, 'street': 'beech', 'city': 'Athens', 'state': 'GA', 'zip': '30602'}}\n",
      "{'last': 'jones', 'first': 'joe', 'middle': 'william', 'address': {'number': 1234, 'street': 'beech', 'city': 'Athens', 'state': 'GA', 'zip': '30602'}}\n"
     ]
    }
   ],
   "source": [
    "employee = {'last':'smth', 'first':'joe'} \n",
    "employee['middle'] = 'william'\n",
    "employee['last'] = 'smith'\n",
    "addr = {} # an empty dictionary\n",
    "addr['number'] = 1234 \n",
    "addr['street'] = \"Elm St\"\n",
    "addr['city'] = \"Athens\"\n",
    "addr['state'] = \"GA\"\n",
    "addr['zip'] = \"30602\"\n",
    "employee[\"address\"] = addr\n",
    "print(employee)\n",
    "keys= list(employee.keys()) # list the keys of 'employee'\n",
    "print(\"keys: \" + str(sorted(keys)))\n",
    "print('last' in keys) # Print whether 'last' is in keys or not (prints True or False)\n",
    "print('lastt' in keys) # Print whether 'lastt' is in keys or not (prints True or False)\n",
    "\n",
    "employee2 = employee.copy() # create a shallow copy of the employee\n",
    "employee2[\"last\"] =\"jones\" \n",
    "employee2[\"address\"][\"street\"] =\"beech\" # reassign the street name of the employee's address. \n",
    "print(employee)\n",
    "print(employee2)"
   ]
  },
  {
   "cell_type": "markdown",
   "metadata": {},
   "source": [
    "<a id=\"conversions\"></a>\n",
    "## Conversion Between Types"
   ]
  },
  {
   "cell_type": "code",
   "execution_count": 13,
   "metadata": {},
   "outputs": [
    {
     "name": "stdout",
     "output_type": "stream",
     "text": [
      "(1, 2, 3, 1, 1)\n",
      "[1, 2, 3, 1, 1]\n",
      "(1, 2, 3, 1, 1)\n",
      "{1, 2, 3}\n",
      "{'one': 1, 'two': 2, 'three': 3}\n",
      "('one', 'two', 'three')\n",
      "('one', 'two', 'three')\n",
      "(1, 2, 3)\n"
     ]
    }
   ],
   "source": [
    "y = (1,2,3,1,1)\n",
    "z = list(y) # convert tuple to a list\n",
    "print(y) \n",
    "print(z) \n",
    "print(tuple(z)) # convert z to a tuple\n",
    "print(set(z)) # convert z to a set\n",
    "\n",
    "w = ((\"one\", 1), (\"two\", 2), (\"three\", 3))\n",
    "v = dict(w)\n",
    "print(v)\n",
    "print(tuple(v))\n",
    "print(tuple(v.keys()))\n",
    "print(tuple(v.values()))"
   ]
  }
 ],
 "metadata": {
  "kernelspec": {
   "display_name": "Python 3",
   "language": "python",
   "name": "python3"
  },
  "language_info": {
   "codemirror_mode": {
    "name": "ipython",
    "version": 3
   },
   "file_extension": ".py",
   "mimetype": "text/x-python",
   "name": "python",
   "nbconvert_exporter": "python",
   "pygments_lexer": "ipython3",
   "version": "3.7.6"
  }
 },
 "nbformat": 4,
 "nbformat_minor": 2
}
