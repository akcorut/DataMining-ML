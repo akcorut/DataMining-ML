{
 "cells": [
  {
   "cell_type": "markdown",
   "metadata": {},
   "source": [
    "## Simple Perceptrons\n",
    "\n",
    "Below we define code for a simple perceptron, which consists of a single output node and $k+1$ inputs ($k$ inputs plus a bias signal which is always +1). The perceptron can be used for binary classification of linearly separable classes. \n",
    "\n",
    "The raw output of the network is the simple weighted sum of the inputs. That is, if an instance has inputs $x_1$, $\\ldots$, $x_k$ inputs, and the perceptron defines weights $\\theta_0$, $\\ldots$, $\\theta_k$, then the output is\n",
    "\n",
    "$y = \\displaystyle\\sum_{j=0}^{k}\\theta_j x_j$.\n",
    "\n",
    "Here, $x_0 = 1$ is the bias. From the raw output, a class $h_\\theta(x)$ can be derived. If the output is $>0$, then the class is said to be *positive* (+1). If the output is $\\leq 0$, the class is *negative* (-1). \n",
    "\n",
    "Training a perceptron is iterative. Simply put, for each instance $i$ that the perceptron gets wrong, we adjust the weights: For each weight $\\theta_j$, if the actual class of instance $i$ is positive, we simply add $x_j^{(i)}$ to $\\theta_j$. If instead the instance is negative, we subtract $x_j^{(i)}$ from $\\theta_j$. \n",
    "\n",
    "That is, if instance $i$ is incorrectly classified, then $\\theta_j$' is $\\theta_j + h_\\theta(x^{(i)}) x_j^{(i)}$, where $h_\\theta(x^{(i)})$ is either +1 or -1. \n",
    "\n",
    "This continues until all instances are correctly classified. Somewhat surprisingly, provided the two classes are linearly separable, this simple scheme will find a hyperplane separating them. \n",
    "\n",
    "## Defining a data set\n",
    "\n",
    "We first define a few clusters of data points, which we plot.  "
   ]
  },
  {
   "cell_type": "code",
   "execution_count": 1,
   "metadata": {},
   "outputs": [],
   "source": [
    "import pandas as pd\n",
    "import numpy as np\n",
    "import matplotlib.pyplot as plt\n",
    "\n",
    "def cluster(n, mean_x = 0, std_x = 1, mean_y = 0, std_y = 1):\n",
    "    x = np.random.normal(loc = mean_x,scale=std_x, size=n)\n",
    "    y = np.random.normal(loc = mean_y,scale=std_y, size=n)\n",
    "    df = pd.DataFrame([x,y]).T\n",
    "    df.columns = ['X','Y']\n",
    "    return df"
   ]
  },
  {
   "cell_type": "code",
   "execution_count": 2,
   "metadata": {},
   "outputs": [
    {
     "data": {
      "text/plain": [
       "<matplotlib.collections.PathCollection at 0x217a36c3fc8>"
      ]
     },
     "execution_count": 2,
     "metadata": {},
     "output_type": "execute_result"
    },
    {
     "data": {
      "image/png": "[encoded data removed]",
      "text/plain": [
       "<Figure size 432x288 with 1 Axes>"
      ]
     },
     "metadata": {
      "needs_background": "light"
     },
     "output_type": "display_data"
    }
   ],
   "source": [
    "cluster1 = cluster(500,mean_x=5,std_x=2, mean_y=5, std_y=1)\n",
    "cluster1['Target'] = -1\n",
    "cluster2 = cluster(500,mean_x=12,std_x=1, mean_y=12, std_y=1.5)\n",
    "cluster2['Target'] = 1\n",
    "data = pd.concat([cluster1,cluster2])\n",
    "\n",
    "plt.scatter(cluster1['X'],cluster1['Y'])\n",
    "plt.scatter(cluster2['X'],cluster2['Y'])\n"
   ]
  },
  {
   "cell_type": "markdown",
   "metadata": {},
   "source": [
    "We separate the inputs from the targets"
   ]
  },
  {
   "cell_type": "code",
   "execution_count": 3,
   "metadata": {},
   "outputs": [],
   "source": [
    "# copy the data set\n",
    "working = data.copy()\n",
    "\n",
    "# separate inputs and target values\n",
    "targets = working.Target.values\n",
    "inputs = working[['X','Y']].values\n"
   ]
  },
  {
   "cell_type": "markdown",
   "metadata": {},
   "source": [
    "## Perceptron learning function\n",
    "\n",
    "We then define a function to learn the weights for the perceptron."
   ]
  },
  {
   "cell_type": "code",
   "execution_count": 4,
   "metadata": {},
   "outputs": [],
   "source": [
    "def perceptron(inputs, targets, max_iter = 1000):\n",
    "    \"\"\"Given a data set of inputs and targets (for classes -1, +1), \n",
    "    learn weights for the hyperplace separating them. \n",
    "    \"\"\"\n",
    "    \n",
    "    # get the number of rows and columns in the inputs\n",
    "    (rows, cols) = inputs.shape;\n",
    "    \n",
    "    # initialize the weights to 0\n",
    "    weights = np.zeros(cols+1)\n",
    "   \n",
    "    # add a column of 1s to the inputs for the bias. \n",
    "    instances = np.hstack((np.ones((rows,1)), inputs[:,:]))\n",
    "\n",
    "    \n",
    "    # the main learning loop\n",
    "    for j in range(max_iter):\n",
    "        predicted = instances.dot(weights)\n",
    "        \n",
    "        # stop if no misclassifications are made\n",
    "        found_incorrect = False\n",
    "        \n",
    "        for i in range(rows):\n",
    "            if targets[i]> 0 and predicted[i] <= 0:\n",
    "                found_incorrect = True\n",
    "                weights = weights + instances[i]\n",
    "            elif targets[i] <= 0 and predicted[i] > 0:\n",
    "                found_incorrect = True\n",
    "                weights = weights - instances[i]        \n",
    "        if not found_incorrect:\n",
    "            break\n",
    "    return weights\n",
    "\n",
    "def classify(inputs, weights):\n",
    "    \"\"\"return raw outputs for each instance in inputs, based on\n",
    "    the current value of the weights. \n",
    "    \"\"\"\n",
    "    (rows, cols) = inputs.shape;\n",
    "    instances = np.hstack((np.ones((rows,1)), inputs[:,:]))\n",
    "    return instances.dot(weights)\n",
    "\n",
    "# line: ax + by + c = 0\n",
    "# y = (-c -ax)/b\n",
    "def myline(x,c,a,b):\n",
    "    \"\"\"compute a value for y from x,c,a,b\"\"\"\n",
    "    return (-c - a*x)/b\n",
    "\n",
    "def count_wrong(targets, predicted):\n",
    "    \"\"\"Count the number of insances the perceptron got wrong\"\"\"\n",
    "    return np.sum((targets > 0) == (predicted <= 0))"
   ]
  },
  {
   "cell_type": "markdown",
   "metadata": {},
   "source": [
    "## Training on the data\n",
    "\n",
    "Now we learn the weights for the data set we have created. "
   ]
  },
  {
   "cell_type": "code",
   "execution_count": 5,
   "metadata": {},
   "outputs": [
    {
     "name": "stdout",
     "output_type": "stream",
     "text": [
      "0\n"
     ]
    }
   ],
   "source": [
    "weights = perceptron(inputs, targets)\n",
    "predicted = classify(inputs, weights)\n",
    "print(count_wrong(targets, predicted))"
   ]
  },
  {
   "cell_type": "code",
   "execution_count": 6,
   "metadata": {},
   "outputs": [
    {
     "data": {
      "image/png": "[encoded data removed]",
      "text/plain": [
       "<Figure size 432x288 with 1 Axes>"
      ]
     },
     "metadata": {
      "needs_background": "light"
     },
     "output_type": "display_data"
    }
   ],
   "source": [
    "ls = np.linspace(0, 20, 500)\n",
    "plt.scatter(cluster1['X'],cluster1['Y'])\n",
    "plt.scatter(cluster2['X'],cluster2['Y'])\n",
    "plt.plot(ls,myline(ls,weights[0],weights[1], weights[2]))\n",
    "plt.show()"
   ]
  }
 ],
 "metadata": {
  "kernelspec": {
   "display_name": "Python 3",
   "language": "python",
   "name": "python3"
  },
  "language_info": {
   "codemirror_mode": {
    "name": "ipython",
    "version": 3
   },
   "file_extension": ".py",
   "mimetype": "text/x-python",
   "name": "python",
   "nbconvert_exporter": "python",
   "pygments_lexer": "ipython3",
   "version": "3.7.6"
  }
 },
 "nbformat": 4,
 "nbformat_minor": 2
}
