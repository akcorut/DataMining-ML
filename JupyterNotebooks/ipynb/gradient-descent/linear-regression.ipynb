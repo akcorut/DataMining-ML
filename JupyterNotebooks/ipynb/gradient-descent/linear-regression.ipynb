{
 "cells": [
  {
   "cell_type": "markdown",
   "metadata": {},
   "source": [
    "## Gradient descent and Linear Regression: Coding Example\n",
    "\n",
    "Below, we'll use Python to implement **linear regression**. To generate the linear model, we'll use **gradient descent**, which is a general optimization technique but which can find the global optimum in this case. \n",
    "\n",
    "### Linear models\n",
    "\n",
    "In a typical regression problem, we're given a set of training instances, where each instance consists of a set of attributes $x_1$, $x_2$, $\\ldots$, $x_k$, and we are attempting to learn a real-valued function (the **model** or **hypothesis** $h$) from the instances to some target attribute $y$. \n",
    "\n",
    "We can represent each training instance as a row vector $\\mathbf{x} = \\langle x_1,x_2,\\ldots, x_k\\rangle$. Here, to distinguish one training instance from another, we'll use superscripts: E.g.,  $\\mathbf{x}^{(10)}$ refers to training instance \\#10.  Similarly, we can use a superscript to refer to the target value for a training instance (e.g., $y^{(10)}$).  \n",
    "\n",
    "A linear model has the form\n",
    "\n",
    "$h_{\\theta}(\\mathbf{x}) = \\theta_0 + \\displaystyle\\sum_{j=1}^{k} \\theta_j x_j$\n",
    "\n",
    "where each  $\\theta_j$ is a real-valued constant (a **weight**), \n",
    "and $h_{\\theta}(\\mathbf{x})$ is the estimated value of $y$ for instance $\\mathbf{x}$. Note that the function is really determine by the values we choose for each of the $\\theta$s. The subscript in $h_\\theta$ is used to indicate this. \n",
    "\n",
    "\n",
    "If we define $x_0$ to be a constant 1, then the function can be written more succinctly:\n",
    "\n",
    "$h_{\\theta}(\\mathbf{x}) = \\displaystyle\\sum_{j=0}^{k} \\theta_j x_j$\n",
    "\n",
    "Note that the sequence of coefficients $\\theta_0$, $\\ldots$, $\\theta_k$ also forms a vector, and so for any training instance $\\mathbf{x}$, the sum above is just $\\mathbf{\\theta \\cdot x}$ (the dot product of $\\mathbf{\\theta}$ and $\\mathbf{x}$).  \n",
    "\n",
    "\n",
    "$h_{\\theta}(\\mathbf{x})$ deﬁnes a $k$-dimensional **hyperplane**. If $k = 1$, it's a line dividing a 2d space. If $k = 2$, then it's a 2d plane. Intuitively, each weight $\\theta_j$ represents the \"slope\" of the plane in the jth dimension.\n"
   ]
  },
  {
   "cell_type": "markdown",
   "metadata": {},
   "source": [
    "### The Cost Function\n",
    "\n",
    "The problem is to ﬁnd values for the weights $\\theta_0$, $\\ldots$ $\\theta_k$ that best *ﬁt* the data. Speciﬁcally, we want to minimize the *mean squared error* between each $y^{(i)}$ and $h_\\theta(x^{(i)})$, where $y^{(i)}$ and $h_\\theta(x^{(i)})$ are the actual and predicted values for example $i$. The term $y^{(i)}-h_\\theta(x^{(i)})$ is called the *residual* of $y^{(i)}$  with respect to $h_\\theta(x^{(i)})$. More specifically, we want to minimize the below *cost function* $J(\\theta)$:\n",
    "\n",
    "$J(\\theta) =  \\frac{1}{2}\\displaystyle\\sum_{i=1}^{n}(h_\\theta(\\mathbf{x}^{(i)}) - y^{(i)})^2$\n",
    "\n",
    "\n",
    "Note that $J$ is a funciton of $\\theta$.  The space of possible values for $\\theta$ defines an **error surface**, and we want to find the values for $\\theta$ that correspond to the lowest point on that surface.  Implicitly, $J$ is also a function of the training set, but since we assume that the training set is fixed, we don't explictly symbolize it. \n",
    "\n",
    "Regarding the $\\frac{1}{2}$, we could have just as easily used $\\frac{1}{n}$ instead (where $n$ is the number of instances in the training set), but using $\\frac{1}{2}$ doesn't change what weights yield the best $J$, and it ultimately simpliﬁes calculations (this is described below)."
   ]
  },
  {
   "cell_type": "markdown",
   "metadata": {},
   "source": [
    "### Gradient Descent\n",
    "\n",
    "Minimizing error is a standard objective in machine learning. For linear regression, it turns out that there is a unique global minimum for $J(\\theta)$, and analytic techniques can be used to ﬁnd it. For other cost functions, however, techniques such as **gradient descent** are more appropriate.\n",
    "\n",
    "\n",
    "\n",
    "\n",
    "In gradient descent, the gradient vector $\\nabla J = \\langle \\frac{\\partial J}{\\partial \\theta_0},\\ldots, \\frac{\\partial J}{\\partial \\theta_k}\\rangle $ at a given point on the error surface (where a point is defined by specific values for $\\theta_0$, $\\ldots$, $\\theta_k$) represents the direction of greatest rate of increase in $J$ at the point. Intuitively,  $\\frac{\\partial J}{\\partial \\theta_j}$\n",
    " at a point on the error surface represents the slope (at that point) of the surface in the jth dimension.\n",
    " \n",
    "The idea behind gradient descent is to adjust the current weights in the opposite direction of the gradient, thereby decreasing the error value. The weights are initialized (typically to 0), and then iteratively adjusted. The equation to **update** each existing weight $\\theta_j$ to  a new value $θ_j'$ is\n",
    "\n",
    "$\\theta_j' := \\theta_j - \\alpha \\frac{\\partial J}{\\partial\\theta_j}$ \n",
    "\n",
    "where $\\alpha$ is a small real-valued constant called the **learning \n",
    "rate**. Note that the weights are updated in parallel rather than sequentially. In a given iteration, updating one weight doesn't affect the updates of the others. \n",
    "\n",
    "If $\\nabla J$ is 0 at a given point (that is, each $\\frac{\\partial J}{\\partial \\theta_i} = 0$), then further updates yield no improvement (this should be obvious given how the update rule is defined). That point constitutes a **local minimum** for $J(\\theta)$. When reached, gradient descent stops. \n",
    "\n",
    "Note that in the context of linear regresssion, the cost function $J$ is **convex**. There is only one minimum (a **global minimum**), and gradient descent can safely be used to ﬁnd it. If the original function to be learned is not linear, however, then the error function might have many local minima. In such cases, gradient descent is not guaranteed to find the global minimum. \n",
    "\n",
    "##### Batch vs Stochastic Gradient Descent\n",
    "\n",
    "In the simplest form of gradient descent, all instances in the data set are examined before updates are made. This is sometimes called **batch gradient descent**. In **stochastic gradient descent**, a randomly chosen instance (or small random sample of instances) is used instead of the entire data set. The gradient is then computed, and the weights are updated  accordingly.  Often, this reduces error more quickly. The algorithm might not converge to a minimum, but the results are typically good approximations.\n",
    "\n",
    "If a good value for $\\alpha$ is chosen, then $J$ should decrease with each iteration, quickly at first but then gradually tapering off.  If a too-large value for $\\alpha$ is used, then $J$ might not converge. Instead, it might increase without bound or oscillate between ponts. If, in contrast, a too-small $\\alpha$ is used, then gradient descent might take a very long time to converge.\n",
    "\n",
    "### Computing the updates\n",
    "\n",
    "In order to update $\\theta_j$ to $\\theta_j'$, we need to compute $\\frac{\\partial J}{\\partial\\theta_j}$, that is $\\frac{\\partial}{\\partial\\theta_j}$ $[ \\frac{1}{2}\\displaystyle\\sum_{i=1}^{n}(h_\\theta(\\mathbf{x}^{(i)}) - y^{(i)})^2]$.  Below are some common rules for computing the derivative $f'(x)$ of a function $f(x)$ of one variable $x$. \n",
    "\n",
    "* If $f(x) = c$, where $c$ is a constant, then $f'(x) = 0$.\n",
    "\n",
    "* If $f(x) = x^n$, then $f'(x) = nx^{n-1}$.\n",
    "\n",
    "* If $f(x) = c g(x)$, where $c$ is a constant, then $f'(x) = c g'(x)$.\n",
    "\n",
    "* If $f(x) = g(x) + h(x)$, then $f'(x) = g'(x) + h'(x)$.\n",
    "\n",
    "* If $f(x) = g(h(x))$, then $f'(x) = g'(h(x))h'(x)$.\n",
    "\n",
    "\n",
    "When computing partial derivatives of functions of multiple variables, e.g.,  $\\frac{\\partial J}{\\partial\\theta_j}$, we treat the other variables ($\\theta_i$ where $i\\neq j$) as constants. \n",
    "\n",
    "Below are steps showing the derivation of $\\frac{\\partial J}{\\partial\\theta_j}$: \n",
    "\n",
    "* $\\frac{\\partial J}{\\partial\\theta_j}$ =\n",
    "\n",
    "* $\\frac{\\partial}{\\partial\\theta_j}$ $[ \\frac{1}{2}\\displaystyle\\sum_{i=1}^{n}(h_\\theta(\\mathbf{x}^{(i)}) - y^{(i)})^2]$ =\n",
    "\n",
    "* $\\frac{1}{2}\\frac{\\partial}{\\partial\\theta_j}$ $[\\displaystyle\\sum_{i=1}^{n}(h_\\theta(\\mathbf{x}^{(i)}) - y^{(i)})^2]$ =\n",
    "\n",
    "* $\\frac{1}{2}\\frac{\\partial}{\\partial\\theta_j}$ $[(h_\\theta(\\mathbf{x}^{(1)}) - y^{(1)})^2$ $+\\ldots+$ $(h_\\theta(\\mathbf{x}^{(n)}) - y^{(n)})^2]$ = \n",
    "\n",
    "* $\\frac{1}{2}$ $[\\frac{\\partial}{\\partial\\theta_j}(h_\\theta(\\mathbf{x}^{(1)}) - y^{(1)})^2$ $+\\ldots+$ $\\frac{\\partial}{\\partial\\theta_j}(h_\\theta(\\mathbf{x}^{(n)}) - y^{(n)})^2]$ = \n",
    "\n",
    "* $\\frac{1}{2}$ $[2(h_\\theta(\\mathbf{x}^{(1)}) - y^{(1)})\\frac{\\partial}{\\partial\\theta_j}(h_\\theta(\\mathbf{x}^{(1)}) - y^{(1)})$ $+\\ldots+$ $2(h_\\theta(\\mathbf{x}^{(n)}) - y^{(n)})\\frac{\\partial}{\\partial\\theta_j}(h_\\theta(\\mathbf{x}^{(n)}) - y^{(n)})]$ = \n",
    "\n",
    "* $\\frac{2}{2}$ $[(h_\\theta(\\mathbf{x}^{(1)}) - y^{(1)})\\frac{\\partial}{\\partial\\theta_j}(h_\\theta(\\mathbf{x}^{(1)}) - y^{(1)})$ $+\\ldots+$ $(h_\\theta(\\mathbf{x}^{(n)}) - y^{(n)})\\frac{\\partial}{\\partial\\theta_j}(h_\\theta(\\mathbf{x}^{(n)}) - y^{(n)})]$ = \n",
    "\n",
    "*  $[(h_\\theta(\\mathbf{x}^{(1)}) - y^{(1)})(\\frac{\\partial}{\\partial\\theta_j} h_\\theta(\\mathbf{x}^{(1)}) - \\frac{\\partial}{\\partial\\theta_j} y^{(1)})$ $+\\ldots+$ $(h_\\theta(\\mathbf{x}^{(n)}) - y^{(n)})(\\frac{\\partial}{\\partial\\theta_j} h_\\theta(\\mathbf{x}^{(n)}) - \\frac{\\partial}{\\partial\\theta_j} y^{(n)})]$ =\n",
    "\n",
    "*  $[(h_\\theta(\\mathbf{x}^{(1)}) - y^{(1)})\\frac{\\partial}{\\partial\\theta_j} h_\\theta(\\mathbf{x}^{(1)})$ $+\\ldots+$ $(h_\\theta(\\mathbf{x}^{(n)}) - y^{(n)})\\frac{\\partial}{\\partial\\theta_j} h_\\theta(\\mathbf{x}^{(n)})]$\n",
    "\n",
    "Note that $h_\\theta(\\mathbf{x}^{(i)})$ = $\\theta_0 + \\theta_1 x_1^{(i)} + \\ldots + \\theta_1 x_k^{(i)}$ and all $\\theta_m$ other than $\\theta_j$ are treated as constants,  and so  $\\frac{\\partial}{\\partial\\theta_j} h_\\theta(\\mathbf{x}^{(i)})$ = $x_j^{(i)}$. From this: \n",
    "\n",
    "* $[(h_\\theta(\\mathbf{x}^{(1)}) - y^{(1)})x_j^{(1)}$ $+\\ldots+$ $(h_\\theta(\\mathbf{x}^{(n)}) - y^{(n)})x_j^{(n)})]$ = \n",
    " \n",
    "* $\\displaystyle\\sum_{i=1}^{n}[(h_\\theta(\\mathbf{x}^{(i)}) - y^{(i)})x_j^{(i)}]$ =\n",
    "\n",
    "* $\\displaystyle\\sum_{i=1}^{n}(\\displaystyle\\sum_{m=0}^{k}{[\\theta_m x_m}^{(i)}] - y^{(i)})x_j^{(i)}$\n",
    "\n",
    "\n",
    "Plugging this result into our update rule yields the following.\n",
    "\n",
    "$\\theta_j' := \\theta_j - \\alpha \\displaystyle\\sum_{i=1}^{n}(\\displaystyle\\sum_{m=0}^{k}{[\\theta_m x_m}^{(i)}] - y^{(i)})x_j^{(i)}$ \n",
    "\n",
    "\n",
    "Note that this is for a single weight $\\theta_j$. We would need to compute a result for all other weights, too. "
   ]
  },
  {
   "cell_type": "markdown",
   "metadata": {},
   "source": [
    "### Scaling\n",
    "\n",
    "When fitting a function of several attributes, it's often the case that attributes will have very different magnitudes. This can drastically reduce the efficiency of gradient descent. As such, it is good practice to **scale** the inputs (the target is left alone). Different techniques can be used, but sometimes the standard score is used. Each $x^{(i)}_j$ is replaced with \n",
    "\n",
    "$\\frac{x^{(i)}_j-\\mu_j}{\\sigma_j}$\n",
    "\n",
    "where $\\mu_j$ is the mean of $x_j$ across all instances and $\\sigma_j$ is the standard deviation. In practice, not standardizing the values can make tuning the gradient descent procedure more difficult."
   ]
  },
  {
   "cell_type": "markdown",
   "metadata": {},
   "source": [
    "## Coding Linear Regression with Gradient Descent\n",
    "\n",
    "Below is a sample program implementing linear regression using gradient descent. It is possible to specify the learning rate and number of iterations, as well as whether the input data should be scaled. The function works with Numpy arrays. \n"
   ]
  },
  {
   "cell_type": "code",
   "execution_count": 10,
   "metadata": {},
   "outputs": [],
   "source": [
    "import numpy as np\n",
    "import pandas as pd\n",
    "import matplotlib\n",
    "import matplotlib.pyplot as plt"
   ]
  },
  {
   "cell_type": "code",
   "execution_count": 11,
   "metadata": {},
   "outputs": [],
   "source": [
    "# the data set used for the examples\n",
    "house_data = \"..\\\\data-sets\\\\2015_clarke_co_house_sales.csv\""
   ]
  },
  {
   "cell_type": "code",
   "execution_count": 12,
   "metadata": {},
   "outputs": [],
   "source": [
    "# a function creating a linear model using gradient descent. \n",
    "#\n",
    "# input: \n",
    "#   in - training data encoded as an (n x m) numpy array (1 instance per row).\n",
    "#   alpha - the learning rate, a floating point number. \n",
    "#   iterations - the number of iterations to run gradient descent. \n",
    "#\n",
    "# output: the weights (coefficients) of the linear model.  \n",
    "#\n",
    "# For the input, assume that the target attribute is in the last column. \n",
    "def gradient_descent(indata, alpha, iterations, scale=True):\n",
    "    # get the number of rows and columns in the input data. \n",
    "    # get the number of rows and columns in the input data. \n",
    "    (rows, cols) = indata.shape; \n",
    "   \n",
    "    # create a row vector of weights, one for each input column,\n",
    "    # initialized to 0. \n",
    "    weights = np.zeros(cols);\n",
    "    \n",
    "    # 1)Prepend  a column of 1s to the instances (for the y-intercept)\n",
    "    instances = np.hstack((np.ones((rows,1)), indata[:,:-1]))\n",
    "\n",
    "    # 2)Separate the input attributes from the target attribute, forming\n",
    "    # two numpy arrays.\n",
    "    targets = indata[:,-1] \n",
    "\n",
    "    # 3) \n",
    "    # Standardize the inputs. For each value x of an attribute, compute \n",
    "    # (x-mu)/sd, where mu and sd are the mean and standard deviation of values \n",
    "    # for that attribute. \n",
    "    \n",
    "    # scale each column (from index 2 to the end column)\n",
    "    if scale:\n",
    "        stdev = np.std(instances,axis=0);\n",
    "        avg = np.mean(instances,axis=0);\n",
    "        for i in range(1, cols): # skip the ones column\n",
    "            instances[:,i] = (instances[:,i] - avg[i])/stdev[i];\n",
    "\n",
    "    # initialize a list to store the error at each iteration (for graphing). \n",
    "    errList = np.zeros(iterations);\n",
    "    \n",
    "    # run gradient descent for the given number of instances. \n",
    "    for i in range(iterations):\n",
    "        # Compute model for each instance: Multiply instance input matrix\n",
    "        # (n x m) by (m x 1) weight vector to get (n x 1) matrix of predictions.  \n",
    "        model = instances.dot(weights);\n",
    "        \n",
    "        # 5) For each instance D, compute the difference D_i between the target and the predicted value. \n",
    "        diff = (model - targets);\n",
    "        # 6) Update the weights w_1, w_2, ..., w_m. For each column position j: \n",
    "        for j in range(cols):\n",
    "          # 6.1) multiply each instance i's attribute value x_j by D_i\n",
    "          # 6.2) Sum the results of 6.1 together. \n",
    "            dJ = np.sum(diff * instances[:,j])\n",
    "          # 6.3) multiply 6.2's value by alpha and subract the result\n",
    "          # from w_j. This yields the new value for w_j\n",
    "            weights[j] = weights[j] - alpha*dJ\n",
    "        # add the error for this iteration to the stored list of errors.\n",
    "        errList[i] = err(model, targets)\n",
    "    return (weights, errList)"
   ]
  },
  {
   "cell_type": "code",
   "execution_count": 13,
   "metadata": {},
   "outputs": [],
   "source": [
    "# compute the mean squared error\n",
    "def err(model, targets):\n",
    "    it = np.sum((model - targets)*(model - targets))/len(targets)\n",
    "    return it"
   ]
  },
  {
   "cell_type": "code",
   "execution_count": 14,
   "metadata": {
    "scrolled": false
   },
   "outputs": [
    {
     "name": "stdout",
     "output_type": "stream",
     "text": [
      "coefficients: [300804.78600823  85375.98156016   1451.90625206]\n",
      "mse: 57200795712.55842\n"
     ]
    },
    {
     "data": {
      "image/png": "[encoded data removed]",
      "text/plain": [
       "<Figure size 432x288 with 1 Axes>"
      ]
     },
     "metadata": {
      "needs_background": "light"
     },
     "output_type": "display_data"
    }
   ],
   "source": [
    "df = pd.read_csv(filepath_or_buffer=house_data,header=0)\n",
    "data = df.values\n",
    "(w,e) = gradient_descent(data, 0.0005, 500)\n",
    "scaled_e = e[-1]\n",
    "print(\"coefficients:\", w)\n",
    "print(\"mse:\",scaled_e)\n",
    "plt.plot(e)\n",
    "plt.show()\n",
    "old_e = scaled_e"
   ]
  },
  {
   "cell_type": "markdown",
   "metadata": {},
   "source": [
    "## Unscaled\n"
   ]
  },
  {
   "cell_type": "code",
   "execution_count": 15,
   "metadata": {},
   "outputs": [
    {
     "name": "stdout",
     "output_type": "stream",
     "text": [
      "coefficients: [1.97511987e-01 1.29705073e+02 2.20925354e-02]\n",
      "mse: 58711376606.48234\n",
      "old: 57200795712.55842\n"
     ]
    },
    {
     "data": {
      "image/png": "[encoded data removed]",
      "text/plain": [
       "<Figure size 432x288 with 1 Axes>"
      ]
     },
     "metadata": {
      "needs_background": "light"
     },
     "output_type": "display_data"
    }
   ],
   "source": [
    "df2 = pd.read_csv(filepath_or_buffer=house_data,header=0)\n",
    "data2 = df2.values\n",
    "(w,e) = gradient_descent(data2, 00.0000000001, 200,scale=False)\n",
    "unscaled_e = e[-1]\n",
    "print(\"coefficients:\", w)\n",
    "print(\"mse:\", unscaled_e)\n",
    "print(\"old:\", old_e)\n",
    "\n",
    "plt.plot(e)\n",
    "plt.show()"
   ]
  },
  {
   "cell_type": "markdown",
   "metadata": {},
   "source": [
    "## Compare output to scikit-learn"
   ]
  },
  {
   "cell_type": "code",
   "execution_count": 16,
   "metadata": {},
   "outputs": [
    {
     "name": "stdout",
     "output_type": "stream",
     "text": [
      "scikit coefficients:  [85375.98156016  1451.90625206]\n",
      "scikit intercept:  300804.78600823047\n",
      "scikit mse: 57200795712.5584\n",
      "hand-rolled mse: 57200795712.55842\n",
      "hand/scikit 1.0000000000000002\n"
     ]
    }
   ],
   "source": [
    "from sklearn import linear_model\n",
    "import sklearn.metrics as metrics\n",
    "\n",
    "df3 = pd.read_csv(filepath_or_buffer=house_data,header=0)\n",
    "\n",
    "x_train=df3.values[:,:-1]\n",
    "y_train=df3.values[:,-1]\n",
    "\n",
    "avg = np.mean(x_train,axis=0);\n",
    "stdev = np.std(x_train,axis=0);\n",
    "for i in range(x_train.shape[1]): \n",
    "    x_train[:,i] = (x_train[:,i] - avg[i])/stdev[i]\n",
    "\n",
    "regr = linear_model.LinearRegression()\n",
    "# fit the data\n",
    "regr.fit(x_train, y_train)\n",
    "\n",
    "# print out the linear model\n",
    "print(\"scikit coefficients: \", regr.coef_)\n",
    "print(\"scikit intercept: \", regr.intercept_)\n",
    "\n",
    "e = metrics.mean_squared_error(y_train,regr.predict(x_train))\n",
    "print(\"scikit mse:\", e)\n",
    "print(\"hand-rolled mse:\",scaled_e)\n",
    "print(\"hand/scikit\", scaled_e/e)"
   ]
  },
  {
   "cell_type": "markdown",
   "metadata": {},
   "source": [
    "## scikit unscaled"
   ]
  },
  {
   "cell_type": "code",
   "execution_count": 17,
   "metadata": {},
   "outputs": [
    {
     "name": "stdout",
     "output_type": "stream",
     "text": [
      "coefficients:  [ 91.26137924 205.39784564]\n",
      "intercept:  99562.07394192755\n",
      "scikit mse: 57200795712.5584\n",
      "hand-rolled mse: 58711376606.48234\n",
      "hand/scikit 1.026408389518125\n"
     ]
    }
   ],
   "source": [
    "df4 = pd.read_csv(filepath_or_buffer=house_data,header=0)\n",
    "\n",
    "x_train=df4.values[:,:-1]\n",
    "y_train=df4.values[:,-1]\n",
    "\n",
    "regr = linear_model.LinearRegression()\n",
    "# fit the data\n",
    "regr.fit(x_train, y_train)\n",
    "\n",
    "# print out the linear model\n",
    "print(\"coefficients: \", regr.coef_)\n",
    "print(\"intercept: \", regr.intercept_)\n",
    "#compute predicted values on test test;\n",
    "predicted = regr.predict(x_train);\n",
    "\n",
    "e = metrics.mean_squared_error(y_train,regr.predict(x_train))\n",
    "print(\"scikit mse:\", e)\n",
    "print(\"hand-rolled mse:\",unscaled_e)\n",
    "print(\"hand/scikit\", unscaled_e/e)"
   ]
  }
 ],
 "metadata": {
  "kernelspec": {
   "display_name": "Python 3",
   "language": "python",
   "name": "python3"
  },
  "language_info": {
   "codemirror_mode": {
    "name": "ipython",
    "version": 3
   },
   "file_extension": ".py",
   "mimetype": "text/x-python",
   "name": "python",
   "nbconvert_exporter": "python",
   "pygments_lexer": "ipython3",
   "version": "3.7.6"
  }
 },
 "nbformat": 4,
 "nbformat_minor": 2
}
