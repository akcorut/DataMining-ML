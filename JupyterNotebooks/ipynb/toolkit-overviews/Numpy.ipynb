{
 "cells": [
  {
   "cell_type": "code",
   "execution_count": 1,
   "metadata": {},
   "outputs": [
    {
     "data": {
      "application/javascript": [
       "$.getScript('https://kmahelona.github.io/ipython_notebook_goodies/ipython_notebook_toc.js')\n"
      ],
      "text/plain": [
       "<IPython.core.display.Javascript object>"
      ]
     },
     "metadata": {},
     "output_type": "display_data"
    }
   ],
   "source": [
    "%%javascript\n",
    "$.getScript('https://kmahelona.github.io/ipython_notebook_goodies/ipython_notebook_toc.js')"
   ]
  },
  {
   "cell_type": "markdown",
   "metadata": {},
   "source": [
    "# Numpy\n",
    "\n",
    "Numpy (http://www.numpy.org/) is a Python software library providing support for the creation and manipulation of mult-dimensional arrays. These notes provide a brief overview of NumPy's features. More detail can be found in the NumPy Quickstart Tutorial.\n",
    "\n",
    "*  https://docs.scipy.org/doc/numpy/user/quickstart.html\n",
    "\n",
    "<h2 id=\"tocheading\">Table of Contents</h2>\n",
    "<div id=\"toc\"></div>"
   ]
  },
  {
   "cell_type": "markdown",
   "metadata": {},
   "source": [
    "## NumPy Arrays\n",
    "\n",
    "The fundamental data type defined by NumPy is the `ndarray`, or multi-dimensional array, which itself defines several fields, among them: \n",
    "\n",
    "  * `ndarray.ndim` the number of dimensions defined by the array. \n",
    "  * `ndarray.shape`, a tuple of integers indicating the cardinality of each dimension. \n",
    "  * `ndarray.size`, the number of elements in the array. \n",
    "  * `ndarray.dtype`, the data type of the array elements (e.g., ints, floats, etc. ). \n"
   ]
  },
  {
   "cell_type": "markdown",
   "metadata": {},
   "source": [
    "## Creating Arrays\n",
    "\n",
    "There are a number of way to create a new array, including arrays of 0s and 1s. There are also ways of creating new arrays by reshaping existing ones. "
   ]
  },
  {
   "cell_type": "code",
   "execution_count": 2,
   "metadata": {},
   "outputs": [
    {
     "name": "stdout",
     "output_type": "stream",
     "text": [
      "Array 0:\n",
      "----------------------------------------\n",
      "[[1 2 3]\n",
      " [4 5 6]\n",
      " [4 5 6]]\n",
      "dimensions: 2\n",
      "shape: (3, 3)\n",
      "size: 9\n",
      "dtype: int32\n",
      "\n",
      "\n",
      "Array 1:\n",
      "----------------------------------------\n",
      "[1. 2. 3. 4. 5.]\n",
      "dimensions: 1\n",
      "shape: (5,)\n",
      "size: 5\n",
      "dtype: float64\n",
      "\n",
      "\n",
      "Array 2:\n",
      "----------------------------------------\n",
      "[[1. 1.]\n",
      " [1. 1.]]\n",
      "dimensions: 2\n",
      "shape: (2, 2)\n",
      "size: 4\n",
      "dtype: float64\n",
      "\n",
      "\n",
      "Array 3:\n",
      "----------------------------------------\n",
      "[[0 0 0 0 0]\n",
      " [0 0 0 0 0]]\n",
      "dimensions: 2\n",
      "shape: (2, 5)\n",
      "size: 10\n",
      "dtype: int16\n",
      "\n",
      "\n",
      "Array 4:\n",
      "----------------------------------------\n",
      "[0 1 2 3 4 5 6 7 8 9]\n",
      "dimensions: 1\n",
      "shape: (10,)\n",
      "size: 10\n",
      "dtype: int32\n",
      "\n",
      "\n",
      "Array 5:\n",
      "----------------------------------------\n",
      "[0.  0.5 1.  1.5 2.  2.5 3.  3.5 4.  4.5 5.  5.5 6.  6.5 7.  7.5 8.  8.5\n",
      " 9.  9.5]\n",
      "dimensions: 1\n",
      "shape: (20,)\n",
      "size: 20\n",
      "dtype: float64\n",
      "\n",
      "\n",
      "Array 6:\n",
      "----------------------------------------\n",
      "[ 0.          3.33333333  6.66666667 10.         13.33333333 16.66666667\n",
      " 20.         23.33333333 26.66666667 30.        ]\n",
      "dimensions: 1\n",
      "shape: (10,)\n",
      "size: 10\n",
      "dtype: float64\n",
      "\n",
      "\n",
      "Array 7:\n",
      "----------------------------------------\n",
      "[[0.60786214 0.52534093 0.32309265]\n",
      " [0.02972667 0.69118515 0.73303984]]\n",
      "dimensions: 2\n",
      "shape: (2, 3)\n",
      "size: 6\n",
      "dtype: float64\n",
      "\n",
      "\n",
      "Array 8:\n",
      "----------------------------------------\n",
      "[[0 0 0 0 0 0 0 0 0 0]]\n",
      "dimensions: 2\n",
      "shape: (1, 10)\n",
      "size: 10\n",
      "dtype: int16\n",
      "\n",
      "\n"
     ]
    }
   ],
   "source": [
    "import numpy as np\n",
    "\n",
    "def describe_it(ar):\n",
    "    \"\"\"Print out a summary of an array.\"\"\"\n",
    "    print(f'dimensions: {ar.ndim}')\n",
    "    print(f'shape: {ar.shape}')\n",
    "    print(f'size: {ar.size}')\n",
    "    print(f'dtype: {ar.dtype}')\n",
    "\n",
    "line1 = [1,2,3]\n",
    "line2 = [4,5,6]\n",
    "\n",
    "array1 = np.array([line1,line2,line2]) # create a 2 x 3 array from the two lines. \n",
    "\n",
    "array2 = np.array((1,2,3,4,5), dtype=np.float64)  # create a 1x5 arrray of 64 bit floats. \n",
    "\n",
    "array3 = np.ones((2,2))  # create a 2x2 arrray of ones (floats, by default).\n",
    "\n",
    "array4 = np.zeros((2,5), dtype=np.int16)  # create a 2x5 arrray of integer zeros. \n",
    "\n",
    "array5 = np.arange(10) # create an ndarray of 10 elements (0-9)\n",
    "\n",
    "array6 = np.arange(0, 10, 0.5) # create an ndarray of 0 to 10 with step size of 0.5\n",
    "\n",
    "array7 = np.linspace(0, 30, 10) # create an ndarray of 10 numbers in range [0,30] \n",
    "\n",
    "array8 = np.random.rand(2,3) # create a 2x3 array with random numbers taken from uniform dist. [0,1]\n",
    "\n",
    "array9 =array4.reshape(1,10) # reshape array 4 into 1 row of 10. \n",
    "\n",
    "arrays = [array1, array2, array3, array4, array5, array6, array7, array8, array9]\n",
    "\n",
    "for i in range(len(arrays)):\n",
    "    array = arrays[i]\n",
    "    print(f'Array {i}:')\n",
    "    print('-'*40)\n",
    "    print(array)\n",
    "    describe_it(array)\n",
    "    print('\\n')\n",
    " "
   ]
  },
  {
   "cell_type": "markdown",
   "metadata": {},
   "source": [
    "## Numpy Arrays  don't mix datatypes\n",
    "\n",
    "The elements of an array will have a common data type. E.g., it is not possible to create an array holding values of both `int` and `str`. However, it is possible to create an array using values of different types. If the values are all numerical, the NumPy might be able to use a common numerical datatype. The use of strings will results in an array consisting entirely of strings. "
   ]
  },
  {
   "cell_type": "code",
   "execution_count": 3,
   "metadata": {},
   "outputs": [
    {
     "name": "stdout",
     "output_type": "stream",
     "text": [
      "\n",
      "Array 1:\n",
      "1 <class 'numpy.int32'>\n",
      "2 <class 'numpy.int32'>\n",
      "\n",
      "Array 2:\n",
      "1.0 <class 'numpy.float64'>\n",
      "2.0 <class 'numpy.float64'>\n",
      "\n",
      "Array 3:\n",
      "1 <class 'numpy.str_'>\n",
      "2 <class 'numpy.str_'>\n"
     ]
    }
   ],
   "source": [
    "data = np.array([1,2])\n",
    "print('\\nArray 1:')\n",
    "for i in data:\n",
    "    print(i,type(i))\n",
    "    \n",
    "data = np.array([1,2.0])\n",
    "print('\\nArray 2:')\n",
    "for i in data:\n",
    "    print(i,type(i))\n",
    "\n",
    "data = np.array([1,\"2\"])\n",
    "print('\\nArray 3:')\n",
    "for i in data:\n",
    "    print(i,type(i))\n"
   ]
  },
  {
   "cell_type": "markdown",
   "metadata": {},
   "source": [
    "## Basic Operations\n",
    "\n",
    "\n",
    "### Arithmetic Operations\n",
    "\n",
    "Many basic arithmetic operations have been defined for arrays. Note that when, e.g., adding arrays of different types, **upscaling** occurs. "
   ]
  },
  {
   "cell_type": "code",
   "execution_count": 4,
   "metadata": {},
   "outputs": [
    {
     "name": "stdout",
     "output_type": "stream",
     "text": [
      "a + b: [2. 2. 4. 4. 6.]\n",
      "a - b: [0. 2. 2. 4. 4.]\n",
      "a * b: [1. 0. 3. 0. 5.]\n",
      "a / b: [1.         0.         0.33333333 0.         0.2       ]\n",
      "----------------------------------------\n",
      "a + 10: [11 12 13 14 15]\n",
      "a - 10: [-9 -8 -7 -6 -5]\n",
      "a * 10: [10 20 30 40 50]\n",
      "a / 10: [0.1 0.2 0.3 0.4 0.5]\n",
      "a ** 10: [ 1  4  9 16 25]\n",
      "----------------------------------------\n",
      "a.c: [55]\n",
      "---------------------------------------- \n",
      "statistics over whole array (all elements)\n",
      "c min 1\n",
      "c max 5\n",
      "c sum 15\n",
      "c mean 3.0\n",
      "---------------------------------------- \n",
      "statistics by axis\n",
      "d min (columns) [10 20]\n",
      "d min (rows) [10 30 50 70]\n",
      "d max (columns) [70 80]\n",
      "d max (rows) [20 40 60 80]\n",
      "d sum (columns) [160 200]\n",
      "d sum (rows) [ 30  70 110 150]\n",
      "d mean (columns) [40. 50.]\n",
      "d mean (rows) [15. 35. 55. 75.]\n"
     ]
    }
   ],
   "source": [
    "a = np.array([1,2,3,4,5])\n",
    "b = np.array([1.0,0.0,1.0,0.0,1.0])\n",
    "\n",
    "print('a + b:', a + b)    # element-wise addition\n",
    "print('a - b:', a - b)    # element-wise subtraction\n",
    "print('a * b:', a * b)    # element-wise product\n",
    "print('a / b:', b / a)    # element-wise division\n",
    "print('-'*40)\n",
    "\n",
    "print('a + 10:', a + 10)   # scalar addition\n",
    "print('a - 10:',a - 10)   # scalar subtraction\n",
    "print('a * 10:',a * 10)   # scalar product\n",
    "print('a / 10:',a / 10)   # scalar division\n",
    "print('a ** 10:',a ** 2)   # scalar exponentiation\n",
    "\n",
    "print('-'*40)\n",
    "c = np.array([[1], [2], [3], [4], [5]])\n",
    "print('a.c:',a.dot(c)) # dot product of a and c. \n",
    "\n",
    "print('-'*40,'\\nstatistics over whole array (all elements)')\n",
    "\n",
    "print('c min', c.min())\n",
    "print('c max', c.max())\n",
    "print('c sum', c.sum())\n",
    "print('c mean', c.mean())\n",
    "\n",
    "print('-'*40,'\\nstatistics by axis')\n",
    "d = np.array([[10,20], [30,40], [50,60], [70,80]])\n",
    "\n",
    "print('d min (columns)', d.min(axis =0))\n",
    "print('d min (rows)', d.min(axis =1))\n",
    "print('d max (columns)', d.max(axis =0))\n",
    "print('d max (rows)', d.max(axis =1))\n",
    "print('d sum (columns)', d.sum(axis =0))\n",
    "print('d sum (rows)', d.sum(axis =1))\n",
    "print('d mean (columns)', d.mean(axis =0))\n",
    "print('d mean (rows)', d.mean(axis =1))\n",
    "\n"
   ]
  },
  {
   "cell_type": "markdown",
   "metadata": {},
   "source": [
    "\n",
    "## Indexing and Slicing\n",
    "\n",
    "We can access individual elements of arrays as well as \"slices\" using square brackets and `:`. "
   ]
  },
  {
   "cell_type": "code",
   "execution_count": 5,
   "metadata": {},
   "outputs": [
    {
     "name": "stdout",
     "output_type": "stream",
     "text": [
      "----------------------------------------\n",
      "array:\n",
      "[[ 0  1  2  3  4  5  6  7  8  9]\n",
      " [10 11 12 13 14 15 16 17 18 19]\n",
      " [20 21 22 23 24 25 26 27 28 29]\n",
      " [30 31 32 33 34 35 36 37 38 39]\n",
      " [40 41 42 43 44 45 46 47 48 49]]\n",
      "----------------------------------------\n",
      "first row:\n",
      "[0 1 2 3 4 5 6 7 8 9]\n",
      "----------------------------------------\n",
      "rows 2-4\n",
      "[[20 21 22 23 24 25 26 27 28 29]\n",
      " [30 31 32 33 34 35 36 37 38 39]\n",
      " [40 41 42 43 44 45 46 47 48 49]]\n",
      "----------------------------------------\n",
      "2nd element of 2nd row\n",
      "11\n",
      "----------------------------------------\n",
      "every element of column 4\n",
      "[ 4 14 24 34 44]\n",
      "----------------------------------------\n",
      "every element of columns 2 and 3\n",
      "[[ 2  3]\n",
      " [12 13]\n",
      " [22 23]\n",
      " [32 33]\n",
      " [42 43]]\n"
     ]
    }
   ],
   "source": [
    "a =  np.arange(50).reshape(5,10) \n",
    "\n",
    "print('-'*40)\n",
    "print(\"array:\")\n",
    "print(a)\n",
    "print('-'*40)\n",
    "print(\"first row:\")\n",
    "print(a[0]) \n",
    "print('-'*40)\n",
    "print(\"rows 2-4\")\n",
    "print(a[2:]) \n",
    "print('-'*40)\n",
    "print(\"2nd element of 2nd row\")\n",
    "print(a[1,1])\n",
    "print('-'*40)\n",
    "print(\"every element of column 4\")\n",
    "print(a[:,4])\n",
    "print('-'*40)\n",
    "print(\"every element of columns 2 and 3\")\n",
    "print(a[:,2:4])"
   ]
  },
  {
   "cell_type": "code",
   "execution_count": 6,
   "metadata": {},
   "outputs": [
    {
     "name": "stdout",
     "output_type": "stream",
     "text": [
      "[ 1  4  7 10]\n"
     ]
    }
   ],
   "source": [
    "a = np.array([1,2,3,4,5,6,7,8,9,10])\n",
    "print(a[0:10:3]) # Note the step size of 3"
   ]
  },
  {
   "cell_type": "markdown",
   "metadata": {},
   "source": [
    "## Dot notation: `...`\n",
    "\n",
    "In a multidimensional array, `...` can be used to stand for multiple instances of `:`, enough to form a complete index in an expression. "
   ]
  },
  {
   "cell_type": "code",
   "execution_count": 7,
   "metadata": {},
   "outputs": [
    {
     "name": "stdout",
     "output_type": "stream",
     "text": [
      "----------------------------------------\n",
      "[[[ 0  1  2]\n",
      "  [ 3  4  5]\n",
      "  [ 6  7  8]]\n",
      "\n",
      " [[ 9 10 11]\n",
      "  [12 13 14]\n",
      "  [15 16 17]]\n",
      "\n",
      " [[18 19 20]\n",
      "  [21 22 23]\n",
      "  [24 25 26]]]\n",
      "----------------------------------------\n",
      "first: \n",
      "[[ 9 10 11]\n",
      " [12 13 14]\n",
      " [15 16 17]]\n",
      "----------------------------------------\n",
      "second: \n",
      "[12 13 14]\n",
      "----------------------------------------\n",
      "third: \n",
      "[[ 2  5  8]\n",
      " [11 14 17]\n",
      " [20 23 26]]\n"
     ]
    }
   ],
   "source": [
    "a = np.arange(27).reshape(3,3,3) # create a 3x3x3 array with ints 0-26\n",
    "\n",
    "print('-'*40)\n",
    "print(a)\n",
    "print('-'*40)\n",
    "print(\"first: \")\n",
    "print(a[1,...]) # same as a[1,:,:]\n",
    "\n",
    "print('-'*40)\n",
    "print(\"second: \")\n",
    "print(a[1,1,...]) # same as a[1,1,:]\n",
    "print('-'*40)\n",
    "print(\"third: \")\n",
    "print(a[...,2]) # same as a[:,:,2]\n"
   ]
  },
  {
   "cell_type": "markdown",
   "metadata": {},
   "source": [
    "## Iterating and flattening\n",
    "\n",
    "Iterating over all elemetns of a multidimensional array is easy, and there is a builtin method for flattening an array. "
   ]
  },
  {
   "cell_type": "code",
   "execution_count": 8,
   "metadata": {},
   "outputs": [
    {
     "name": "stdout",
     "output_type": "stream",
     "text": [
      "[[ 0  1  2  3  4  5  6  7  8  9]\n",
      " [10 11 12 13 14 15 16 17 18 19]\n",
      " [20 21 22 23 24 25 26 27 28 29]]\n",
      "----------------------------------------\n",
      "0 1 2 3 4 5 6 7 8 9 10 11 12 13 14 15 16 17 18 19 20 21 22 23 24 25 26 27 28 29 \n",
      "----------------------------------------\n",
      "0 1 2 3 4 5 6 7 8 9 10 11 12 13 14 15 16 17 18 19 20 21 22 23 24 25 26 27 28 29 "
     ]
    }
   ],
   "source": [
    "a = np.arange(30).reshape(3,10) \n",
    "print(a)\n",
    "print('-'*40)\n",
    "# to iterate over each element in a 2D array. \n",
    "for e in a.flat:\n",
    "    print(e,end=' ')\n",
    "\n",
    "print()\n",
    "print('-'*40)\n",
    "\n",
    "# alternatively, flatten beforehand\n",
    "b = a.flatten()\n",
    "for e in b:\n",
    "    print(e,end=' ')\n",
    "    \n"
   ]
  },
  {
   "cell_type": "markdown",
   "metadata": {},
   "source": [
    "## Reshaping, Recomposition\n",
    "\n",
    "As noted earlier, arrays can be reshaped using `reshape`. To transpose an array, use `.T`."
   ]
  },
  {
   "cell_type": "code",
   "execution_count": 9,
   "metadata": {},
   "outputs": [
    {
     "name": "stdout",
     "output_type": "stream",
     "text": [
      "a\n",
      "[[1 2 3 4]\n",
      " [5 6 7 8]]\n",
      "----------------------------------------\n",
      "a reshaped\n",
      "[[[1 2]\n",
      "  [3 4]]\n",
      "\n",
      " [[5 6]\n",
      "  [7 8]]]\n",
      "----------------------------------------\n",
      "a transposed\n",
      "[[1 5]\n",
      " [2 6]\n",
      " [3 7]\n",
      " [4 8]]\n"
     ]
    }
   ],
   "source": [
    "a = np.array([[1,2,3,4], [5,6,7,8]])\n",
    "print(\"a\")\n",
    "print(a)\n",
    "print('-'*40)\n",
    "print(\"a reshaped\")\n",
    "print(a.reshape(2,2,2))\n",
    "print('-'*40)\n",
    "print(\"a transposed\")\n",
    "print(a.T)\n"
   ]
  },
  {
   "cell_type": "markdown",
   "metadata": {},
   "source": [
    "Arrays can also be combined, or \"stacked\"."
   ]
  },
  {
   "cell_type": "code",
   "execution_count": 10,
   "metadata": {},
   "outputs": [
    {
     "name": "stdout",
     "output_type": "stream",
     "text": [
      "[[ 1  2  3  4  5]\n",
      " [ 6  7  8  9 10]\n",
      " [11 12 13 14 15]]\n",
      "----------------------------------------\n",
      "[ 1  2  3  4  5  6  7  8  9 10 11 12 13 14 15]\n"
     ]
    }
   ],
   "source": [
    "a = np.array([1,2,3,4,5])\n",
    "b = np.array([6,7,8,9,10])\n",
    "c = np.array([11,12,13,14,15])\n",
    "d = np.vstack((a,b,c))\n",
    "print(d)\n",
    "print('-'*40)\n",
    "e = np.hstack((a,b,c))\n",
    "print(e)"
   ]
  },
  {
   "cell_type": "markdown",
   "metadata": {},
   "source": [
    "## Deep and Shallow Copying\n",
    "\n",
    "Some operations return a new array composed of the very same (in memory) elements of another array, though rearranged. Other operations return an array that contains copies of the elements. Still other operations manipulate the original array but do not make a copy. \n",
    "\n",
    "Knowing when each of these occurs is very important, especially when manipulating large amounts of data, but it is not always easy to discern which has occurred. In general, however:\n",
    "\n",
    "*  **variable assignments** (i.e., assigning an array to a variable) do not copy array objects. \n",
    "*  **function calls** using arrays as arguments do not result in a copy of the array (merely a reference to the array is passed). \n",
    "*  **arithmetic operations** on arrays generally produce new arrays. Altering the new array does not alter the orginal. \n",
    "*  **slicing** an array creates a **view** (a shallow copy) of an array. The two arrays share elements, so that changing an element in one changes the other. \n",
    "\n"
   ]
  },
  {
   "cell_type": "code",
   "execution_count": 11,
   "metadata": {},
   "outputs": [
    {
     "name": "stdout",
     "output_type": "stream",
     "text": [
      "a\n",
      "[[100   2   3   4]\n",
      " [  5   6 200   8]]\n",
      "----------------------------------------\n",
      "b\n",
      "[[100   2   3]\n",
      " [  5   6 200]]\n",
      "----------------------------------------\n",
      "c\n",
      "[[300   2   3]\n",
      " [  5   6   7]]\n"
     ]
    }
   ],
   "source": [
    "a = np.array([[1,2,3,4], [5,6,7,8]])\n",
    "b = a[:,0:3]  # create a slice of a and stored it in b. \n",
    "c = b.copy() # create a deep copy of b. \n",
    "b[0,0] = 100 # this will change a, too. \n",
    "c[0,0] = 300 # this won't change a or b. \n",
    "a[1,2] = 200 # this will change b, too. \n",
    "print(\"a\")\n",
    "print(a)\n",
    "print('-'*40)\n",
    "print(\"b\")\n",
    "print(b)\n",
    "print('-'*40)\n",
    "print(\"c\")\n",
    "print(c)"
   ]
  },
  {
   "cell_type": "markdown",
   "metadata": {},
   "source": [
    "The below illustrates that arithmetic operations yield copies. "
   ]
  },
  {
   "cell_type": "code",
   "execution_count": 12,
   "metadata": {
    "scrolled": true
   },
   "outputs": [
    {
     "name": "stdout",
     "output_type": "stream",
     "text": [
      "a [1 2 3 4 5]\n",
      "b [100  12  13  14  15]\n",
      "c [110 120 130 140 150]\n"
     ]
    }
   ],
   "source": [
    "a = np.array([1,2,3,4,5])\n",
    "b = a + 10\n",
    "c = b * 10\n",
    "b[0] = 100\n",
    "print('a', a)\n",
    "print('b', b)\n",
    "print('c', c)"
   ]
  },
  {
   "cell_type": "markdown",
   "metadata": {},
   "source": [
    "Note that altering b has no affect on a, even b is the result of a scalar addition on a.  "
   ]
  }
 ],
 "metadata": {
  "kernelspec": {
   "display_name": "Python 3",
   "language": "python",
   "name": "python3"
  },
  "language_info": {
   "codemirror_mode": {
    "name": "ipython",
    "version": 3
   },
   "file_extension": ".py",
   "mimetype": "text/x-python",
   "name": "python",
   "nbconvert_exporter": "python",
   "pygments_lexer": "ipython3",
   "version": "3.7.6"
  }
 },
 "nbformat": 4,
 "nbformat_minor": 2
}
