{
 "cells": [
  {
   "cell_type": "markdown",
   "metadata": {},
   "source": [
    "# Brief introduction to NLTK\n",
    "\n",
    "NLTK (the Natural Language Toookit) is a collection of Python libraries for processing text. Tokenizers, word-stemmers and lemmatizers, part-of-speech taggers, and many other tools are defined. \n",
    "\n",
    "* **Website**: https://www.nltk.org/ \n",
    "* **Free book**: \tSteven Bird, Ewan Klein, and Edward Loper. *Natural Language Processing with Python -- Analyzing Text with the Natural Language Toolkit*. https://www.nltk.org/book/"
   ]
  },
  {
   "cell_type": "code",
   "execution_count": 68,
   "metadata": {},
   "outputs": [],
   "source": [
    "import string\n",
    "import nltk\n",
    "from nltk.corpus import stopwords, wordnet\n",
    "from nltk.tokenize import sent_tokenize, word_tokenize\n",
    "from nltk.stem import PorterStemmer, WordNetLemmatizer\n",
    "import matplotlib.pyplot as plt"
   ]
  },
  {
   "cell_type": "markdown",
   "metadata": {},
   "source": [
    "### Some helpful functions"
   ]
  },
  {
   "cell_type": "code",
   "execution_count": 88,
   "metadata": {},
   "outputs": [],
   "source": [
    "def read_file(f, lower=True):\n",
    "    \"\"\"Simple wrapper to read a file.\"\"\"\n",
    "    with open(f) as reader:\n",
    "        text = reader.read()\n",
    "        if lower:\n",
    "            return text.lower()\n",
    "        return text\n",
    "\n",
    "def get_tokens(text):\n",
    "    tokens= text.split()\n",
    "    return cleanup(tokens)\n",
    "    \n",
    "def cleanup(tokens):\n",
    "    \"\"\"Use some basic python to clean up tokens.\n",
    "    stopwords, punctuation, digits are removed.\"\"\"\n",
    "    stop = stopwords.words('english')\n",
    "    toremove = string.punctuation + \"0123456789\" + string.whitespace\n",
    "    tab = \"\".maketrans(\"\", \"\", toremove)\n",
    "    tokens = [t.translate(tab) for t in tokens]\n",
    "    return remove_tokens(tokens, stop)\n",
    "    \n",
    "def word_frequency(tokens):\n",
    "    \"\"\"Plot the most common tokens in the text.\n",
    "    The distribution is returned.\"\"\"\n",
    "    dist = nltk.FreqDist(tokens)\n",
    "    dist.plot(25, cumulative=False)\n",
    "    return dist\n",
    "\n",
    "def sort_dist(dist):\n",
    "    return sorted(dist.items(), key=lambda x: x[1], reverse=True)\n",
    "\n",
    "def remove_tokens(tokens, stopwords):\n",
    "    \"\"\"Takes a list of tokens and returns a list with provided stopwords removed.\"\"\"\n",
    "    return [t for t in tokens if t not in stopwords]"
   ]
  },
  {
   "cell_type": "markdown",
   "metadata": {},
   "source": [
    "### Tokenize a file and plot word frequencies\n",
    "\n",
    "This uses Python string methods to tokenize a file and remove unwanted tokens. Afterwards, NLTK is used to plot word frequencies."
   ]
  },
  {
   "cell_type": "code",
   "execution_count": 89,
   "metadata": {},
   "outputs": [],
   "source": [
    "def word_tokenization_1(text):\n",
    "    \"\"\"Tokenize a string using split and use NLTK to compute word frequencies.\n",
    "    A sorted list of pairs is returned (descending order of frequency).\n",
    "    \"\"\"\n",
    "    tokens = get_tokens(text)\n",
    "    dist = word_frequency(tokens)\n",
    "    return sort_dist(dist)"
   ]
  },
  {
   "cell_type": "code",
   "execution_count": 90,
   "metadata": {},
   "outputs": [
    {
     "data": {
      "image/png": "[encoded data removed]",
      "text/plain": [
       "<Figure size 432x288 with 1 Axes>"
      ]
     },
     "metadata": {
      "needs_background": "light"
     },
     "output_type": "display_data"
    },
    {
     "name": "stdout",
     "output_type": "stream",
     "text": [
      "whale\t966\n",
      "one\t892\n",
      "like\t574\n",
      "upon\t567\n",
      "old\t442\n",
      "man\t435\n",
      "\t427\n",
      "would\t427\n",
      "ye\t421\n",
      "ahab\t420\n",
      "whales\t397\n",
      "ship\t384\n",
      "sea\t379\n",
      "though\t363\n",
      "yet\t339\n",
      "time\t323\n",
      "long\t316\n",
      "chapter\t308\n",
      "still\t307\n",
      "great\t305\n",
      "said\t294\n",
      "captain\t293\n",
      "must\t291\n",
      "two\t283\n",
      "seemed\t281\n"
     ]
    }
   ],
   "source": [
    "moby = \"c:/test/moby_dick.txt\"\n",
    "moby_text = read_file(moby)\n",
    "\n",
    "freq = word_tokenization_1(moby_text)\n",
    "for i in range(25):\n",
    "    print(f'{freq[i][0]}\\t{freq[i][1]}')"
   ]
  },
  {
   "cell_type": "markdown",
   "metadata": {},
   "source": [
    "## NLTK Tokenizers\n",
    "\n",
    "NLTK has tokenizers for splitting text into sentences (based on capitalization and punctuation) and into words. "
   ]
  },
  {
   "cell_type": "code",
   "execution_count": 91,
   "metadata": {},
   "outputs": [],
   "source": [
    "def sentence_tokenization_exp(text):\n",
    "    \"\"\"Split text into sentences using NLTK sentence tokenizer.\n",
    "    Print out 10 sentences, starting at index 1000. \n",
    "    \"\"\"\n",
    "    sentences = sent_tokenize(text)\n",
    "    for i in range(1000, 1010):\n",
    "        print(f'<{sentences[i]}>')"
   ]
  },
  {
   "cell_type": "code",
   "execution_count": 92,
   "metadata": {},
   "outputs": [
    {
     "name": "stdout",
     "output_type": "stream",
     "text": [
      "<it needs scarcely to be told, with what feelings, on the eve of a\n",
      "nantucket voyage, i regarded those marble tablets, and by the murky\n",
      "light of that darkened, doleful day read the fate of the whalemen who\n",
      "had gone before me.>\n",
      "<yes, ishmael, the same fate may be thine.>\n",
      "<but\n",
      "somehow i grew merry again.>\n",
      "<delightful inducements to embark, fine\n",
      "chance for promotion, it seems—aye, a stove boat will make me an\n",
      "immortal by brevet.>\n",
      "<yes, there is death in this business of whaling—a\n",
      "speechlessly quick chaotic bundling of a man into eternity.>\n",
      "<but what\n",
      "then?>\n",
      "<methinks we have hugely mistaken this matter of life and death.>\n",
      "<methinks that what they call my shadow here on earth is my true\n",
      "substance.>\n",
      "<methinks that in looking at things spiritual, we are too\n",
      "much like oysters observing the sun through the water, and thinking\n",
      "that thick water the thinnest of air.>\n",
      "<methinks my body is but the lees\n",
      "of my better being.>\n"
     ]
    }
   ],
   "source": [
    "sentence_tokenization_exp(moby_text)"
   ]
  },
  {
   "cell_type": "code",
   "execution_count": 93,
   "metadata": {},
   "outputs": [],
   "source": [
    "def word_tokenization_2(sent):\n",
    "    \"\"\"Split text into sentences using NLTK sentence tokenizer.\n",
    "    Print out 10 sentences, starting at index 1000. \n",
    "    \"\"\"\n",
    "    words = word_tokenize(sent)\n",
    "    for w in words:\n",
    "        print(f'<{w}>')"
   ]
  },
  {
   "cell_type": "code",
   "execution_count": 94,
   "metadata": {},
   "outputs": [
    {
     "name": "stdout",
     "output_type": "stream",
     "text": [
      "<The>\n",
      "<number>\n",
      "<1>\n",
      "<comes>\n",
      "<after>\n",
      "<0.5>\n",
      "<.>\n"
     ]
    }
   ],
   "source": [
    "word_tokenization_2(\"The number 1 comes after 0.5.\")"
   ]
  },
  {
   "cell_type": "markdown",
   "metadata": {},
   "source": [
    "Compare this to our earlier method of tokenization."
   ]
  },
  {
   "cell_type": "code",
   "execution_count": 95,
   "metadata": {},
   "outputs": [
    {
     "name": "stdout",
     "output_type": "stream",
     "text": [
      "<The>\n",
      "<number>\n",
      "<>\n",
      "<comes>\n",
      "<>\n"
     ]
    }
   ],
   "source": [
    "tokens = get_tokens(\"The number 1 comes after 0.5.\")\n",
    "for w in tokens:\n",
    "    print(f'<{w}>')"
   ]
  },
  {
   "cell_type": "markdown",
   "metadata": {},
   "source": [
    "### Using wordnet synsets"
   ]
  },
  {
   "cell_type": "code",
   "execution_count": 96,
   "metadata": {},
   "outputs": [],
   "source": [
    "def wordnet_exp(text):\n",
    "    \"\"\"Wordnet synsets\n",
    "    \"\"\"\n",
    "    tokens= text.split()\n",
    "    tokens = cleanup(tokens)\n",
    "    dist = nltk.FreqDist(tokens)\n",
    "    sort = sort_dist(dist)\n",
    "    for i in range(10):\n",
    "        tok = sort[i][0]\n",
    "        syns = wordnet.synsets(tok)\n",
    "        print(tok)\n",
    "        for syn in syns:\n",
    "            print(f'\\t{syn.definition()}')"
   ]
  },
  {
   "cell_type": "code",
   "execution_count": 98,
   "metadata": {},
   "outputs": [
    {
     "name": "stdout",
     "output_type": "stream",
     "text": [
      "whale\n",
      "\ta very large person; impressive in size or qualities\n",
      "\tany of the larger cetacean mammals having a streamlined body and breathing through a blowhole on the head\n",
      "\thunt for whales\n",
      "one\n",
      "\tthe smallest whole number or a numeral representing this number\n",
      "\ta single person or thing\n",
      "\tused of a single unit or thing; not two or more\n",
      "\thaving the indivisible character of a unit\n",
      "\tof the same kind or quality\n",
      "\tused informally as an intensifier\n",
      "\tindefinite in time or position\n",
      "\tbeing a single entity made by combining separate components\n",
      "\teminent beyond or above comparison\n",
      "like\n",
      "\ta similar kind\n",
      "\ta kind of person\n",
      "\tprefer or wish to do something\n",
      "\tfind enjoyable or agreeable\n",
      "\tbe fond of\n",
      "\tfeel about or towards; consider, evaluate, or regard\n",
      "\twant to have\n",
      "\tresembling or similar; having the same or some of the same characteristics; often used in combination\n",
      "\tequal in amount or value\n",
      "\thaving the same or similar characteristics\n",
      "\tconforming in every respect\n",
      "upon\n",
      "old\n",
      "\tpast times (especially in the phrase `in days of old')\n",
      "\t(used especially of persons) having lived for a relatively long time or attained a specific age\n",
      "\tof long duration; not new\n",
      "\t(used for emphasis) very familiar\n",
      "\tskilled through long experience\n",
      "\tbelonging to some prior time\n",
      "\t(used informally especially for emphasis)\n",
      "\tof a very early stage in development\n",
      "\tjust preceding something else in time or order\n",
      "man\n",
      "\tan adult person who is male (as opposed to a woman)\n",
      "\tsomeone who serves in the armed forces; a member of a military force\n",
      "\tthe generic use of the word to refer to any human being\n",
      "\tany living or extinct member of the family Hominidae characterized by superior intelligence, articulate speech, and erect carriage\n",
      "\ta male subordinate\n",
      "\tan adult male person who has a manly character (virile and courageous competent)\n",
      "\ta manservant who acts as a personal attendant to his employer\n",
      "\ta male person who plays a significant role (husband or lover or boyfriend) in the life of a particular woman\n",
      "\tone of the British Isles in the Irish Sea\n",
      "\tgame equipment consisting of an object used in playing certain board games\n",
      "\tall of the living human inhabitants of the earth\n",
      "\ttake charge of a certain job; occupy a certain work place\n",
      "\tprovide with workers\n",
      "\n",
      "would\n",
      "ye\n",
      "ahab\n",
      "\taccording to the Old Testament he was a pagan king of Israel and husband of Jezebel (9th century BC)\n"
     ]
    }
   ],
   "source": [
    "wordnet_exp(moby_text)"
   ]
  },
  {
   "cell_type": "markdown",
   "metadata": {},
   "source": [
    "## Stemming"
   ]
  },
  {
   "cell_type": "code",
   "execution_count": 101,
   "metadata": {},
   "outputs": [],
   "source": [
    "def stemmer_exp(text):\n",
    "    \"\"\"Using a Porter Stemmer\n",
    "    \"\"\"\n",
    "    tokens= text.split()\n",
    "    stemmer = PorterStemmer()\n",
    "    stemmed = [(tok,stemmer.stem(tok)) for tok in tokens]\n",
    "    for (tok,ste) in stemmed:\n",
    "        print(f'{tok}\\t->\\t{ste}')"
   ]
  },
  {
   "cell_type": "code",
   "execution_count": 107,
   "metadata": {},
   "outputs": [
    {
     "name": "stdout",
     "output_type": "stream",
     "text": [
      "run\t->\trun\n",
      "running\t->\trun\n",
      "ran\t->\tran\n",
      "jump\t->\tjump\n",
      "jumping\t->\tjump\n",
      "jumper\t->\tjumper\n",
      "jumped\t->\tjump\n",
      "big\t->\tbig\n",
      "bigger\t->\tbigger\n",
      "biggest\t->\tbiggest\n",
      "bigly\t->\tbigli\n",
      "compile\t->\tcompil\n",
      "compiler\t->\tcompil\n",
      "compiling\t->\tcompil\n"
     ]
    }
   ],
   "source": [
    "text = \"run running ran jump jumping jumper jumped big bigger biggest bigly compile compiler compiling\"\n",
    "stemmer_exp(text)"
   ]
  },
  {
   "cell_type": "markdown",
   "metadata": {},
   "source": [
    "## Lemmatizer"
   ]
  },
  {
   "cell_type": "code",
   "execution_count": 118,
   "metadata": {},
   "outputs": [],
   "source": [
    "def lemmatizer_exp(text):\n",
    "    \"\"\"Using a WordNetLemmatizer\n",
    "    \"\"\"\n",
    "    tokens= text.split()\n",
    "    pos = ['n', 'v', 'a', 'r']\n",
    "    lem = WordNetLemmatizer()    \n",
    "    for p in pos:\n",
    "        print(p)\n",
    "        print('-'*30)\n",
    "        lemmatized = [(tok,lem.lemmatize(tok,pos=p)) for tok in tokens]\n",
    "        for (tok,ste) in lemmatized:\n",
    "            X = 'X'\n",
    "            if tok == ste:\n",
    "                X = ''\n",
    "            print(f'{X}\\t{tok}\\t->\\t{ste}')"
   ]
  },
  {
   "cell_type": "code",
   "execution_count": 121,
   "metadata": {},
   "outputs": [
    {
     "name": "stdout",
     "output_type": "stream",
     "text": [
      "n\n",
      "------------------------------\n",
      "\trun\t->\trun\n",
      "X\truns\t->\trun\n",
      "\trunning\t->\trunning\n",
      "\tran,\t->\tran,\n",
      "\ttall\t->\ttall\n",
      "\ttallest\t->\ttallest\n",
      "\tquick\t->\tquick\n",
      "\tquickest\t->\tquickest\n",
      "\tquickly\t->\tquickly\n",
      "v\n",
      "------------------------------\n",
      "\trun\t->\trun\n",
      "X\truns\t->\trun\n",
      "X\trunning\t->\trun\n",
      "\tran,\t->\tran,\n",
      "\ttall\t->\ttall\n",
      "\ttallest\t->\ttallest\n",
      "\tquick\t->\tquick\n",
      "\tquickest\t->\tquickest\n",
      "\tquickly\t->\tquickly\n",
      "a\n",
      "------------------------------\n",
      "\trun\t->\trun\n",
      "\truns\t->\truns\n",
      "\trunning\t->\trunning\n",
      "\tran,\t->\tran,\n",
      "\ttall\t->\ttall\n",
      "X\ttallest\t->\ttall\n",
      "\tquick\t->\tquick\n",
      "X\tquickest\t->\tquick\n",
      "\tquickly\t->\tquickly\n",
      "r\n",
      "------------------------------\n",
      "\trun\t->\trun\n",
      "\truns\t->\truns\n",
      "\trunning\t->\trunning\n",
      "\tran,\t->\tran,\n",
      "\ttall\t->\ttall\n",
      "\ttallest\t->\ttallest\n",
      "\tquick\t->\tquick\n",
      "\tquickest\t->\tquickest\n",
      "\tquickly\t->\tquickly\n"
     ]
    }
   ],
   "source": [
    "text = \"run runs running ran, tall tallest quick quickest quickly\"\n",
    "lemmatizer_exp(text)"
   ]
  },
  {
   "cell_type": "markdown",
   "metadata": {},
   "source": [
    "### Part of Speech Tagging"
   ]
  },
  {
   "cell_type": "code",
   "execution_count": 139,
   "metadata": {},
   "outputs": [
    {
     "name": "stdout",
     "output_type": "stream",
     "text": [
      "('The', 'DT')\n",
      "DT: determiner\n",
      "    all an another any both del each either every half la many much nary\n",
      "    neither no some such that the them these this those\n",
      "('very', 'RB')\n",
      "RB: adverb\n",
      "    occasionally unabatingly maddeningly adventurously professedly\n",
      "    stirringly prominently technologically magisterially predominately\n",
      "    swiftly fiscally pitilessly ...\n",
      "('first', 'JJ')\n",
      "JJ: adjective or numeral, ordinal\n",
      "    third ill-mannered pre-war regrettable oiled calamitous first separable\n",
      "    ectoplasmic battery-powered participatory fourth still-to-be-named\n",
      "    multilingual multi-disciplinary ...\n",
      "('run', 'NN')\n",
      "NN: noun, common, singular or mass\n",
      "    common-carrier cabbage knuckle-duster Casino afghan shed thermostat\n",
      "    investment slide humour falloff slick wind hyena override subhumanity\n",
      "    machinist ...\n",
      "('was', 'VBD')\n",
      "VBD: verb, past tense\n",
      "    dipped pleaded swiped regummed soaked tidied convened halted registered\n",
      "    cushioned exacted snubbed strode aimed adopted belied figgered\n",
      "    speculated wore appreciated contemplated ...\n",
      "('unsuccessful', 'JJ')\n",
      "JJ: adjective or numeral, ordinal\n",
      "    third ill-mannered pre-war regrettable oiled calamitous first separable\n",
      "    ectoplasmic battery-powered participatory fourth still-to-be-named\n",
      "    multilingual multi-disciplinary ...\n",
      "('.', '.')\n",
      ".: sentence terminator\n",
      "    . ! ?\n"
     ]
    }
   ],
   "source": [
    "tokens = word_tokenize(\"The very first run was unsuccessful. \")\n",
    "tagged = nltk.pos_tag(tokens)\n",
    "for pair in tagged:\n",
    "    print(pair)\n",
    "    nltk.help.upenn_tagset(pair[1])"
   ]
  },
  {
   "cell_type": "code",
   "execution_count": 141,
   "metadata": {},
   "outputs": [
    {
     "name": "stdout",
     "output_type": "stream",
     "text": [
      "('3.14', 'CD')\n",
      "CD: numeral, cardinal\n",
      "    mid-1890 nine-thirty forty-two one-tenth ten million 0.5 one forty-\n",
      "    seven 1987 twenty '79 zero two 78-degrees eighty-four IX '60s .025\n",
      "    fifteen 271,124 dozen quintillion DM2,000 ...\n",
      "('is', 'VBZ')\n",
      "VBZ: verb, present tense, 3rd person singular\n",
      "    bases reconstructs marks mixes displeases seals carps weaves snatches\n",
      "    slumps stretches authorizes smolders pictures emerges stockpiles\n",
      "    seduces fizzes uses bolsters slaps speaks pleads ...\n",
      "('a', 'DT')\n",
      "DT: determiner\n",
      "    all an another any both del each either every half la many much nary\n",
      "    neither no some such that the them these this those\n",
      "('real', 'JJ')\n",
      "JJ: adjective or numeral, ordinal\n",
      "    third ill-mannered pre-war regrettable oiled calamitous first separable\n",
      "    ectoplasmic battery-powered participatory fourth still-to-be-named\n",
      "    multilingual multi-disciplinary ...\n",
      "('number', 'NN')\n",
      "NN: noun, common, singular or mass\n",
      "    common-carrier cabbage knuckle-duster Casino afghan shed thermostat\n",
      "    investment slide humour falloff slick wind hyena override subhumanity\n",
      "    machinist ...\n",
      "(',', ',')\n",
      ",: comma\n",
      "    ,\n",
      "('and', 'CC')\n",
      "CC: conjunction, coordinating\n",
      "    & 'n and both but either et for less minus neither nor or plus so\n",
      "    therefore times v. versus vs. whether yet\n",
      "('so', 'RB')\n",
      "RB: adverb\n",
      "    occasionally unabatingly maddeningly adventurously professedly\n",
      "    stirringly prominently technologically magisterially predominately\n",
      "    swiftly fiscally pitilessly ...\n",
      "('is', 'VBZ')\n",
      "VBZ: verb, present tense, 3rd person singular\n",
      "    bases reconstructs marks mixes displeases seals carps weaves snatches\n",
      "    slumps stretches authorizes smolders pictures emerges stockpiles\n",
      "    seduces fizzes uses bolsters slaps speaks pleads ...\n",
      "('3e10', 'CD')\n",
      "CD: numeral, cardinal\n",
      "    mid-1890 nine-thirty forty-two one-tenth ten million 0.5 one forty-\n",
      "    seven 1987 twenty '79 zero two 78-degrees eighty-four IX '60s .025\n",
      "    fifteen 271,124 dozen quintillion DM2,000 ...\n",
      "('.', '.')\n",
      ".: sentence terminator\n",
      "    . ! ?\n"
     ]
    }
   ],
   "source": [
    "tokens = word_tokenize(\"3.14 is a real number, and so is 3e14.\")\n",
    "tagged = nltk.pos_tag(tokens)\n",
    "for pair in tagged:\n",
    "    print(pair)\n",
    "    nltk.help.upenn_tagset(pair[1])"
   ]
  },
  {
   "cell_type": "code",
   "execution_count": 140,
   "metadata": {},
   "outputs": [
    {
     "name": "stdout",
     "output_type": "stream",
     "text": [
      "$: dollar\n",
      "    $ -$ --$ A$ C$ HK$ M$ NZ$ S$ U.S.$ US$\n",
      "'': closing quotation mark\n",
      "    ' ''\n",
      "(: opening parenthesis\n",
      "    ( [ {\n",
      "): closing parenthesis\n",
      "    ) ] }\n",
      ",: comma\n",
      "    ,\n",
      "--: dash\n",
      "    --\n",
      ".: sentence terminator\n",
      "    . ! ?\n",
      ":: colon or ellipsis\n",
      "    : ; ...\n",
      "CC: conjunction, coordinating\n",
      "    & 'n and both but either et for less minus neither nor or plus so\n",
      "    therefore times v. versus vs. whether yet\n",
      "CD: numeral, cardinal\n",
      "    mid-1890 nine-thirty forty-two one-tenth ten million 0.5 one forty-\n",
      "    seven 1987 twenty '79 zero two 78-degrees eighty-four IX '60s .025\n",
      "    fifteen 271,124 dozen quintillion DM2,000 ...\n",
      "DT: determiner\n",
      "    all an another any both del each either every half la many much nary\n",
      "    neither no some such that the them these this those\n",
      "EX: existential there\n",
      "    there\n",
      "FW: foreign word\n",
      "    gemeinschaft hund ich jeux habeas Haementeria Herr K'ang-si vous\n",
      "    lutihaw alai je jour objets salutaris fille quibusdam pas trop Monte\n",
      "    terram fiche oui corporis ...\n",
      "IN: preposition or conjunction, subordinating\n",
      "    astride among uppon whether out inside pro despite on by throughout\n",
      "    below within for towards near behind atop around if like until below\n",
      "    next into if beside ...\n",
      "JJ: adjective or numeral, ordinal\n",
      "    third ill-mannered pre-war regrettable oiled calamitous first separable\n",
      "    ectoplasmic battery-powered participatory fourth still-to-be-named\n",
      "    multilingual multi-disciplinary ...\n",
      "JJR: adjective, comparative\n",
      "    bleaker braver breezier briefer brighter brisker broader bumper busier\n",
      "    calmer cheaper choosier cleaner clearer closer colder commoner costlier\n",
      "    cozier creamier crunchier cuter ...\n",
      "JJS: adjective, superlative\n",
      "    calmest cheapest choicest classiest cleanest clearest closest commonest\n",
      "    corniest costliest crassest creepiest crudest cutest darkest deadliest\n",
      "    dearest deepest densest dinkiest ...\n",
      "LS: list item marker\n",
      "    A A. B B. C C. D E F First G H I J K One SP-44001 SP-44002 SP-44005\n",
      "    SP-44007 Second Third Three Two * a b c d first five four one six three\n",
      "    two\n",
      "MD: modal auxiliary\n",
      "    can cannot could couldn't dare may might must need ought shall should\n",
      "    shouldn't will would\n",
      "NN: noun, common, singular or mass\n",
      "    common-carrier cabbage knuckle-duster Casino afghan shed thermostat\n",
      "    investment slide humour falloff slick wind hyena override subhumanity\n",
      "    machinist ...\n",
      "NNP: noun, proper, singular\n",
      "    Motown Venneboerger Czestochwa Ranzer Conchita Trumplane Christos\n",
      "    Oceanside Escobar Kreisler Sawyer Cougar Yvette Ervin ODI Darryl CTCA\n",
      "    Shannon A.K.C. Meltex Liverpool ...\n",
      "NNPS: noun, proper, plural\n",
      "    Americans Americas Amharas Amityvilles Amusements Anarcho-Syndicalists\n",
      "    Andalusians Andes Andruses Angels Animals Anthony Antilles Antiques\n",
      "    Apache Apaches Apocrypha ...\n",
      "NNS: noun, common, plural\n",
      "    undergraduates scotches bric-a-brac products bodyguards facets coasts\n",
      "    divestitures storehouses designs clubs fragrances averages\n",
      "    subjectivists apprehensions muses factory-jobs ...\n",
      "PDT: pre-determiner\n",
      "    all both half many quite such sure this\n",
      "POS: genitive marker\n",
      "    ' 's\n",
      "PRP: pronoun, personal\n",
      "    hers herself him himself hisself it itself me myself one oneself ours\n",
      "    ourselves ownself self she thee theirs them themselves they thou thy us\n",
      "PRP$: pronoun, possessive\n",
      "    her his mine my our ours their thy your\n",
      "RB: adverb\n",
      "    occasionally unabatingly maddeningly adventurously professedly\n",
      "    stirringly prominently technologically magisterially predominately\n",
      "    swiftly fiscally pitilessly ...\n",
      "RBR: adverb, comparative\n",
      "    further gloomier grander graver greater grimmer harder harsher\n",
      "    healthier heavier higher however larger later leaner lengthier less-\n",
      "    perfectly lesser lonelier longer louder lower more ...\n",
      "RBS: adverb, superlative\n",
      "    best biggest bluntest earliest farthest first furthest hardest\n",
      "    heartiest highest largest least less most nearest second tightest worst\n",
      "RP: particle\n",
      "    aboard about across along apart around aside at away back before behind\n",
      "    by crop down ever fast for forth from go high i.e. in into just later\n",
      "    low more off on open out over per pie raising start teeth that through\n",
      "    under unto up up-pp upon whole with you\n",
      "SYM: symbol\n",
      "    % & ' '' ''. ) ). * + ,. < = > @ A[fj] U.S U.S.S.R * ** ***\n",
      "TO: \"to\" as preposition or infinitive marker\n",
      "    to\n",
      "UH: interjection\n",
      "    Goodbye Goody Gosh Wow Jeepers Jee-sus Hubba Hey Kee-reist Oops amen\n",
      "    huh howdy uh dammit whammo shucks heck anyways whodunnit honey golly\n",
      "    man baby diddle hush sonuvabitch ...\n",
      "VB: verb, base form\n",
      "    ask assemble assess assign assume atone attention avoid bake balkanize\n",
      "    bank begin behold believe bend benefit bevel beware bless boil bomb\n",
      "    boost brace break bring broil brush build ...\n",
      "VBD: verb, past tense\n",
      "    dipped pleaded swiped regummed soaked tidied convened halted registered\n",
      "    cushioned exacted snubbed strode aimed adopted belied figgered\n",
      "    speculated wore appreciated contemplated ...\n",
      "VBG: verb, present participle or gerund\n",
      "    telegraphing stirring focusing angering judging stalling lactating\n",
      "    hankerin' alleging veering capping approaching traveling besieging\n",
      "    encrypting interrupting erasing wincing ...\n",
      "VBN: verb, past participle\n",
      "    multihulled dilapidated aerosolized chaired languished panelized used\n",
      "    experimented flourished imitated reunifed factored condensed sheared\n",
      "    unsettled primed dubbed desired ...\n",
      "VBP: verb, present tense, not 3rd person singular\n",
      "    predominate wrap resort sue twist spill cure lengthen brush terminate\n",
      "    appear tend stray glisten obtain comprise detest tease attract\n",
      "    emphasize mold postpone sever return wag ...\n",
      "VBZ: verb, present tense, 3rd person singular\n",
      "    bases reconstructs marks mixes displeases seals carps weaves snatches\n",
      "    slumps stretches authorizes smolders pictures emerges stockpiles\n",
      "    seduces fizzes uses bolsters slaps speaks pleads ...\n",
      "WDT: WH-determiner\n",
      "    that what whatever which whichever\n",
      "WP: WH-pronoun\n",
      "    that what whatever whatsoever which who whom whosoever\n",
      "WP$: WH-pronoun, possessive\n",
      "    whose\n",
      "WRB: Wh-adverb\n",
      "    how however whence whenever where whereby whereever wherein whereof why\n",
      "``: opening quotation mark\n",
      "    ` ``\n"
     ]
    }
   ],
   "source": [
    "nltk.help.upenn_tagset()"
   ]
  },
  {
   "cell_type": "code",
   "execution_count": null,
   "metadata": {},
   "outputs": [],
   "source": []
  }
 ],
 "metadata": {
  "kernelspec": {
   "display_name": "Python 3",
   "language": "python",
   "name": "python3"
  },
  "language_info": {
   "codemirror_mode": {
    "name": "ipython",
    "version": 3
   },
   "file_extension": ".py",
   "mimetype": "text/x-python",
   "name": "python",
   "nbconvert_exporter": "python",
   "pygments_lexer": "ipython3",
   "version": "3.7.6"
  }
 },
 "nbformat": 4,
 "nbformat_minor": 2
}
